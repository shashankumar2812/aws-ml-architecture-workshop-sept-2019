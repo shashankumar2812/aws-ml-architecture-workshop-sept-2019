{
 "cells": [
  {
   "cell_type": "markdown",
   "metadata": {},
   "source": [
    "## Introduction\n",
    "\n",
    "This notebook outlines how to build a Recommendation system using SageMaker's Factorization Machines (FM) and KNN. This is outcome of a 3 day workshop at AWS NYC Office(from Sept 18th-20th, 2019). \n",
    "\n",
    "There are following parts to this notebook:\n",
    "\n",
    "1. Building a FM Model\n",
    "2. Hyperparameter Tuning\n",
    "3. Hyperparameter Tuning Analysis\n",
    "3. Repackaging FM Model to fit a KNN Model\n",
    "4. Building a KNN model\n",
    "5. Running Batch Transform for predicting top \"X\" items\n",
    "6. Deploying the model to an endpoint\n",
    "\n",
    "This Notebook can be easily extended to create a production-ready Recommendation System with a couple of modifications. I have been able to customize it to prototype a production-ready version of User-Based Recommendations on a real dataset in these 3 days."
   ]
  },
  {
   "cell_type": "code",
   "execution_count": 6,
   "metadata": {},
   "outputs": [],
   "source": [
    "import json\n",
    "import sagemaker\n",
    "import sagemaker.amazon.common as smac\n",
    "from sagemaker import get_execution_role\n",
    "from sagemaker.predictor import json_deserializer\n",
    "from sagemaker.amazon.amazon_estimator import get_image_uri\n",
    "from sagemaker.tuner import IntegerParameter, CategoricalParameter, ContinuousParameter, HyperparameterTuner\n",
    "import numpy as np\n",
    "from scipy.sparse import lil_matrix, csr_matrix\n",
    "import pandas as pd\n",
    "import boto3, io, os"
   ]
  },
  {
   "cell_type": "code",
   "execution_count": 43,
   "metadata": {},
   "outputs": [],
   "source": [
    "random_state=101\n",
    "sess = sagemaker.Session()\n",
    "bucket = \"bucket name\"\n",
    "base = 'movie-lens'\n",
    "stage = \"dev\"\n",
    "data_prefix = f\"/{stage}/data/{base}\"\n",
    "\n",
    "role = sagemaker.get_execution_role()"
   ]
  },
  {
   "cell_type": "markdown",
   "metadata": {},
   "source": [
    "# 1. Data Preparation"
   ]
  },
  {
   "cell_type": "markdown",
   "metadata": {},
   "source": [
    "## Download movie rating data from movie lens"
   ]
  },
  {
   "cell_type": "code",
   "execution_count": 6,
   "metadata": {},
   "outputs": [
    {
     "name": "stdout",
     "output_type": "stream",
     "text": [
      "--2019-09-22 19:05:14--  http://files.grouplens.org/datasets/movielens/ml-100k.zip\n",
      "Resolving files.grouplens.org (files.grouplens.org)... 128.101.65.152\n",
      "Connecting to files.grouplens.org (files.grouplens.org)|128.101.65.152|:80... connected.\n",
      "HTTP request sent, awaiting response... 200 OK\n",
      "Length: 4924029 (4.7M) [application/zip]\n",
      "Saving to: ‘ml-100k.zip.2’\n",
      "\n",
      "ml-100k.zip.2       100%[===================>]   4.70M  5.92MB/s    in 0.8s    \n",
      "\n",
      "2019-09-22 19:05:15 (5.92 MB/s) - ‘ml-100k.zip.2’ saved [4924029/4924029]\n",
      "\n",
      "Archive:  ml-100k.zip\n",
      "  inflating: ml-100k/allbut.pl       \n",
      "  inflating: ml-100k/mku.sh          \n",
      "  inflating: ml-100k/README          \n",
      "  inflating: ml-100k/u.data          \n",
      "  inflating: ml-100k/u.genre         \n",
      "  inflating: ml-100k/u.info          \n",
      "  inflating: ml-100k/u.item          \n",
      "  inflating: ml-100k/u.occupation    \n",
      "  inflating: ml-100k/u.user          \n",
      "  inflating: ml-100k/u1.base         \n",
      "  inflating: ml-100k/u1.test         \n",
      "  inflating: ml-100k/u2.base         \n",
      "  inflating: ml-100k/u2.test         \n",
      "  inflating: ml-100k/u3.base         \n",
      "  inflating: ml-100k/u3.test         \n",
      "  inflating: ml-100k/u4.base         \n",
      "  inflating: ml-100k/u4.test         \n",
      "  inflating: ml-100k/u5.base         \n",
      "  inflating: ml-100k/u5.test         \n",
      "  inflating: ml-100k/ua.base         \n",
      "  inflating: ml-100k/ua.test         \n",
      "  inflating: ml-100k/ub.base         \n",
      "  inflating: ml-100k/ub.test         \n"
     ]
    }
   ],
   "source": [
    "\n",
    "#download data\n",
    "!wget http://files.grouplens.org/datasets/movielens/ml-100k.zip\n",
    "!unzip -o ml-100k.zip"
   ]
  },
  {
   "cell_type": "markdown",
   "metadata": {},
   "source": [
    "## Shuffle Data"
   ]
  },
  {
   "cell_type": "code",
   "execution_count": 30,
   "metadata": {},
   "outputs": [
    {
     "name": "stdout",
     "output_type": "stream",
     "text": [
      "/home/ec2-user/SageMaker/ml-100k\n"
     ]
    }
   ],
   "source": [
    "%cd ml-100k\n",
    "!shuf ua.base -o ua.base.shuffled"
   ]
  },
  {
   "cell_type": "markdown",
   "metadata": {},
   "source": [
    "## Load Data"
   ]
  },
  {
   "cell_type": "code",
   "execution_count": 31,
   "metadata": {},
   "outputs": [
    {
     "data": {
      "text/html": [
       "<div>\n",
       "<style scoped>\n",
       "    .dataframe tbody tr th:only-of-type {\n",
       "        vertical-align: middle;\n",
       "    }\n",
       "\n",
       "    .dataframe tbody tr th {\n",
       "        vertical-align: top;\n",
       "    }\n",
       "\n",
       "    .dataframe thead th {\n",
       "        text-align: right;\n",
       "    }\n",
       "</style>\n",
       "<table border=\"1\" class=\"dataframe\">\n",
       "  <thead>\n",
       "    <tr style=\"text-align: right;\">\n",
       "      <th></th>\n",
       "      <th>user_id</th>\n",
       "      <th>movie_id</th>\n",
       "      <th>rating</th>\n",
       "    </tr>\n",
       "  </thead>\n",
       "  <tbody>\n",
       "    <tr>\n",
       "      <th>0</th>\n",
       "      <td>454</td>\n",
       "      <td>203</td>\n",
       "      <td>2</td>\n",
       "    </tr>\n",
       "    <tr>\n",
       "      <th>1</th>\n",
       "      <td>42</td>\n",
       "      <td>48</td>\n",
       "      <td>5</td>\n",
       "    </tr>\n",
       "    <tr>\n",
       "      <th>2</th>\n",
       "      <td>345</td>\n",
       "      <td>405</td>\n",
       "      <td>4</td>\n",
       "    </tr>\n",
       "    <tr>\n",
       "      <th>3</th>\n",
       "      <td>407</td>\n",
       "      <td>484</td>\n",
       "      <td>4</td>\n",
       "    </tr>\n",
       "    <tr>\n",
       "      <th>4</th>\n",
       "      <td>938</td>\n",
       "      <td>255</td>\n",
       "      <td>1</td>\n",
       "    </tr>\n",
       "  </tbody>\n",
       "</table>\n",
       "</div>"
      ],
      "text/plain": [
       "   user_id  movie_id  rating\n",
       "0  454      203       2     \n",
       "1  42       48        5     \n",
       "2  345      405       4     \n",
       "3  407      484       4     \n",
       "4  938      255       1     "
      ]
     },
     "execution_count": 31,
     "metadata": {},
     "output_type": "execute_result"
    }
   ],
   "source": [
    "df = pd.read_csv('ua.base.shuffled', sep='\\t', index_col=False, \n",
    "                 names=['user_id' , 'movie_id' , 'rating'])\n",
    "df.head()"
   ]
  },
  {
   "cell_type": "markdown",
   "metadata": {},
   "source": [
    "# Feature Engineering\n",
    "\n",
    "Instead of 5 categories, we are changing the problem to binary classification problem where ratings less than 4 are 0 and more than 4 are 1."
   ]
  },
  {
   "cell_type": "code",
   "execution_count": 32,
   "metadata": {},
   "outputs": [],
   "source": [
    "mask = (df.rating<=4)\n",
    "df.loc[mask, \"rating\"]=0\n",
    "df.loc[~mask, \"rating\"]=1"
   ]
  },
  {
   "cell_type": "code",
   "execution_count": 33,
   "metadata": {},
   "outputs": [
    {
     "data": {
      "text/html": [
       "<div>\n",
       "<style scoped>\n",
       "    .dataframe tbody tr th:only-of-type {\n",
       "        vertical-align: middle;\n",
       "    }\n",
       "\n",
       "    .dataframe tbody tr th {\n",
       "        vertical-align: top;\n",
       "    }\n",
       "\n",
       "    .dataframe thead th {\n",
       "        text-align: right;\n",
       "    }\n",
       "</style>\n",
       "<table border=\"1\" class=\"dataframe\">\n",
       "  <thead>\n",
       "    <tr style=\"text-align: right;\">\n",
       "      <th></th>\n",
       "      <th>user_id</th>\n",
       "      <th>movie_id</th>\n",
       "      <th>rating</th>\n",
       "    </tr>\n",
       "  </thead>\n",
       "  <tbody>\n",
       "    <tr>\n",
       "      <th>0</th>\n",
       "      <td>454</td>\n",
       "      <td>203</td>\n",
       "      <td>0</td>\n",
       "    </tr>\n",
       "    <tr>\n",
       "      <th>1</th>\n",
       "      <td>42</td>\n",
       "      <td>48</td>\n",
       "      <td>1</td>\n",
       "    </tr>\n",
       "    <tr>\n",
       "      <th>2</th>\n",
       "      <td>345</td>\n",
       "      <td>405</td>\n",
       "      <td>0</td>\n",
       "    </tr>\n",
       "    <tr>\n",
       "      <th>3</th>\n",
       "      <td>407</td>\n",
       "      <td>484</td>\n",
       "      <td>0</td>\n",
       "    </tr>\n",
       "    <tr>\n",
       "      <th>4</th>\n",
       "      <td>938</td>\n",
       "      <td>255</td>\n",
       "      <td>0</td>\n",
       "    </tr>\n",
       "  </tbody>\n",
       "</table>\n",
       "</div>"
      ],
      "text/plain": [
       "   user_id  movie_id  rating\n",
       "0  454      203       0     \n",
       "1  42       48        1     \n",
       "2  345      405       0     \n",
       "3  407      484       0     \n",
       "4  938      255       0     "
      ]
     },
     "execution_count": 33,
     "metadata": {},
     "output_type": "execute_result"
    }
   ],
   "source": [
    "df.head(5)"
   ]
  },
  {
   "cell_type": "code",
   "execution_count": 35,
   "metadata": {},
   "outputs": [
    {
     "data": {
      "image/png": "[encoded data removed]",
      "text/plain": [
       "<Figure size 432x288 with 1 Axes>"
      ]
     },
     "metadata": {},
     "output_type": "display_data"
    }
   ],
   "source": [
    "from matplotlib import pyplot\n",
    "\n",
    "pyplot.hist(df.rating)\n",
    "pyplot.show()"
   ]
  },
  {
   "cell_type": "code",
   "execution_count": 36,
   "metadata": {},
   "outputs": [
    {
     "data": {
      "text/plain": [
       "0    71522\n",
       "1    19048\n",
       "Name: rating, dtype: int64"
      ]
     },
     "execution_count": 36,
     "metadata": {},
     "output_type": "execute_result"
    }
   ],
   "source": [
    "df.rating.value_counts()"
   ]
  },
  {
   "cell_type": "markdown",
   "metadata": {},
   "source": [
    "### Utility function for calculating Fuction execution time"
   ]
  },
  {
   "cell_type": "code",
   "execution_count": 37,
   "metadata": {},
   "outputs": [],
   "source": [
    "import time\n",
    "from functools import wraps\n",
    "\n",
    "def timeit(f):\n",
    "    @wraps(f)\n",
    "    def wrapper(*args,**kwargs):\n",
    "        start_time = time.time()\n",
    "        result = f(*args,**kwargs)\n",
    "        elapsed_time = time.time()-start_time\n",
    "        print(\"Elapsed computation time: {:.3f} secs\".format(elapsed_time))\n",
    "        return (elapsed_time, result)\n",
    "    return wrapper"
   ]
  },
  {
   "cell_type": "markdown",
   "metadata": {},
   "source": [
    "### FM Input\n",
    "\n",
    "Input to FM is a one-hot encoded sparse matrix. "
   ]
  },
  {
   "cell_type": "markdown",
   "metadata": {},
   "source": [
    "# Dealing with Outliers"
   ]
  },
  {
   "cell_type": "markdown",
   "metadata": {},
   "source": [
    "## Removing users who have watched <5 movies and items which have <10 viewers"
   ]
  },
  {
   "cell_type": "code",
   "execution_count": 38,
   "metadata": {},
   "outputs": [],
   "source": [
    "users = df['user_id'].value_counts()\n",
    "titles = df['movie_id'].value_counts()"
   ]
  },
  {
   "cell_type": "code",
   "execution_count": 39,
   "metadata": {},
   "outputs": [],
   "source": [
    "users = users[users >= 5]\n",
    "titles = titles[titles >= 10]\n",
    "\n",
    "reduced_df = df.merge(pd.DataFrame({'user_id': users.index})).merge(pd.DataFrame({'movie_id': titles.index}))"
   ]
  },
  {
   "cell_type": "markdown",
   "metadata": {},
   "source": [
    "## Creating incremental index for users and items"
   ]
  },
  {
   "cell_type": "code",
   "execution_count": 40,
   "metadata": {},
   "outputs": [
    {
     "data": {
      "text/html": [
       "<div>\n",
       "<style scoped>\n",
       "    .dataframe tbody tr th:only-of-type {\n",
       "        vertical-align: middle;\n",
       "    }\n",
       "\n",
       "    .dataframe tbody tr th {\n",
       "        vertical-align: top;\n",
       "    }\n",
       "\n",
       "    .dataframe thead th {\n",
       "        text-align: right;\n",
       "    }\n",
       "</style>\n",
       "<table border=\"1\" class=\"dataframe\">\n",
       "  <thead>\n",
       "    <tr style=\"text-align: right;\">\n",
       "      <th></th>\n",
       "      <th>user_id</th>\n",
       "      <th>movie_id</th>\n",
       "      <th>rating</th>\n",
       "      <th>user</th>\n",
       "      <th>item</th>\n",
       "    </tr>\n",
       "  </thead>\n",
       "  <tbody>\n",
       "    <tr>\n",
       "      <th>0</th>\n",
       "      <td>454</td>\n",
       "      <td>203</td>\n",
       "      <td>0</td>\n",
       "      <td>0</td>\n",
       "      <td>0</td>\n",
       "    </tr>\n",
       "    <tr>\n",
       "      <th>1</th>\n",
       "      <td>42</td>\n",
       "      <td>203</td>\n",
       "      <td>0</td>\n",
       "      <td>1</td>\n",
       "      <td>0</td>\n",
       "    </tr>\n",
       "    <tr>\n",
       "      <th>2</th>\n",
       "      <td>407</td>\n",
       "      <td>203</td>\n",
       "      <td>0</td>\n",
       "      <td>2</td>\n",
       "      <td>0</td>\n",
       "    </tr>\n",
       "    <tr>\n",
       "      <th>3</th>\n",
       "      <td>72</td>\n",
       "      <td>203</td>\n",
       "      <td>0</td>\n",
       "      <td>3</td>\n",
       "      <td>0</td>\n",
       "    </tr>\n",
       "    <tr>\n",
       "      <th>4</th>\n",
       "      <td>405</td>\n",
       "      <td>203</td>\n",
       "      <td>0</td>\n",
       "      <td>4</td>\n",
       "      <td>0</td>\n",
       "    </tr>\n",
       "  </tbody>\n",
       "</table>\n",
       "</div>"
      ],
      "text/plain": [
       "   user_id  movie_id  rating  user  item\n",
       "0  454      203       0       0     0   \n",
       "1  42       203       0       1     0   \n",
       "2  407      203       0       2     0   \n",
       "3  72       203       0       3     0   \n",
       "4  405      203       0       4     0   "
      ]
     },
     "execution_count": 40,
     "metadata": {},
     "output_type": "execute_result"
    }
   ],
   "source": [
    "user = {}\n",
    "for index, value in enumerate(reduced_df.user_id.unique().tolist()):\n",
    "    if value not in user:\n",
    "        user[value] = index\n",
    "        \n",
    "item = {}\n",
    "for index, value in enumerate(reduced_df.movie_id.unique().tolist()):\n",
    "    if value not in item:\n",
    "        item[value] = index\n",
    "\n",
    "reduced_df['user'] = reduced_df['user_id'].map(user)\n",
    "reduced_df['item'] = reduced_df['movie_id'].map(item)\n",
    "reduced_df.head()"
   ]
  },
  {
   "cell_type": "code",
   "execution_count": 41,
   "metadata": {},
   "outputs": [
    {
     "data": {
      "text/html": [
       "<div>\n",
       "<style scoped>\n",
       "    .dataframe tbody tr th:only-of-type {\n",
       "        vertical-align: middle;\n",
       "    }\n",
       "\n",
       "    .dataframe tbody tr th {\n",
       "        vertical-align: top;\n",
       "    }\n",
       "\n",
       "    .dataframe thead th {\n",
       "        text-align: right;\n",
       "    }\n",
       "</style>\n",
       "<table border=\"1\" class=\"dataframe\">\n",
       "  <thead>\n",
       "    <tr style=\"text-align: right;\">\n",
       "      <th></th>\n",
       "      <th>user_id</th>\n",
       "      <th>movie_id</th>\n",
       "      <th>rating</th>\n",
       "      <th>user</th>\n",
       "      <th>item</th>\n",
       "    </tr>\n",
       "  </thead>\n",
       "  <tbody>\n",
       "    <tr>\n",
       "      <th>count</th>\n",
       "      <td>88478.000000</td>\n",
       "      <td>88478.000000</td>\n",
       "      <td>88478.000000</td>\n",
       "      <td>88478.000000</td>\n",
       "      <td>88478.000000</td>\n",
       "    </tr>\n",
       "    <tr>\n",
       "      <th>mean</th>\n",
       "      <td>461.698422</td>\n",
       "      <td>409.516467</td>\n",
       "      <td>0.213059</td>\n",
       "      <td>280.956091</td>\n",
       "      <td>378.159520</td>\n",
       "    </tr>\n",
       "    <tr>\n",
       "      <th>std</th>\n",
       "      <td>266.181032</td>\n",
       "      <td>309.536824</td>\n",
       "      <td>0.409471</td>\n",
       "      <td>233.823483</td>\n",
       "      <td>287.862816</td>\n",
       "    </tr>\n",
       "    <tr>\n",
       "      <th>min</th>\n",
       "      <td>1.000000</td>\n",
       "      <td>1.000000</td>\n",
       "      <td>0.000000</td>\n",
       "      <td>0.000000</td>\n",
       "      <td>0.000000</td>\n",
       "    </tr>\n",
       "    <tr>\n",
       "      <th>25%</th>\n",
       "      <td>256.000000</td>\n",
       "      <td>173.000000</td>\n",
       "      <td>0.000000</td>\n",
       "      <td>87.000000</td>\n",
       "      <td>140.000000</td>\n",
       "    </tr>\n",
       "    <tr>\n",
       "      <th>50%</th>\n",
       "      <td>445.000000</td>\n",
       "      <td>318.000000</td>\n",
       "      <td>0.000000</td>\n",
       "      <td>214.000000</td>\n",
       "      <td>308.000000</td>\n",
       "    </tr>\n",
       "    <tr>\n",
       "      <th>75%</th>\n",
       "      <td>682.000000</td>\n",
       "      <td>607.000000</td>\n",
       "      <td>0.000000</td>\n",
       "      <td>444.000000</td>\n",
       "      <td>562.000000</td>\n",
       "    </tr>\n",
       "    <tr>\n",
       "      <th>max</th>\n",
       "      <td>943.000000</td>\n",
       "      <td>1615.000000</td>\n",
       "      <td>1.000000</td>\n",
       "      <td>942.000000</td>\n",
       "      <td>1131.000000</td>\n",
       "    </tr>\n",
       "  </tbody>\n",
       "</table>\n",
       "</div>"
      ],
      "text/plain": [
       "            user_id      movie_id        rating          user          item\n",
       "count  88478.000000  88478.000000  88478.000000  88478.000000  88478.000000\n",
       "mean   461.698422    409.516467    0.213059      280.956091    378.159520  \n",
       "std    266.181032    309.536824    0.409471      233.823483    287.862816  \n",
       "min    1.000000      1.000000      0.000000      0.000000      0.000000    \n",
       "25%    256.000000    173.000000    0.000000      87.000000     140.000000  \n",
       "50%    445.000000    318.000000    0.000000      214.000000    308.000000  \n",
       "75%    682.000000    607.000000    0.000000      444.000000    562.000000  \n",
       "max    943.000000    1615.000000   1.000000      942.000000    1131.000000 "
      ]
     },
     "execution_count": 41,
     "metadata": {},
     "output_type": "execute_result"
    }
   ],
   "source": [
    "reduced_df.describe()"
   ]
  },
  {
   "cell_type": "markdown",
   "metadata": {},
   "source": [
    "## Train test Split"
   ]
  },
  {
   "cell_type": "code",
   "execution_count": 44,
   "metadata": {},
   "outputs": [],
   "source": [
    "from sklearn.model_selection import train_test_split\n",
    "\n",
    "X = reduced_df.drop([\"rating\"], axis=1)\n",
    "y = reduced_df[\"rating\"]\n",
    "\n",
    "X_train, X_test, y_train, y_test = train_test_split(X, y, test_size=0.20, random_state=random_state)\n",
    "X_train, X_val, y_train, y_val = train_test_split(X_train, y_train, test_size=0.2, random_state=random_state)"
   ]
  },
  {
   "cell_type": "code",
   "execution_count": 45,
   "metadata": {},
   "outputs": [],
   "source": [
    "num_users=X.user.nunique()\n",
    "num_items=X.item.nunique()\n",
    "feature_dim = num_users + num_items"
   ]
  },
  {
   "cell_type": "code",
   "execution_count": 46,
   "metadata": {},
   "outputs": [
    {
     "data": {
      "text/html": [
       "<div>\n",
       "<style scoped>\n",
       "    .dataframe tbody tr th:only-of-type {\n",
       "        vertical-align: middle;\n",
       "    }\n",
       "\n",
       "    .dataframe tbody tr th {\n",
       "        vertical-align: top;\n",
       "    }\n",
       "\n",
       "    .dataframe thead th {\n",
       "        text-align: right;\n",
       "    }\n",
       "</style>\n",
       "<table border=\"1\" class=\"dataframe\">\n",
       "  <thead>\n",
       "    <tr style=\"text-align: right;\">\n",
       "      <th></th>\n",
       "      <th>user_id</th>\n",
       "      <th>movie_id</th>\n",
       "      <th>user</th>\n",
       "      <th>item</th>\n",
       "    </tr>\n",
       "  </thead>\n",
       "  <tbody>\n",
       "    <tr>\n",
       "      <th>35085</th>\n",
       "      <td>183</td>\n",
       "      <td>380</td>\n",
       "      <td>166</td>\n",
       "      <td>230</td>\n",
       "    </tr>\n",
       "    <tr>\n",
       "      <th>67478</th>\n",
       "      <td>605</td>\n",
       "      <td>340</td>\n",
       "      <td>426</td>\n",
       "      <td>587</td>\n",
       "    </tr>\n",
       "    <tr>\n",
       "      <th>28286</th>\n",
       "      <td>933</td>\n",
       "      <td>238</td>\n",
       "      <td>201</td>\n",
       "      <td>186</td>\n",
       "    </tr>\n",
       "    <tr>\n",
       "      <th>28956</th>\n",
       "      <td>412</td>\n",
       "      <td>169</td>\n",
       "      <td>447</td>\n",
       "      <td>190</td>\n",
       "    </tr>\n",
       "    <tr>\n",
       "      <th>32321</th>\n",
       "      <td>360</td>\n",
       "      <td>302</td>\n",
       "      <td>191</td>\n",
       "      <td>210</td>\n",
       "    </tr>\n",
       "  </tbody>\n",
       "</table>\n",
       "</div>"
      ],
      "text/plain": [
       "       user_id  movie_id  user  item\n",
       "35085  183      380       166   230 \n",
       "67478  605      340       426   587 \n",
       "28286  933      238       201   186 \n",
       "28956  412      169       447   190 \n",
       "32321  360      302       191   210 "
      ]
     },
     "execution_count": 46,
     "metadata": {},
     "output_type": "execute_result"
    }
   ],
   "source": [
    "X_train.head()"
   ]
  },
  {
   "cell_type": "code",
   "execution_count": 47,
   "metadata": {},
   "outputs": [
    {
     "data": {
      "text/html": [
       "<div>\n",
       "<style scoped>\n",
       "    .dataframe tbody tr th:only-of-type {\n",
       "        vertical-align: middle;\n",
       "    }\n",
       "\n",
       "    .dataframe tbody tr th {\n",
       "        vertical-align: top;\n",
       "    }\n",
       "\n",
       "    .dataframe thead th {\n",
       "        text-align: right;\n",
       "    }\n",
       "</style>\n",
       "<table border=\"1\" class=\"dataframe\">\n",
       "  <thead>\n",
       "    <tr style=\"text-align: right;\">\n",
       "      <th></th>\n",
       "      <th>user_id</th>\n",
       "      <th>movie_id</th>\n",
       "      <th>user</th>\n",
       "      <th>item</th>\n",
       "    </tr>\n",
       "  </thead>\n",
       "  <tbody>\n",
       "    <tr>\n",
       "      <th>72162</th>\n",
       "      <td>798</td>\n",
       "      <td>940</td>\n",
       "      <td>288</td>\n",
       "      <td>663</td>\n",
       "    </tr>\n",
       "    <tr>\n",
       "      <th>52876</th>\n",
       "      <td>449</td>\n",
       "      <td>14</td>\n",
       "      <td>696</td>\n",
       "      <td>395</td>\n",
       "    </tr>\n",
       "    <tr>\n",
       "      <th>70538</th>\n",
       "      <td>339</td>\n",
       "      <td>770</td>\n",
       "      <td>149</td>\n",
       "      <td>639</td>\n",
       "    </tr>\n",
       "    <tr>\n",
       "      <th>16408</th>\n",
       "      <td>721</td>\n",
       "      <td>245</td>\n",
       "      <td>224</td>\n",
       "      <td>106</td>\n",
       "    </tr>\n",
       "    <tr>\n",
       "      <th>31162</th>\n",
       "      <td>806</td>\n",
       "      <td>195</td>\n",
       "      <td>473</td>\n",
       "      <td>203</td>\n",
       "    </tr>\n",
       "  </tbody>\n",
       "</table>\n",
       "</div>"
      ],
      "text/plain": [
       "       user_id  movie_id  user  item\n",
       "72162  798      940       288   663 \n",
       "52876  449      14        696   395 \n",
       "70538  339      770       149   639 \n",
       "16408  721      245       224   106 \n",
       "31162  806      195       473   203 "
      ]
     },
     "execution_count": 47,
     "metadata": {},
     "output_type": "execute_result"
    }
   ],
   "source": [
    "X_test.head()"
   ]
  },
  {
   "cell_type": "code",
   "execution_count": 48,
   "metadata": {},
   "outputs": [
    {
     "data": {
      "text/plain": [
       "(88478, 4)"
      ]
     },
     "execution_count": 48,
     "metadata": {},
     "output_type": "execute_result"
    }
   ],
   "source": [
    "X.shape"
   ]
  },
  {
   "cell_type": "code",
   "execution_count": 49,
   "metadata": {},
   "outputs": [
    {
     "data": {
      "text/plain": [
       "(17696,)"
      ]
     },
     "execution_count": 49,
     "metadata": {},
     "output_type": "execute_result"
    }
   ],
   "source": [
    "y_test.shape"
   ]
  },
  {
   "cell_type": "code",
   "execution_count": 50,
   "metadata": {},
   "outputs": [
    {
     "data": {
      "text/plain": [
       "2075"
      ]
     },
     "execution_count": 50,
     "metadata": {},
     "output_type": "execute_result"
    }
   ],
   "source": [
    "feature_dim"
   ]
  },
  {
   "cell_type": "code",
   "execution_count": 35,
   "metadata": {},
   "outputs": [],
   "source": [
    "# @timeit\n",
    "def to_csr_matrix(df, num_users, num_items):\n",
    "    feature_dim = num_users + num_items\n",
    "    data = np.concatenate([np.array([1] * df.shape[0]),\n",
    "                           np.array([1] * df.shape[0]),\n",
    "                          np.array([1] * df.shape[0])])\n",
    "    row = np.concatenate([np.arange(df.shape[0])] * 3)\n",
    "    col = np.concatenate([df['user'].values,\n",
    "                          df['item'].values,\n",
    "                          np.array([feature_dim-1] * df.shape[0])])\n",
    "    return csr_matrix((data, (row, col)), \n",
    "                      shape=(df.shape[0], feature_dim), \n",
    "                      dtype=np.float32)"
   ]
  },
  {
   "cell_type": "code",
   "execution_count": 36,
   "metadata": {},
   "outputs": [],
   "source": [
    "train_csr = to_csr_matrix(X_train, num_users, num_items)\n",
    "val_csr = to_csr_matrix(X_val, num_users, num_items)\n",
    "test_csr = to_csr_matrix(X_test, num_users, num_items)"
   ]
  },
  {
   "cell_type": "code",
   "execution_count": 37,
   "metadata": {},
   "outputs": [
    {
     "data": {
      "text/plain": [
       "2075"
      ]
     },
     "execution_count": 37,
     "metadata": {},
     "output_type": "execute_result"
    }
   ],
   "source": [
    "feature_dim = num_users + num_items\n",
    "feature_dim"
   ]
  },
  {
   "cell_type": "markdown",
   "metadata": {},
   "source": [
    "## Save Data to S3 in protobuf"
   ]
  },
  {
   "cell_type": "code",
   "execution_count": 41,
   "metadata": {},
   "outputs": [],
   "source": [
    "\n",
    "def to_s3_protobuf(csr, label, bucket, prefix, channel='train', splits=10):\n",
    "    indices = np.array_split(np.arange(csr.shape[0]), splits)\n",
    "    for i in range(len(indices)):\n",
    "        index = indices[i]\n",
    "        buf = io.BytesIO()\n",
    "        smac.write_spmatrix_to_sparse_tensor(buf, csr[index, ], label[index])\n",
    "        buf.seek(0)\n",
    "        boto3.client('s3').upload_fileobj(buf, bucket, '{}/{}/data-{}'.format(prefix, channel, i))\n",
    "to_s3_protobuf(train_csr, y_train.values.astype(np.float32), bucket, data_prefix)\n",
    "to_s3_protobuf(val_csr, y_val.values.astype(np.float32), bucket, data_prefix, channel='validation', splits=1)\n",
    "to_s3_protobuf(test_csr, y_test.values.astype(np.float32), bucket, data_prefix, channel='test', splits=1)"
   ]
  },
  {
   "cell_type": "markdown",
   "metadata": {},
   "source": [
    "# Hyperparameter Tuning"
   ]
  },
  {
   "cell_type": "code",
   "execution_count": 42,
   "metadata": {},
   "outputs": [],
   "source": [
    "hyperparameters=dict(\n",
    "    predictor_type='binary_classifier',\n",
    "    mini_batch_size=1000,\n",
    "    num_factors=64,\n",
    "    epochs=100,\n",
    "    feature_dim=feature_dim,\n",
    ")"
   ]
  },
  {
   "cell_type": "code",
   "execution_count": 43,
   "metadata": {},
   "outputs": [],
   "source": [
    "base = \"factorization-machine\"\n",
    "model_prefix = f\"/{stage}/models/{base}\"\n",
    "fm = sagemaker.estimator.Estimator(\n",
    "    sagemaker.amazon.amazon_estimator.get_image_uri(boto3.Session().region_name, 'factorization-machines', 'latest'),\n",
    "    role, \n",
    "    train_instance_count=4, \n",
    "    train_instance_type='ml.c5.2xlarge',\n",
    "    output_path='s3://{}/{}/output'.format(bucket, model_prefix),\n",
    "    base_job_name=base,\n",
    "    sagemaker_session=sess,\n",
    "    hyperparameters = hyperparameters\n",
    ")\n"
   ]
  },
  {
   "cell_type": "code",
   "execution_count": 46,
   "metadata": {},
   "outputs": [],
   "source": [
    "hyperparameter_ranges = {\n",
    "                        'epochs': IntegerParameter(128,512),\n",
    "                        'mini_batch_size': IntegerParameter(32, 128),\n",
    "                        'bias_init_sigma': ContinuousParameter(1e-8,512),\n",
    "                        'factors_init_sigma': ContinuousParameter(1e-8,512),\n",
    "                        'linear_init_sigma': ContinuousParameter(1e-8,512)\n",
    "                        }"
   ]
  },
  {
   "cell_type": "markdown",
   "metadata": {},
   "source": [
    "Objective metric includes the regular expression (Regex) needed to extract that metric from the CloudWatch logs of the training job. In this particular case, our script emits loss value and we will use it as the objective metric, we also set the objective_type to be 'minimize', so that hyperparameter tuning seeks to minize the objective metric when searching for the best hyperparameter setting. By default, objective_type is set to 'maximize'."
   ]
  },
  {
   "cell_type": "code",
   "execution_count": 48,
   "metadata": {},
   "outputs": [],
   "source": [
    "objective_metric_name = 'test:binary_classification_accuracy'\n",
    "objective_type = 'Maximize'"
   ]
  },
  {
   "cell_type": "code",
   "execution_count": 49,
   "metadata": {},
   "outputs": [],
   "source": [
    "tuner = HyperparameterTuner(fm,\n",
    "                            objective_metric_name,\n",
    "                            hyperparameter_ranges,\n",
    "                            max_jobs=9,\n",
    "                            max_parallel_jobs=3,\n",
    "                            objective_type=objective_type,\n",
    "                            early_stopping_type='Auto')"
   ]
  },
  {
   "cell_type": "code",
   "execution_count": 50,
   "metadata": {},
   "outputs": [],
   "source": [
    "\n",
    "tuner.fit({'train': sagemaker.s3_input('s3://{}/{}/train/'.format(bucket, data_prefix), distribution='ShardedByS3Key'), \n",
    "        'validation': sagemaker.s3_input('s3://{}/{}/validation/'.format(bucket, data_prefix), distribution='FullyReplicated'),\n",
    "        'test': sagemaker.s3_input('s3://{}/{}/test/'.format(bucket, data_prefix), distribution='FullyReplicated')})"
   ]
  },
  {
   "cell_type": "markdown",
   "metadata": {},
   "source": [
    "# Hyperparameter Tuning job Analysis\n",
    "\n",
    "Once a tuning job is completed, (or even while the job is still running) you can use this notebook to analyze the results to understand how each hyperparameter effects the quality of the model.\n",
    "\n",
    "---"
   ]
  },
  {
   "cell_type": "code",
   "execution_count": 92,
   "metadata": {},
   "outputs": [],
   "source": [
    "tuning_job_name = tuner.name"
   ]
  },
  {
   "cell_type": "code",
   "execution_count": 8,
   "metadata": {},
   "outputs": [
    {
     "data": {
      "text/html": [
       "<div>\n",
       "<style scoped>\n",
       "    .dataframe tbody tr th:only-of-type {\n",
       "        vertical-align: middle;\n",
       "    }\n",
       "\n",
       "    .dataframe tbody tr th {\n",
       "        vertical-align: top;\n",
       "    }\n",
       "\n",
       "    .dataframe thead th {\n",
       "        text-align: right;\n",
       "    }\n",
       "</style>\n",
       "<table border=\"1\" class=\"dataframe\">\n",
       "  <thead>\n",
       "    <tr style=\"text-align: right;\">\n",
       "      <th></th>\n",
       "      <th>FinalObjectiveValue</th>\n",
       "      <th>TrainingElapsedTimeSeconds</th>\n",
       "      <th>TrainingEndTime</th>\n",
       "      <th>TrainingJobName</th>\n",
       "      <th>TrainingJobStatus</th>\n",
       "      <th>TrainingStartTime</th>\n",
       "      <th>bias_init_sigma</th>\n",
       "      <th>epochs</th>\n",
       "      <th>factors_init_sigma</th>\n",
       "      <th>linear_init_sigma</th>\n",
       "      <th>mini_batch_size</th>\n",
       "    </tr>\n",
       "  </thead>\n",
       "  <tbody>\n",
       "    <tr>\n",
       "      <th>7</th>\n",
       "      <td>0.589568</td>\n",
       "      <td>206.0</td>\n",
       "      <td>2019-09-22 19:32:40+00:00</td>\n",
       "      <td>factorization-machin-190922-1926-002-a510e60d</td>\n",
       "      <td>Completed</td>\n",
       "      <td>2019-09-22 19:29:14+00:00</td>\n",
       "      <td>1.268422e+00</td>\n",
       "      <td>400.0</td>\n",
       "      <td>2.787108e-07</td>\n",
       "      <td>0.000237</td>\n",
       "      <td>103.0</td>\n",
       "    </tr>\n",
       "    <tr>\n",
       "      <th>0</th>\n",
       "      <td>0.586912</td>\n",
       "      <td>190.0</td>\n",
       "      <td>2019-09-22 19:52:16+00:00</td>\n",
       "      <td>factorization-machin-190922-1926-009-9e25fe14</td>\n",
       "      <td>Completed</td>\n",
       "      <td>2019-09-22 19:49:06+00:00</td>\n",
       "      <td>5.942705e-01</td>\n",
       "      <td>399.0</td>\n",
       "      <td>3.217348e-06</td>\n",
       "      <td>0.000073</td>\n",
       "      <td>113.0</td>\n",
       "    </tr>\n",
       "    <tr>\n",
       "      <th>2</th>\n",
       "      <td>0.582278</td>\n",
       "      <td>276.0</td>\n",
       "      <td>2019-09-22 19:46:07+00:00</td>\n",
       "      <td>factorization-machin-190922-1926-007-62c6f3c9</td>\n",
       "      <td>Completed</td>\n",
       "      <td>2019-09-22 19:41:31+00:00</td>\n",
       "      <td>2.306862e+00</td>\n",
       "      <td>450.0</td>\n",
       "      <td>1.022426e-06</td>\n",
       "      <td>0.000015</td>\n",
       "      <td>116.0</td>\n",
       "    </tr>\n",
       "    <tr>\n",
       "      <th>4</th>\n",
       "      <td>0.571316</td>\n",
       "      <td>328.0</td>\n",
       "      <td>2019-09-22 19:40:20+00:00</td>\n",
       "      <td>factorization-machin-190922-1926-005-a4aacaf8</td>\n",
       "      <td>Completed</td>\n",
       "      <td>2019-09-22 19:34:52+00:00</td>\n",
       "      <td>1.654394e+01</td>\n",
       "      <td>499.0</td>\n",
       "      <td>2.245651e-08</td>\n",
       "      <td>0.000017</td>\n",
       "      <td>93.0</td>\n",
       "    </tr>\n",
       "    <tr>\n",
       "      <th>6</th>\n",
       "      <td>0.568547</td>\n",
       "      <td>349.0</td>\n",
       "      <td>2019-09-22 19:35:12+00:00</td>\n",
       "      <td>factorization-machin-190922-1926-003-70297c41</td>\n",
       "      <td>Completed</td>\n",
       "      <td>2019-09-22 19:29:23+00:00</td>\n",
       "      <td>4.465280e-05</td>\n",
       "      <td>495.0</td>\n",
       "      <td>7.896902e-02</td>\n",
       "      <td>0.005694</td>\n",
       "      <td>70.0</td>\n",
       "    </tr>\n",
       "    <tr>\n",
       "      <th>5</th>\n",
       "      <td>0.568094</td>\n",
       "      <td>236.0</td>\n",
       "      <td>2019-09-22 19:37:52+00:00</td>\n",
       "      <td>factorization-machin-190922-1926-004-2d1de460</td>\n",
       "      <td>Completed</td>\n",
       "      <td>2019-09-22 19:33:56+00:00</td>\n",
       "      <td>2.070636e+02</td>\n",
       "      <td>485.0</td>\n",
       "      <td>1.784644e-05</td>\n",
       "      <td>2.942693</td>\n",
       "      <td>114.0</td>\n",
       "    </tr>\n",
       "    <tr>\n",
       "      <th>3</th>\n",
       "      <td>0.566230</td>\n",
       "      <td>405.0</td>\n",
       "      <td>2019-09-22 19:48:00+00:00</td>\n",
       "      <td>factorization-machin-190922-1926-006-7476b9af</td>\n",
       "      <td>Completed</td>\n",
       "      <td>2019-09-22 19:41:15+00:00</td>\n",
       "      <td>4.652549e+01</td>\n",
       "      <td>452.0</td>\n",
       "      <td>1.685160e-06</td>\n",
       "      <td>0.000029</td>\n",
       "      <td>49.0</td>\n",
       "    </tr>\n",
       "    <tr>\n",
       "      <th>8</th>\n",
       "      <td>0.557188</td>\n",
       "      <td>87.0</td>\n",
       "      <td>2019-09-22 19:31:06+00:00</td>\n",
       "      <td>factorization-machin-190922-1926-001-8f9c177d</td>\n",
       "      <td>Completed</td>\n",
       "      <td>2019-09-22 19:29:39+00:00</td>\n",
       "      <td>1.445172e-08</td>\n",
       "      <td>179.0</td>\n",
       "      <td>1.691520e+00</td>\n",
       "      <td>8.773734</td>\n",
       "      <td>128.0</td>\n",
       "    </tr>\n",
       "    <tr>\n",
       "      <th>1</th>\n",
       "      <td>0.524864</td>\n",
       "      <td>278.0</td>\n",
       "      <td>2019-09-22 19:47:17+00:00</td>\n",
       "      <td>factorization-machin-190922-1926-008-b3e5bda4</td>\n",
       "      <td>Stopped</td>\n",
       "      <td>2019-09-22 19:42:39+00:00</td>\n",
       "      <td>5.043952e-02</td>\n",
       "      <td>278.0</td>\n",
       "      <td>3.441626e+01</td>\n",
       "      <td>0.146788</td>\n",
       "      <td>36.0</td>\n",
       "    </tr>\n",
       "  </tbody>\n",
       "</table>\n",
       "</div>"
      ],
      "text/plain": [
       "   FinalObjectiveValue  TrainingElapsedTimeSeconds           TrainingEndTime  \\\n",
       "7             0.589568                       206.0 2019-09-22 19:32:40+00:00   \n",
       "0             0.586912                       190.0 2019-09-22 19:52:16+00:00   \n",
       "2             0.582278                       276.0 2019-09-22 19:46:07+00:00   \n",
       "4             0.571316                       328.0 2019-09-22 19:40:20+00:00   \n",
       "6             0.568547                       349.0 2019-09-22 19:35:12+00:00   \n",
       "5             0.568094                       236.0 2019-09-22 19:37:52+00:00   \n",
       "3             0.566230                       405.0 2019-09-22 19:48:00+00:00   \n",
       "8             0.557188                        87.0 2019-09-22 19:31:06+00:00   \n",
       "1             0.524864                       278.0 2019-09-22 19:47:17+00:00   \n",
       "\n",
       "                                 TrainingJobName TrainingJobStatus  \\\n",
       "7  factorization-machin-190922-1926-002-a510e60d         Completed   \n",
       "0  factorization-machin-190922-1926-009-9e25fe14         Completed   \n",
       "2  factorization-machin-190922-1926-007-62c6f3c9         Completed   \n",
       "4  factorization-machin-190922-1926-005-a4aacaf8         Completed   \n",
       "6  factorization-machin-190922-1926-003-70297c41         Completed   \n",
       "5  factorization-machin-190922-1926-004-2d1de460         Completed   \n",
       "3  factorization-machin-190922-1926-006-7476b9af         Completed   \n",
       "8  factorization-machin-190922-1926-001-8f9c177d         Completed   \n",
       "1  factorization-machin-190922-1926-008-b3e5bda4           Stopped   \n",
       "\n",
       "          TrainingStartTime  bias_init_sigma  epochs  factors_init_sigma  \\\n",
       "7 2019-09-22 19:29:14+00:00     1.268422e+00   400.0        2.787108e-07   \n",
       "0 2019-09-22 19:49:06+00:00     5.942705e-01   399.0        3.217348e-06   \n",
       "2 2019-09-22 19:41:31+00:00     2.306862e+00   450.0        1.022426e-06   \n",
       "4 2019-09-22 19:34:52+00:00     1.654394e+01   499.0        2.245651e-08   \n",
       "6 2019-09-22 19:29:23+00:00     4.465280e-05   495.0        7.896902e-02   \n",
       "5 2019-09-22 19:33:56+00:00     2.070636e+02   485.0        1.784644e-05   \n",
       "3 2019-09-22 19:41:15+00:00     4.652549e+01   452.0        1.685160e-06   \n",
       "8 2019-09-22 19:29:39+00:00     1.445172e-08   179.0        1.691520e+00   \n",
       "1 2019-09-22 19:42:39+00:00     5.043952e-02   278.0        3.441626e+01   \n",
       "\n",
       "   linear_init_sigma  mini_batch_size  \n",
       "7           0.000237            103.0  \n",
       "0           0.000073            113.0  \n",
       "2           0.000015            116.0  \n",
       "4           0.000017             93.0  \n",
       "6           0.005694             70.0  \n",
       "5           2.942693            114.0  \n",
       "3           0.000029             49.0  \n",
       "8           8.773734            128.0  \n",
       "1           0.146788             36.0  "
      ]
     },
     "execution_count": 8,
     "metadata": {},
     "output_type": "execute_result"
    }
   ],
   "source": [
    "metrics = sagemaker.HyperparameterTuningJobAnalytics(tuning_job_name).dataframe()\n",
    "metrics.sort_values(['FinalObjectiveValue'], ascending=False)"
   ]
  },
  {
   "cell_type": "markdown",
   "metadata": {},
   "source": [
    "## Hyperparameter tuning job progress"
   ]
  },
  {
   "cell_type": "code",
   "execution_count": 9,
   "metadata": {},
   "outputs": [],
   "source": [
    "tuning_job_result = boto3.client('sagemaker').describe_hyper_parameter_tuning_job(HyperParameterTuningJobName=tuning_job_name)\n",
    "best_tuning_job = tuning_job_result.get('BestTrainingJob',None)"
   ]
  },
  {
   "cell_type": "code",
   "execution_count": 10,
   "metadata": {
    "scrolled": true
   },
   "outputs": [
    {
     "name": "stdout",
     "output_type": "stream",
     "text": [
      "8 training jobs have completed\n"
     ]
    }
   ],
   "source": [
    "status = tuning_job_result['HyperParameterTuningJobStatus']\n",
    "if status != 'Completed':\n",
    "    print('Reminder: the tuning job has not been completed.')\n",
    "    \n",
    "job_count = tuning_job_result['TrainingJobStatusCounters']['Completed']\n",
    "print(\"%d training jobs have completed\" % job_count)\n",
    "    \n",
    "is_minimize = (tuning_job_result['HyperParameterTuningJobConfig']['HyperParameterTuningJobObjective']['Type'] != 'Maximize')\n",
    "objective_name = tuning_job_result['HyperParameterTuningJobConfig']['HyperParameterTuningJobObjective']['MetricName']"
   ]
  },
  {
   "cell_type": "code",
   "execution_count": 11,
   "metadata": {},
   "outputs": [
    {
     "name": "stdout",
     "output_type": "stream",
     "text": [
      "Best model found so far:\n",
      "{'CreationTime': datetime.datetime(2019, 9, 22, 19, 27, 5, tzinfo=tzlocal()),\n",
      " 'FinalHyperParameterTuningJobObjectiveMetric': {'MetricName': 'test:binary_classification_accuracy',\n",
      "                                                 'Value': 0.5895682573318481},\n",
      " 'ObjectiveStatus': 'Succeeded',\n",
      " 'TrainingEndTime': datetime.datetime(2019, 9, 22, 19, 32, 40, tzinfo=tzlocal()),\n",
      " 'TrainingJobArn': 'arn:aws:sagemaker:us-east-1:291053455966:training-job/factorization-machin-190922-1926-002-a510e60d',\n",
      " 'TrainingJobName': 'factorization-machin-190922-1926-002-a510e60d',\n",
      " 'TrainingJobStatus': 'Completed',\n",
      " 'TrainingStartTime': datetime.datetime(2019, 9, 22, 19, 29, 14, tzinfo=tzlocal()),\n",
      " 'TunedHyperParameters': {'bias_init_sigma': '1.2684224607134875',\n",
      "                          'epochs': '400',\n",
      "                          'factors_init_sigma': '2.7871077413940573e-07',\n",
      "                          'linear_init_sigma': '0.0002369639261709435',\n",
      "                          'mini_batch_size': '103'}}\n"
     ]
    }
   ],
   "source": [
    "from pprint import pprint\n",
    "if best_tuning_job:\n",
    "    print(\"Best model found so far:\")\n",
    "    pprint(best_tuning_job)\n",
    "else:\n",
    "    print(\"No training jobs have reported results yet.\")"
   ]
  },
  {
   "cell_type": "markdown",
   "metadata": {},
   "source": [
    "## Hyperparameter Job results\n",
    "We can list hyperparameters and objective metrics of all training jobs and pick up the training job with the best objective metric."
   ]
  },
  {
   "cell_type": "code",
   "execution_count": 16,
   "metadata": {
    "scrolled": false
   },
   "outputs": [
    {
     "name": "stdout",
     "output_type": "stream",
     "text": [
      "Number of training jobs with valid objective: 9\n",
      "{'lowest': 0.5248643755912781, 'highest': 0.5895682573318481}\n"
     ]
    },
    {
     "data": {
      "text/html": [
       "<div>\n",
       "<style scoped>\n",
       "    .dataframe tbody tr th:only-of-type {\n",
       "        vertical-align: middle;\n",
       "    }\n",
       "\n",
       "    .dataframe tbody tr th {\n",
       "        vertical-align: top;\n",
       "    }\n",
       "\n",
       "    .dataframe thead th {\n",
       "        text-align: right;\n",
       "    }\n",
       "</style>\n",
       "<table border=\"1\" class=\"dataframe\">\n",
       "  <thead>\n",
       "    <tr style=\"text-align: right;\">\n",
       "      <th></th>\n",
       "      <th>FinalObjectiveValue</th>\n",
       "      <th>TrainingElapsedTimeSeconds</th>\n",
       "      <th>TrainingEndTime</th>\n",
       "      <th>TrainingJobName</th>\n",
       "      <th>TrainingJobStatus</th>\n",
       "      <th>TrainingStartTime</th>\n",
       "      <th>bias_init_sigma</th>\n",
       "      <th>epochs</th>\n",
       "      <th>factors_init_sigma</th>\n",
       "      <th>linear_init_sigma</th>\n",
       "      <th>mini_batch_size</th>\n",
       "    </tr>\n",
       "  </thead>\n",
       "  <tbody>\n",
       "    <tr>\n",
       "      <th>7</th>\n",
       "      <td>0.589568</td>\n",
       "      <td>206.0</td>\n",
       "      <td>2019-09-22 19:32:40+00:00</td>\n",
       "      <td>factorization-machin-190922-1926-002-a510e60d</td>\n",
       "      <td>Completed</td>\n",
       "      <td>2019-09-22 19:29:14+00:00</td>\n",
       "      <td>1.268422e+00</td>\n",
       "      <td>400.0</td>\n",
       "      <td>2.787108e-07</td>\n",
       "      <td>0.000237</td>\n",
       "      <td>103.0</td>\n",
       "    </tr>\n",
       "    <tr>\n",
       "      <th>0</th>\n",
       "      <td>0.586912</td>\n",
       "      <td>190.0</td>\n",
       "      <td>2019-09-22 19:52:16+00:00</td>\n",
       "      <td>factorization-machin-190922-1926-009-9e25fe14</td>\n",
       "      <td>Completed</td>\n",
       "      <td>2019-09-22 19:49:06+00:00</td>\n",
       "      <td>5.942705e-01</td>\n",
       "      <td>399.0</td>\n",
       "      <td>3.217348e-06</td>\n",
       "      <td>0.000073</td>\n",
       "      <td>113.0</td>\n",
       "    </tr>\n",
       "    <tr>\n",
       "      <th>2</th>\n",
       "      <td>0.582278</td>\n",
       "      <td>276.0</td>\n",
       "      <td>2019-09-22 19:46:07+00:00</td>\n",
       "      <td>factorization-machin-190922-1926-007-62c6f3c9</td>\n",
       "      <td>Completed</td>\n",
       "      <td>2019-09-22 19:41:31+00:00</td>\n",
       "      <td>2.306862e+00</td>\n",
       "      <td>450.0</td>\n",
       "      <td>1.022426e-06</td>\n",
       "      <td>0.000015</td>\n",
       "      <td>116.0</td>\n",
       "    </tr>\n",
       "    <tr>\n",
       "      <th>4</th>\n",
       "      <td>0.571316</td>\n",
       "      <td>328.0</td>\n",
       "      <td>2019-09-22 19:40:20+00:00</td>\n",
       "      <td>factorization-machin-190922-1926-005-a4aacaf8</td>\n",
       "      <td>Completed</td>\n",
       "      <td>2019-09-22 19:34:52+00:00</td>\n",
       "      <td>1.654394e+01</td>\n",
       "      <td>499.0</td>\n",
       "      <td>2.245651e-08</td>\n",
       "      <td>0.000017</td>\n",
       "      <td>93.0</td>\n",
       "    </tr>\n",
       "    <tr>\n",
       "      <th>6</th>\n",
       "      <td>0.568547</td>\n",
       "      <td>349.0</td>\n",
       "      <td>2019-09-22 19:35:12+00:00</td>\n",
       "      <td>factorization-machin-190922-1926-003-70297c41</td>\n",
       "      <td>Completed</td>\n",
       "      <td>2019-09-22 19:29:23+00:00</td>\n",
       "      <td>4.465280e-05</td>\n",
       "      <td>495.0</td>\n",
       "      <td>7.896902e-02</td>\n",
       "      <td>0.005694</td>\n",
       "      <td>70.0</td>\n",
       "    </tr>\n",
       "    <tr>\n",
       "      <th>5</th>\n",
       "      <td>0.568094</td>\n",
       "      <td>236.0</td>\n",
       "      <td>2019-09-22 19:37:52+00:00</td>\n",
       "      <td>factorization-machin-190922-1926-004-2d1de460</td>\n",
       "      <td>Completed</td>\n",
       "      <td>2019-09-22 19:33:56+00:00</td>\n",
       "      <td>2.070636e+02</td>\n",
       "      <td>485.0</td>\n",
       "      <td>1.784644e-05</td>\n",
       "      <td>2.942693</td>\n",
       "      <td>114.0</td>\n",
       "    </tr>\n",
       "    <tr>\n",
       "      <th>3</th>\n",
       "      <td>0.566230</td>\n",
       "      <td>405.0</td>\n",
       "      <td>2019-09-22 19:48:00+00:00</td>\n",
       "      <td>factorization-machin-190922-1926-006-7476b9af</td>\n",
       "      <td>Completed</td>\n",
       "      <td>2019-09-22 19:41:15+00:00</td>\n",
       "      <td>4.652549e+01</td>\n",
       "      <td>452.0</td>\n",
       "      <td>1.685160e-06</td>\n",
       "      <td>0.000029</td>\n",
       "      <td>49.0</td>\n",
       "    </tr>\n",
       "    <tr>\n",
       "      <th>8</th>\n",
       "      <td>0.557188</td>\n",
       "      <td>87.0</td>\n",
       "      <td>2019-09-22 19:31:06+00:00</td>\n",
       "      <td>factorization-machin-190922-1926-001-8f9c177d</td>\n",
       "      <td>Completed</td>\n",
       "      <td>2019-09-22 19:29:39+00:00</td>\n",
       "      <td>1.445172e-08</td>\n",
       "      <td>179.0</td>\n",
       "      <td>1.691520e+00</td>\n",
       "      <td>8.773734</td>\n",
       "      <td>128.0</td>\n",
       "    </tr>\n",
       "    <tr>\n",
       "      <th>1</th>\n",
       "      <td>0.524864</td>\n",
       "      <td>278.0</td>\n",
       "      <td>2019-09-22 19:47:17+00:00</td>\n",
       "      <td>factorization-machin-190922-1926-008-b3e5bda4</td>\n",
       "      <td>Stopped</td>\n",
       "      <td>2019-09-22 19:42:39+00:00</td>\n",
       "      <td>5.043952e-02</td>\n",
       "      <td>278.0</td>\n",
       "      <td>3.441626e+01</td>\n",
       "      <td>0.146788</td>\n",
       "      <td>36.0</td>\n",
       "    </tr>\n",
       "  </tbody>\n",
       "</table>\n",
       "</div>"
      ],
      "text/plain": [
       "   FinalObjectiveValue  TrainingElapsedTimeSeconds           TrainingEndTime  \\\n",
       "7  0.589568             206.0                      2019-09-22 19:32:40+00:00   \n",
       "0  0.586912             190.0                      2019-09-22 19:52:16+00:00   \n",
       "2  0.582278             276.0                      2019-09-22 19:46:07+00:00   \n",
       "4  0.571316             328.0                      2019-09-22 19:40:20+00:00   \n",
       "6  0.568547             349.0                      2019-09-22 19:35:12+00:00   \n",
       "5  0.568094             236.0                      2019-09-22 19:37:52+00:00   \n",
       "3  0.566230             405.0                      2019-09-22 19:48:00+00:00   \n",
       "8  0.557188             87.0                       2019-09-22 19:31:06+00:00   \n",
       "1  0.524864             278.0                      2019-09-22 19:47:17+00:00   \n",
       "\n",
       "                                 TrainingJobName TrainingJobStatus  \\\n",
       "7  factorization-machin-190922-1926-002-a510e60d  Completed          \n",
       "0  factorization-machin-190922-1926-009-9e25fe14  Completed          \n",
       "2  factorization-machin-190922-1926-007-62c6f3c9  Completed          \n",
       "4  factorization-machin-190922-1926-005-a4aacaf8  Completed          \n",
       "6  factorization-machin-190922-1926-003-70297c41  Completed          \n",
       "5  factorization-machin-190922-1926-004-2d1de460  Completed          \n",
       "3  factorization-machin-190922-1926-006-7476b9af  Completed          \n",
       "8  factorization-machin-190922-1926-001-8f9c177d  Completed          \n",
       "1  factorization-machin-190922-1926-008-b3e5bda4  Stopped            \n",
       "\n",
       "          TrainingStartTime  bias_init_sigma  epochs  factors_init_sigma  \\\n",
       "7 2019-09-22 19:29:14+00:00  1.268422e+00     400.0   2.787108e-07         \n",
       "0 2019-09-22 19:49:06+00:00  5.942705e-01     399.0   3.217348e-06         \n",
       "2 2019-09-22 19:41:31+00:00  2.306862e+00     450.0   1.022426e-06         \n",
       "4 2019-09-22 19:34:52+00:00  1.654394e+01     499.0   2.245651e-08         \n",
       "6 2019-09-22 19:29:23+00:00  4.465280e-05     495.0   7.896902e-02         \n",
       "5 2019-09-22 19:33:56+00:00  2.070636e+02     485.0   1.784644e-05         \n",
       "3 2019-09-22 19:41:15+00:00  4.652549e+01     452.0   1.685160e-06         \n",
       "8 2019-09-22 19:29:39+00:00  1.445172e-08     179.0   1.691520e+00         \n",
       "1 2019-09-22 19:42:39+00:00  5.043952e-02     278.0   3.441626e+01         \n",
       "\n",
       "   linear_init_sigma  mini_batch_size  \n",
       "7  0.000237           103.0            \n",
       "0  0.000073           113.0            \n",
       "2  0.000015           116.0            \n",
       "4  0.000017           93.0             \n",
       "6  0.005694           70.0             \n",
       "5  2.942693           114.0            \n",
       "3  0.000029           49.0             \n",
       "8  8.773734           128.0            \n",
       "1  0.146788           36.0             "
      ]
     },
     "execution_count": 16,
     "metadata": {},
     "output_type": "execute_result"
    }
   ],
   "source": [
    "tuner = sagemaker.HyperparameterTuningJobAnalytics(tuning_job_name)\n",
    "\n",
    "full_df = tuner.dataframe()\n",
    "\n",
    "if len(full_df) > 0:\n",
    "    result_df = full_df[full_df['FinalObjectiveValue'] > -float('inf')]\n",
    "    if len(result_df) > 0:\n",
    "        result_df = result_df.sort_values('FinalObjectiveValue', ascending=is_minimize)\n",
    "        print(\"Number of training jobs with valid objective: %d\" % len(result_df))\n",
    "        print({\"lowest\":min(result_df['FinalObjectiveValue']),\"highest\": max(result_df['FinalObjectiveValue'])})\n",
    "        pd.set_option('display.max_colwidth', -1)  # To avoid truncating TrainingJobName        \n",
    "    else:\n",
    "        print(\"No training jobs have reported valid results yet.\")\n",
    "        \n",
    "result_df"
   ]
  },
  {
   "cell_type": "markdown",
   "metadata": {},
   "source": [
    "## TuningJob results vs time\n",
    "Next we will show how the objective metric changes over time, as the tuning job progresses.  For Bayesian strategy, a general trend towards better results is observed, but this progress will not be steady as the algorithm needs to balance _exploration_ of new areas of parameter space against _exploitation_ of known good areas.  This can give you a sense of whether or not the number of training jobs is sufficient for the complexity of your search space."
   ]
  },
  {
   "cell_type": "code",
   "execution_count": 17,
   "metadata": {},
   "outputs": [
    {
     "data": {
      "text/html": [
       "\n",
       "    <div class=\"bk-root\">\n",
       "        <a href=\"https://bokeh.pydata.org\" target=\"_blank\" class=\"bk-logo bk-logo-small bk-logo-notebook\"></a>\n",
       "        <span id=\"1002\">Loading BokehJS ...</span>\n",
       "    </div>"
      ]
     },
     "metadata": {},
     "output_type": "display_data"
    },
    {
     "data": {
      "application/javascript": [
       "\n",
       "(function(root) {\n",
       "  function now() {\n",
       "    return new Date();\n",
       "  }\n",
       "\n",
       "  var force = true;\n",
       "\n",
       "  if (typeof (root._bokeh_onload_callbacks) === \"undefined\" || force === true) {\n",
       "    root._bokeh_onload_callbacks = [];\n",
       "    root._bokeh_is_loading = undefined;\n",
       "  }\n",
       "\n",
       "  var JS_MIME_TYPE = 'application/javascript';\n",
       "  var HTML_MIME_TYPE = 'text/html';\n",
       "  var EXEC_MIME_TYPE = 'application/vnd.bokehjs_exec.v0+json';\n",
       "  var CLASS_NAME = 'output_bokeh rendered_html';\n",
       "\n",
       "  /**\n",
       "   * Render data to the DOM node\n",
       "   */\n",
       "  function render(props, node) {\n",
       "    var script = document.createElement(\"script\");\n",
       "    node.appendChild(script);\n",
       "  }\n",
       "\n",
       "  /**\n",
       "   * Handle when an output is cleared or removed\n",
       "   */\n",
       "  function handleClearOutput(event, handle) {\n",
       "    var cell = handle.cell;\n",
       "\n",
       "    var id = cell.output_area._bokeh_element_id;\n",
       "    var server_id = cell.output_area._bokeh_server_id;\n",
       "    // Clean up Bokeh references\n",
       "    if (id != null && id in Bokeh.index) {\n",
       "      Bokeh.index[id].model.document.clear();\n",
       "      delete Bokeh.index[id];\n",
       "    }\n",
       "\n",
       "    if (server_id !== undefined) {\n",
       "      // Clean up Bokeh references\n",
       "      var cmd = \"from bokeh.io.state import curstate; print(curstate().uuid_to_server['\" + server_id + \"'].get_sessions()[0].document.roots[0]._id)\";\n",
       "      cell.notebook.kernel.execute(cmd, {\n",
       "        iopub: {\n",
       "          output: function(msg) {\n",
       "            var id = msg.content.text.trim();\n",
       "            if (id in Bokeh.index) {\n",
       "              Bokeh.index[id].model.document.clear();\n",
       "              delete Bokeh.index[id];\n",
       "            }\n",
       "          }\n",
       "        }\n",
       "      });\n",
       "      // Destroy server and session\n",
       "      var cmd = \"import bokeh.io.notebook as ion; ion.destroy_server('\" + server_id + \"')\";\n",
       "      cell.notebook.kernel.execute(cmd);\n",
       "    }\n",
       "  }\n",
       "\n",
       "  /**\n",
       "   * Handle when a new output is added\n",
       "   */\n",
       "  function handleAddOutput(event, handle) {\n",
       "    var output_area = handle.output_area;\n",
       "    var output = handle.output;\n",
       "\n",
       "    // limit handleAddOutput to display_data with EXEC_MIME_TYPE content only\n",
       "    if ((output.output_type != \"display_data\") || (!output.data.hasOwnProperty(EXEC_MIME_TYPE))) {\n",
       "      return\n",
       "    }\n",
       "\n",
       "    var toinsert = output_area.element.find(\".\" + CLASS_NAME.split(' ')[0]);\n",
       "\n",
       "    if (output.metadata[EXEC_MIME_TYPE][\"id\"] !== undefined) {\n",
       "      toinsert[toinsert.length - 1].firstChild.textContent = output.data[JS_MIME_TYPE];\n",
       "      // store reference to embed id on output_area\n",
       "      output_area._bokeh_element_id = output.metadata[EXEC_MIME_TYPE][\"id\"];\n",
       "    }\n",
       "    if (output.metadata[EXEC_MIME_TYPE][\"server_id\"] !== undefined) {\n",
       "      var bk_div = document.createElement(\"div\");\n",
       "      bk_div.innerHTML = output.data[HTML_MIME_TYPE];\n",
       "      var script_attrs = bk_div.children[0].attributes;\n",
       "      for (var i = 0; i < script_attrs.length; i++) {\n",
       "        toinsert[toinsert.length - 1].firstChild.setAttribute(script_attrs[i].name, script_attrs[i].value);\n",
       "      }\n",
       "      // store reference to server id on output_area\n",
       "      output_area._bokeh_server_id = output.metadata[EXEC_MIME_TYPE][\"server_id\"];\n",
       "    }\n",
       "  }\n",
       "\n",
       "  function register_renderer(events, OutputArea) {\n",
       "\n",
       "    function append_mime(data, metadata, element) {\n",
       "      // create a DOM node to render to\n",
       "      var toinsert = this.create_output_subarea(\n",
       "        metadata,\n",
       "        CLASS_NAME,\n",
       "        EXEC_MIME_TYPE\n",
       "      );\n",
       "      this.keyboard_manager.register_events(toinsert);\n",
       "      // Render to node\n",
       "      var props = {data: data, metadata: metadata[EXEC_MIME_TYPE]};\n",
       "      render(props, toinsert[toinsert.length - 1]);\n",
       "      element.append(toinsert);\n",
       "      return toinsert\n",
       "    }\n",
       "\n",
       "    /* Handle when an output is cleared or removed */\n",
       "    events.on('clear_output.CodeCell', handleClearOutput);\n",
       "    events.on('delete.Cell', handleClearOutput);\n",
       "\n",
       "    /* Handle when a new output is added */\n",
       "    events.on('output_added.OutputArea', handleAddOutput);\n",
       "\n",
       "    /**\n",
       "     * Register the mime type and append_mime function with output_area\n",
       "     */\n",
       "    OutputArea.prototype.register_mime_type(EXEC_MIME_TYPE, append_mime, {\n",
       "      /* Is output safe? */\n",
       "      safe: true,\n",
       "      /* Index of renderer in `output_area.display_order` */\n",
       "      index: 0\n",
       "    });\n",
       "  }\n",
       "\n",
       "  // register the mime type if in Jupyter Notebook environment and previously unregistered\n",
       "  if (root.Jupyter !== undefined) {\n",
       "    var events = require('base/js/events');\n",
       "    var OutputArea = require('notebook/js/outputarea').OutputArea;\n",
       "\n",
       "    if (OutputArea.prototype.mime_types().indexOf(EXEC_MIME_TYPE) == -1) {\n",
       "      register_renderer(events, OutputArea);\n",
       "    }\n",
       "  }\n",
       "\n",
       "  \n",
       "  if (typeof (root._bokeh_timeout) === \"undefined\" || force === true) {\n",
       "    root._bokeh_timeout = Date.now() + 5000;\n",
       "    root._bokeh_failed_load = false;\n",
       "  }\n",
       "\n",
       "  var NB_LOAD_WARNING = {'data': {'text/html':\n",
       "     \"<div style='background-color: #fdd'>\\n\"+\n",
       "     \"<p>\\n\"+\n",
       "     \"BokehJS does not appear to have successfully loaded. If loading BokehJS from CDN, this \\n\"+\n",
       "     \"may be due to a slow or bad network connection. Possible fixes:\\n\"+\n",
       "     \"</p>\\n\"+\n",
       "     \"<ul>\\n\"+\n",
       "     \"<li>re-rerun `output_notebook()` to attempt to load from CDN again, or</li>\\n\"+\n",
       "     \"<li>use INLINE resources instead, as so:</li>\\n\"+\n",
       "     \"</ul>\\n\"+\n",
       "     \"<code>\\n\"+\n",
       "     \"from bokeh.resources import INLINE\\n\"+\n",
       "     \"output_notebook(resources=INLINE)\\n\"+\n",
       "     \"</code>\\n\"+\n",
       "     \"</div>\"}};\n",
       "\n",
       "  function display_loaded() {\n",
       "    var el = document.getElementById(\"1002\");\n",
       "    if (el != null) {\n",
       "      el.textContent = \"BokehJS is loading...\";\n",
       "    }\n",
       "    if (root.Bokeh !== undefined) {\n",
       "      if (el != null) {\n",
       "        el.textContent = \"BokehJS \" + root.Bokeh.version + \" successfully loaded.\";\n",
       "      }\n",
       "    } else if (Date.now() < root._bokeh_timeout) {\n",
       "      setTimeout(display_loaded, 100)\n",
       "    }\n",
       "  }\n",
       "\n",
       "\n",
       "  function run_callbacks() {\n",
       "    try {\n",
       "      root._bokeh_onload_callbacks.forEach(function(callback) { callback() });\n",
       "    }\n",
       "    finally {\n",
       "      delete root._bokeh_onload_callbacks\n",
       "    }\n",
       "    console.info(\"Bokeh: all callbacks have finished\");\n",
       "  }\n",
       "\n",
       "  function load_libs(js_urls, callback) {\n",
       "    root._bokeh_onload_callbacks.push(callback);\n",
       "    if (root._bokeh_is_loading > 0) {\n",
       "      console.log(\"Bokeh: BokehJS is being loaded, scheduling callback at\", now());\n",
       "      return null;\n",
       "    }\n",
       "    if (js_urls == null || js_urls.length === 0) {\n",
       "      run_callbacks();\n",
       "      return null;\n",
       "    }\n",
       "    console.log(\"Bokeh: BokehJS not loaded, scheduling load and callback at\", now());\n",
       "    root._bokeh_is_loading = js_urls.length;\n",
       "    for (var i = 0; i < js_urls.length; i++) {\n",
       "      var url = js_urls[i];\n",
       "      var s = document.createElement('script');\n",
       "      s.src = url;\n",
       "      s.async = false;\n",
       "      s.onreadystatechange = s.onload = function() {\n",
       "        root._bokeh_is_loading--;\n",
       "        if (root._bokeh_is_loading === 0) {\n",
       "          console.log(\"Bokeh: all BokehJS libraries loaded\");\n",
       "          run_callbacks()\n",
       "        }\n",
       "      };\n",
       "      s.onerror = function() {\n",
       "        console.warn(\"failed to load library \" + url);\n",
       "      };\n",
       "      console.log(\"Bokeh: injecting script tag for BokehJS library: \", url);\n",
       "      document.getElementsByTagName(\"head\")[0].appendChild(s);\n",
       "    }\n",
       "  };var element = document.getElementById(\"1002\");\n",
       "  if (element == null) {\n",
       "    console.log(\"Bokeh: ERROR: autoload.js configured with elementid '1002' but no matching script tag was found. \")\n",
       "    return false;\n",
       "  }\n",
       "\n",
       "  var js_urls = [\"https://cdn.pydata.org/bokeh/release/bokeh-1.0.4.min.js\", \"https://cdn.pydata.org/bokeh/release/bokeh-widgets-1.0.4.min.js\", \"https://cdn.pydata.org/bokeh/release/bokeh-tables-1.0.4.min.js\", \"https://cdn.pydata.org/bokeh/release/bokeh-gl-1.0.4.min.js\"];\n",
       "\n",
       "  var inline_js = [\n",
       "    function(Bokeh) {\n",
       "      Bokeh.set_log_level(\"info\");\n",
       "    },\n",
       "    \n",
       "    function(Bokeh) {\n",
       "      \n",
       "    },\n",
       "    function(Bokeh) {\n",
       "      console.log(\"Bokeh: injecting CSS: https://cdn.pydata.org/bokeh/release/bokeh-1.0.4.min.css\");\n",
       "      Bokeh.embed.inject_css(\"https://cdn.pydata.org/bokeh/release/bokeh-1.0.4.min.css\");\n",
       "      console.log(\"Bokeh: injecting CSS: https://cdn.pydata.org/bokeh/release/bokeh-widgets-1.0.4.min.css\");\n",
       "      Bokeh.embed.inject_css(\"https://cdn.pydata.org/bokeh/release/bokeh-widgets-1.0.4.min.css\");\n",
       "      console.log(\"Bokeh: injecting CSS: https://cdn.pydata.org/bokeh/release/bokeh-tables-1.0.4.min.css\");\n",
       "      Bokeh.embed.inject_css(\"https://cdn.pydata.org/bokeh/release/bokeh-tables-1.0.4.min.css\");\n",
       "    }\n",
       "  ];\n",
       "\n",
       "  function run_inline_js() {\n",
       "    \n",
       "    if ((root.Bokeh !== undefined) || (force === true)) {\n",
       "      for (var i = 0; i < inline_js.length; i++) {\n",
       "        inline_js[i].call(root, root.Bokeh);\n",
       "      }if (force === true) {\n",
       "        display_loaded();\n",
       "      }} else if (Date.now() < root._bokeh_timeout) {\n",
       "      setTimeout(run_inline_js, 100);\n",
       "    } else if (!root._bokeh_failed_load) {\n",
       "      console.log(\"Bokeh: BokehJS failed to load within specified timeout.\");\n",
       "      root._bokeh_failed_load = true;\n",
       "    } else if (force !== true) {\n",
       "      var cell = $(document.getElementById(\"1002\")).parents('.cell').data().cell;\n",
       "      cell.output_area.append_execute_result(NB_LOAD_WARNING)\n",
       "    }\n",
       "\n",
       "  }\n",
       "\n",
       "  if (root._bokeh_is_loading === 0) {\n",
       "    console.log(\"Bokeh: BokehJS loaded, going straight to plotting\");\n",
       "    run_inline_js();\n",
       "  } else {\n",
       "    load_libs(js_urls, function() {\n",
       "      console.log(\"Bokeh: BokehJS plotting callback run at\", now());\n",
       "      run_inline_js();\n",
       "    });\n",
       "  }\n",
       "}(window));"
      ],
      "application/vnd.bokehjs_load.v0+json": "\n(function(root) {\n  function now() {\n    return new Date();\n  }\n\n  var force = true;\n\n  if (typeof (root._bokeh_onload_callbacks) === \"undefined\" || force === true) {\n    root._bokeh_onload_callbacks = [];\n    root._bokeh_is_loading = undefined;\n  }\n\n  \n\n  \n  if (typeof (root._bokeh_timeout) === \"undefined\" || force === true) {\n    root._bokeh_timeout = Date.now() + 5000;\n    root._bokeh_failed_load = false;\n  }\n\n  var NB_LOAD_WARNING = {'data': {'text/html':\n     \"<div style='background-color: #fdd'>\\n\"+\n     \"<p>\\n\"+\n     \"BokehJS does not appear to have successfully loaded. If loading BokehJS from CDN, this \\n\"+\n     \"may be due to a slow or bad network connection. Possible fixes:\\n\"+\n     \"</p>\\n\"+\n     \"<ul>\\n\"+\n     \"<li>re-rerun `output_notebook()` to attempt to load from CDN again, or</li>\\n\"+\n     \"<li>use INLINE resources instead, as so:</li>\\n\"+\n     \"</ul>\\n\"+\n     \"<code>\\n\"+\n     \"from bokeh.resources import INLINE\\n\"+\n     \"output_notebook(resources=INLINE)\\n\"+\n     \"</code>\\n\"+\n     \"</div>\"}};\n\n  function display_loaded() {\n    var el = document.getElementById(\"1002\");\n    if (el != null) {\n      el.textContent = \"BokehJS is loading...\";\n    }\n    if (root.Bokeh !== undefined) {\n      if (el != null) {\n        el.textContent = \"BokehJS \" + root.Bokeh.version + \" successfully loaded.\";\n      }\n    } else if (Date.now() < root._bokeh_timeout) {\n      setTimeout(display_loaded, 100)\n    }\n  }\n\n\n  function run_callbacks() {\n    try {\n      root._bokeh_onload_callbacks.forEach(function(callback) { callback() });\n    }\n    finally {\n      delete root._bokeh_onload_callbacks\n    }\n    console.info(\"Bokeh: all callbacks have finished\");\n  }\n\n  function load_libs(js_urls, callback) {\n    root._bokeh_onload_callbacks.push(callback);\n    if (root._bokeh_is_loading > 0) {\n      console.log(\"Bokeh: BokehJS is being loaded, scheduling callback at\", now());\n      return null;\n    }\n    if (js_urls == null || js_urls.length === 0) {\n      run_callbacks();\n      return null;\n    }\n    console.log(\"Bokeh: BokehJS not loaded, scheduling load and callback at\", now());\n    root._bokeh_is_loading = js_urls.length;\n    for (var i = 0; i < js_urls.length; i++) {\n      var url = js_urls[i];\n      var s = document.createElement('script');\n      s.src = url;\n      s.async = false;\n      s.onreadystatechange = s.onload = function() {\n        root._bokeh_is_loading--;\n        if (root._bokeh_is_loading === 0) {\n          console.log(\"Bokeh: all BokehJS libraries loaded\");\n          run_callbacks()\n        }\n      };\n      s.onerror = function() {\n        console.warn(\"failed to load library \" + url);\n      };\n      console.log(\"Bokeh: injecting script tag for BokehJS library: \", url);\n      document.getElementsByTagName(\"head\")[0].appendChild(s);\n    }\n  };var element = document.getElementById(\"1002\");\n  if (element == null) {\n    console.log(\"Bokeh: ERROR: autoload.js configured with elementid '1002' but no matching script tag was found. \")\n    return false;\n  }\n\n  var js_urls = [\"https://cdn.pydata.org/bokeh/release/bokeh-1.0.4.min.js\", \"https://cdn.pydata.org/bokeh/release/bokeh-widgets-1.0.4.min.js\", \"https://cdn.pydata.org/bokeh/release/bokeh-tables-1.0.4.min.js\", \"https://cdn.pydata.org/bokeh/release/bokeh-gl-1.0.4.min.js\"];\n\n  var inline_js = [\n    function(Bokeh) {\n      Bokeh.set_log_level(\"info\");\n    },\n    \n    function(Bokeh) {\n      \n    },\n    function(Bokeh) {\n      console.log(\"Bokeh: injecting CSS: https://cdn.pydata.org/bokeh/release/bokeh-1.0.4.min.css\");\n      Bokeh.embed.inject_css(\"https://cdn.pydata.org/bokeh/release/bokeh-1.0.4.min.css\");\n      console.log(\"Bokeh: injecting CSS: https://cdn.pydata.org/bokeh/release/bokeh-widgets-1.0.4.min.css\");\n      Bokeh.embed.inject_css(\"https://cdn.pydata.org/bokeh/release/bokeh-widgets-1.0.4.min.css\");\n      console.log(\"Bokeh: injecting CSS: https://cdn.pydata.org/bokeh/release/bokeh-tables-1.0.4.min.css\");\n      Bokeh.embed.inject_css(\"https://cdn.pydata.org/bokeh/release/bokeh-tables-1.0.4.min.css\");\n    }\n  ];\n\n  function run_inline_js() {\n    \n    if ((root.Bokeh !== undefined) || (force === true)) {\n      for (var i = 0; i < inline_js.length; i++) {\n        inline_js[i].call(root, root.Bokeh);\n      }if (force === true) {\n        display_loaded();\n      }} else if (Date.now() < root._bokeh_timeout) {\n      setTimeout(run_inline_js, 100);\n    } else if (!root._bokeh_failed_load) {\n      console.log(\"Bokeh: BokehJS failed to load within specified timeout.\");\n      root._bokeh_failed_load = true;\n    } else if (force !== true) {\n      var cell = $(document.getElementById(\"1002\")).parents('.cell').data().cell;\n      cell.output_area.append_execute_result(NB_LOAD_WARNING)\n    }\n\n  }\n\n  if (root._bokeh_is_loading === 0) {\n    console.log(\"Bokeh: BokehJS loaded, going straight to plotting\");\n    run_inline_js();\n  } else {\n    load_libs(js_urls, function() {\n      console.log(\"Bokeh: BokehJS plotting callback run at\", now());\n      run_inline_js();\n    });\n  }\n}(window));"
     },
     "metadata": {},
     "output_type": "display_data"
    }
   ],
   "source": [
    "import bokeh\n",
    "import bokeh.io\n",
    "bokeh.io.output_notebook()\n",
    "from bokeh.plotting import figure, show\n",
    "from bokeh.models import HoverTool"
   ]
  },
  {
   "cell_type": "code",
   "execution_count": 18,
   "metadata": {},
   "outputs": [],
   "source": [
    "class HoverHelper():\n",
    "\n",
    "    def __init__(self, tuning_analytics):\n",
    "        self.tuner = tuning_analytics\n",
    "\n",
    "    def hovertool(self):\n",
    "        tooltips = [\n",
    "            (\"FinalObjectiveValue\", \"@FinalObjectiveValue\"),\n",
    "            (\"TrainingJobName\", \"@TrainingJobName\"),\n",
    "        ]\n",
    "        for k in self.tuner.tuning_ranges.keys():\n",
    "            tooltips.append( (k, \"@{%s}\" % k) )\n",
    "\n",
    "        ht = HoverTool(tooltips=tooltips)\n",
    "        return ht\n",
    "\n",
    "    def tools(self, standard_tools='pan,crosshair,wheel_zoom,zoom_in,zoom_out,undo,reset'):\n",
    "        return [self.hovertool(), standard_tools]"
   ]
  },
  {
   "cell_type": "code",
   "execution_count": 21,
   "metadata": {
    "scrolled": false
   },
   "outputs": [
    {
     "data": {
      "text/html": [
       "\n",
       "\n",
       "\n",
       "\n",
       "\n",
       "\n",
       "  <div class=\"bk-root\" id=\"84750a8b-d3a2-409c-ba3a-c17d194a9966\" data-root-id=\"1040\"></div>\n"
      ]
     },
     "metadata": {},
     "output_type": "display_data"
    },
    {
     "data": {
      "application/javascript": [
       "(function(root) {\n",
       "  function embed_document(root) {\n",
       "    \n",
       "  var docs_json = {\"070c2c6e-f4c6-469f-9ac3-08dcf0d04476\":{\"roots\":{\"references\":[{\"attributes\":{\"below\":[{\"id\":\"1049\",\"type\":\"DatetimeAxis\"}],\"left\":[{\"id\":\"1054\",\"type\":\"LinearAxis\"}],\"plot_height\":400,\"plot_width\":900,\"renderers\":[{\"id\":\"1049\",\"type\":\"DatetimeAxis\"},{\"id\":\"1053\",\"type\":\"Grid\"},{\"id\":\"1054\",\"type\":\"LinearAxis\"},{\"id\":\"1058\",\"type\":\"Grid\"},{\"id\":\"1079\",\"type\":\"GlyphRenderer\"}],\"title\":{\"id\":\"1082\",\"type\":\"Title\"},\"toolbar\":{\"id\":\"1066\",\"type\":\"Toolbar\"},\"x_range\":{\"id\":\"1041\",\"type\":\"DataRange1d\"},\"x_scale\":{\"id\":\"1045\",\"type\":\"LinearScale\"},\"y_range\":{\"id\":\"1043\",\"type\":\"DataRange1d\"},\"y_scale\":{\"id\":\"1047\",\"type\":\"LinearScale\"}},\"id\":\"1040\",\"subtype\":\"Figure\",\"type\":\"Plot\"},{\"attributes\":{\"mantissas\":[1,2,5],\"max_interval\":500.0,\"num_minor_ticks\":0},\"id\":\"1087\",\"type\":\"AdaptiveTicker\"},{\"attributes\":{},\"id\":\"1045\",\"type\":\"LinearScale\"},{\"attributes\":{\"days\":[1,15]},\"id\":\"1093\",\"type\":\"DaysTicker\"},{\"attributes\":{},\"id\":\"1047\",\"type\":\"LinearScale\"},{\"attributes\":{\"months\":[0,1,2,3,4,5,6,7,8,9,10,11]},\"id\":\"1094\",\"type\":\"MonthsTicker\"},{\"attributes\":{\"formatter\":{\"id\":\"1084\",\"type\":\"DatetimeTickFormatter\"},\"plot\":{\"id\":\"1040\",\"subtype\":\"Figure\",\"type\":\"Plot\"},\"ticker\":{\"id\":\"1050\",\"type\":\"DatetimeTicker\"}},\"id\":\"1049\",\"type\":\"DatetimeAxis\"},{\"attributes\":{\"months\":[0,2,4,6,8,10]},\"id\":\"1095\",\"type\":\"MonthsTicker\"},{\"attributes\":{\"num_minor_ticks\":5,\"tickers\":[{\"id\":\"1087\",\"type\":\"AdaptiveTicker\"},{\"id\":\"1088\",\"type\":\"AdaptiveTicker\"},{\"id\":\"1089\",\"type\":\"AdaptiveTicker\"},{\"id\":\"1090\",\"type\":\"DaysTicker\"},{\"id\":\"1091\",\"type\":\"DaysTicker\"},{\"id\":\"1092\",\"type\":\"DaysTicker\"},{\"id\":\"1093\",\"type\":\"DaysTicker\"},{\"id\":\"1094\",\"type\":\"MonthsTicker\"},{\"id\":\"1095\",\"type\":\"MonthsTicker\"},{\"id\":\"1096\",\"type\":\"MonthsTicker\"},{\"id\":\"1097\",\"type\":\"MonthsTicker\"},{\"id\":\"1098\",\"type\":\"YearsTicker\"}]},\"id\":\"1050\",\"type\":\"DatetimeTicker\"},{\"attributes\":{\"callback\":null,\"data\":{\"FinalObjectiveValue\":{\"__ndarray__\":\"AAAAQL7d4j8AAABA/MfiPwAAAIAGouI/AAAAgDdI4j8AAACgiDHiPwAAAIDULeI/AAAAoI0e4j8AAAAgfNThPwAAAGCwy+A/\",\"dtype\":\"float64\",\"shape\":[9]},\"TrainingElapsedTimeSeconds\":{\"__ndarray__\":\"AAAAAADAaUAAAAAAAMBnQAAAAAAAQHFAAAAAAACAdEAAAAAAANB1QAAAAAAAgG1AAAAAAABQeUAAAAAAAMBVQAAAAAAAYHFA\",\"dtype\":\"float64\",\"shape\":[9]},\"TrainingEndTime\":{\"__ndarray__\":\"AAB8Y6fVdkIAAJiCqNV2QgCAgSio1XZCAADK06fVdkIAAJiIp9V2QgAAqK+n1XZCAAAYRKjVdkIAAIlMp9V2QgCAmDmo1XZC\",\"dtype\":\"float64\",\"shape\":[9]},\"TrainingJobName\":[\"factorization-machin-190922-1926-002-a510e60d\",\"factorization-machin-190922-1926-009-9e25fe14\",\"factorization-machin-190922-1926-007-62c6f3c9\",\"factorization-machin-190922-1926-005-a4aacaf8\",\"factorization-machin-190922-1926-003-70297c41\",\"factorization-machin-190922-1926-004-2d1de460\",\"factorization-machin-190922-1926-006-7476b9af\",\"factorization-machin-190922-1926-001-8f9c177d\",\"factorization-machin-190922-1926-008-b3e5bda4\"],\"TrainingJobStatus\":[\"Completed\",\"Completed\",\"Completed\",\"Completed\",\"Completed\",\"Completed\",\"Completed\",\"Completed\",\"Stopped\"],\"TrainingStartTime\":{\"__ndarray__\":\"AAAxMafVdkIAADVUqNV2QgCAH+Wn1XZCAAC2g6fVdkIAgGMzp9V2QgAACnan1XZCAIA34afVdkIAgEs3p9V2QgCAufWn1XZC\",\"dtype\":\"float64\",\"shape\":[9]},\"bias_init_sigma\":{\"__ndarray__\":\"nmukWXVL9D+EPxaiQwTjP0xXmO1zdAJAPkCSiD+LMEAmAliTMmkHPzUuVwEJ4mlAuZK6KUNDR0BbES2E6ghPPgB1t44106k/\",\"dtype\":\"float64\",\"shape\":[9]},\"epochs\":{\"__ndarray__\":\"AAAAAAAAeUAAAAAAAPB4QAAAAAAAIHxAAAAAAAAwf0AAAAAAAPB+QAAAAAAAUH5AAAAAAABAfEAAAAAAAGBmQAAAAAAAYHFA\",\"dtype\":\"float64\",\"shape\":[9]},\"factors_init_sigma\":{\"__ndarray__\":\"Vryj8ja0kj69AX+KM/3KPh6aGX9JJ7E+ErS6jswcWD479D46UDe0P+njBFOetvI+a3sP2bRFvD5Js5nndhD7P6EA3ARINUFA\",\"dtype\":\"float64\",\"shape\":[9]},\"index\":[7,0,2,4,6,5,3,8,1],\"linear_init_sigma\":{\"__ndarray__\":\"v3ZgoDAPLz8fhDd4owETPz6g+pUKT+8+uMEbOvG+8T5u9US1nVJ3P9iapbSiigdAT8OLJnbs/j6jwx/cJowhQMAREfHxycI/\",\"dtype\":\"float64\",\"shape\":[9]},\"mini_batch_size\":{\"__ndarray__\":\"AAAAAADAWUAAAAAAAEBcQAAAAAAAAF1AAAAAAABAV0AAAAAAAIBRQAAAAAAAgFxAAAAAAACASEAAAAAAAABgQAAAAAAAAEJA\",\"dtype\":\"float64\",\"shape\":[9]}},\"selected\":{\"id\":\"1100\",\"type\":\"Selection\"},\"selection_policy\":{\"id\":\"1099\",\"type\":\"UnionRenderers\"}},\"id\":\"1075\",\"type\":\"ColumnDataSource\"},{\"attributes\":{\"months\":[0,4,8]},\"id\":\"1096\",\"type\":\"MonthsTicker\"},{\"attributes\":{\"plot\":{\"id\":\"1040\",\"subtype\":\"Figure\",\"type\":\"Plot\"},\"ticker\":{\"id\":\"1050\",\"type\":\"DatetimeTicker\"}},\"id\":\"1053\",\"type\":\"Grid\"},{\"attributes\":{\"months\":[0,6]},\"id\":\"1097\",\"type\":\"MonthsTicker\"},{\"attributes\":{\"formatter\":{\"id\":\"1086\",\"type\":\"BasicTickFormatter\"},\"plot\":{\"id\":\"1040\",\"subtype\":\"Figure\",\"type\":\"Plot\"},\"ticker\":{\"id\":\"1055\",\"type\":\"BasicTicker\"}},\"id\":\"1054\",\"type\":\"LinearAxis\"},{\"attributes\":{},\"id\":\"1098\",\"type\":\"YearsTicker\"},{\"attributes\":{},\"id\":\"1055\",\"type\":\"BasicTicker\"},{\"attributes\":{},\"id\":\"1099\",\"type\":\"UnionRenderers\"},{\"attributes\":{\"dimension\":1,\"plot\":{\"id\":\"1040\",\"subtype\":\"Figure\",\"type\":\"Plot\"},\"ticker\":{\"id\":\"1055\",\"type\":\"BasicTicker\"}},\"id\":\"1058\",\"type\":\"Grid\"},{\"attributes\":{},\"id\":\"1100\",\"type\":\"Selection\"},{\"attributes\":{\"base\":24,\"mantissas\":[1,2,4,6,8,12],\"max_interval\":43200000.0,\"min_interval\":3600000.0,\"num_minor_ticks\":0},\"id\":\"1089\",\"type\":\"AdaptiveTicker\"},{\"attributes\":{\"days\":[1,8,15,22]},\"id\":\"1092\",\"type\":\"DaysTicker\"},{\"attributes\":{\"plot\":null,\"text\":\"\"},\"id\":\"1082\",\"type\":\"Title\"},{\"attributes\":{\"base\":60,\"mantissas\":[1,2,5,10,15,20,30],\"max_interval\":1800000.0,\"min_interval\":1000.0,\"num_minor_ticks\":0},\"id\":\"1088\",\"type\":\"AdaptiveTicker\"},{\"attributes\":{\"active_drag\":\"auto\",\"active_inspect\":\"auto\",\"active_multi\":null,\"active_scroll\":\"auto\",\"active_tap\":\"auto\",\"tools\":[{\"id\":\"1039\",\"type\":\"HoverTool\"},{\"id\":\"1059\",\"type\":\"PanTool\"},{\"id\":\"1060\",\"type\":\"CrosshairTool\"},{\"id\":\"1061\",\"type\":\"WheelZoomTool\"},{\"id\":\"1062\",\"type\":\"ZoomInTool\"},{\"id\":\"1063\",\"type\":\"ZoomOutTool\"},{\"id\":\"1064\",\"type\":\"UndoTool\"},{\"id\":\"1065\",\"type\":\"ResetTool\"}]},\"id\":\"1066\",\"type\":\"Toolbar\"},{\"attributes\":{},\"id\":\"1084\",\"type\":\"DatetimeTickFormatter\"},{\"attributes\":{},\"id\":\"1059\",\"type\":\"PanTool\"},{\"attributes\":{\"source\":{\"id\":\"1075\",\"type\":\"ColumnDataSource\"}},\"id\":\"1080\",\"type\":\"CDSView\"},{\"attributes\":{},\"id\":\"1060\",\"type\":\"CrosshairTool\"},{\"attributes\":{\"data_source\":{\"id\":\"1075\",\"type\":\"ColumnDataSource\"},\"glyph\":{\"id\":\"1077\",\"type\":\"Circle\"},\"hover_glyph\":null,\"muted_glyph\":null,\"nonselection_glyph\":{\"id\":\"1078\",\"type\":\"Circle\"},\"selection_glyph\":null,\"view\":{\"id\":\"1080\",\"type\":\"CDSView\"}},\"id\":\"1079\",\"type\":\"GlyphRenderer\"},{\"attributes\":{},\"id\":\"1061\",\"type\":\"WheelZoomTool\"},{\"attributes\":{\"callback\":null,\"tooltips\":[[\"FinalObjectiveValue\",\"@FinalObjectiveValue\"],[\"TrainingJobName\",\"@TrainingJobName\"],[\"epochs\",\"@{epochs}\"],[\"mini_batch_size\",\"@{mini_batch_size}\"],[\"bias_init_sigma\",\"@{bias_init_sigma}\"],[\"factors_init_sigma\",\"@{factors_init_sigma}\"],[\"linear_init_sigma\",\"@{linear_init_sigma}\"]]},\"id\":\"1039\",\"type\":\"HoverTool\"},{\"attributes\":{\"fill_alpha\":{\"value\":0.1},\"fill_color\":{\"value\":\"#1f77b4\"},\"line_alpha\":{\"value\":0.1},\"line_color\":{\"value\":\"#1f77b4\"},\"x\":{\"field\":\"TrainingStartTime\"},\"y\":{\"field\":\"FinalObjectiveValue\"}},\"id\":\"1078\",\"type\":\"Circle\"},{\"attributes\":{},\"id\":\"1062\",\"type\":\"ZoomInTool\"},{\"attributes\":{\"fill_color\":{\"value\":\"#1f77b4\"},\"line_color\":{\"value\":\"#1f77b4\"},\"x\":{\"field\":\"TrainingStartTime\"},\"y\":{\"field\":\"FinalObjectiveValue\"}},\"id\":\"1077\",\"type\":\"Circle\"},{\"attributes\":{},\"id\":\"1086\",\"type\":\"BasicTickFormatter\"},{\"attributes\":{},\"id\":\"1063\",\"type\":\"ZoomOutTool\"},{\"attributes\":{\"days\":[1,2,3,4,5,6,7,8,9,10,11,12,13,14,15,16,17,18,19,20,21,22,23,24,25,26,27,28,29,30,31]},\"id\":\"1090\",\"type\":\"DaysTicker\"},{\"attributes\":{},\"id\":\"1064\",\"type\":\"UndoTool\"},{\"attributes\":{\"callback\":null},\"id\":\"1041\",\"type\":\"DataRange1d\"},{\"attributes\":{\"days\":[1,4,7,10,13,16,19,22,25,28]},\"id\":\"1091\",\"type\":\"DaysTicker\"},{\"attributes\":{},\"id\":\"1065\",\"type\":\"ResetTool\"},{\"attributes\":{\"callback\":null},\"id\":\"1043\",\"type\":\"DataRange1d\"}],\"root_ids\":[\"1040\"]},\"title\":\"Bokeh Application\",\"version\":\"1.0.4\"}};\n",
       "  var render_items = [{\"docid\":\"070c2c6e-f4c6-469f-9ac3-08dcf0d04476\",\"roots\":{\"1040\":\"84750a8b-d3a2-409c-ba3a-c17d194a9966\"}}];\n",
       "  root.Bokeh.embed.embed_items_notebook(docs_json, render_items);\n",
       "\n",
       "  }\n",
       "  if (root.Bokeh !== undefined) {\n",
       "    embed_document(root);\n",
       "  } else {\n",
       "    var attempts = 0;\n",
       "    var timer = setInterval(function(root) {\n",
       "      if (root.Bokeh !== undefined) {\n",
       "        embed_document(root);\n",
       "        clearInterval(timer);\n",
       "      }\n",
       "      attempts++;\n",
       "      if (attempts > 100) {\n",
       "        console.log(\"Bokeh: ERROR: Unable to run BokehJS code because BokehJS library is missing\");\n",
       "        clearInterval(timer);\n",
       "      }\n",
       "    }, 10, root)\n",
       "  }\n",
       "})(window);"
      ],
      "application/vnd.bokehjs_exec.v0+json": ""
     },
     "metadata": {
      "application/vnd.bokehjs_exec.v0+json": {
       "id": "1040"
      }
     },
     "output_type": "display_data"
    }
   ],
   "source": [
    "\n",
    "\n",
    "hover = HoverHelper(tuner)\n",
    "\n",
    "p = figure(plot_width=900, plot_height=400, tools=hover.tools(), x_axis_type='datetime')\n",
    "p.circle(source=result_df, x='TrainingStartTime', y='FinalObjectiveValue')\n",
    "show(p)"
   ]
  },
  {
   "cell_type": "markdown",
   "metadata": {},
   "source": [
    "## Correlation between objective metric and individual hyperparameters \n",
    "The correlation between objective metric and individual hyperparameters will help decide whether it makes sense to adjust search ranges for certain hyperparameters and start another tuning job. For example, if there is a positive trend between objective metric and a numerical hyperparameter, we probably want to set a higher tuning range for that hyperparameter in the next tuning job.\n",
    "\n",
    "The following cell draws a graph for each hyperparameter to show its correlation with objective metric."
   ]
  },
  {
   "cell_type": "code",
   "execution_count": 23,
   "metadata": {
    "scrolled": false
   },
   "outputs": [
    {
     "data": {
      "text/html": [
       "\n",
       "\n",
       "\n",
       "\n",
       "\n",
       "\n",
       "  <div class=\"bk-root\" id=\"221a47b6-fd4c-4b00-92ac-eae77ff6342a\" data-root-id=\"1479\"></div>\n"
      ]
     },
     "metadata": {},
     "output_type": "display_data"
    },
    {
     "data": {
      "application/javascript": [
       "(function(root) {\n",
       "  function embed_document(root) {\n",
       "    \n",
       "  var docs_json = {\"3a6d8afd-eba8-46ea-a5cc-0c48719994ef\":{\"roots\":{\"references\":[{\"attributes\":{\"children\":[{\"id\":\"1261\",\"subtype\":\"Figure\",\"type\":\"Plot\"},{\"id\":\"1305\",\"subtype\":\"Figure\",\"type\":\"Plot\"},{\"id\":\"1349\",\"subtype\":\"Figure\",\"type\":\"Plot\"},{\"id\":\"1393\",\"subtype\":\"Figure\",\"type\":\"Plot\"},{\"id\":\"1437\",\"subtype\":\"Figure\",\"type\":\"Plot\"}]},\"id\":\"1479\",\"type\":\"Column\"},{\"attributes\":{\"callback\":null,\"tooltips\":[[\"FinalObjectiveValue\",\"@FinalObjectiveValue\"],[\"TrainingJobName\",\"@TrainingJobName\"],[\"epochs\",\"@{epochs}\"],[\"mini_batch_size\",\"@{mini_batch_size}\"],[\"bias_init_sigma\",\"@{bias_init_sigma}\"],[\"factors_init_sigma\",\"@{factors_init_sigma}\"],[\"linear_init_sigma\",\"@{linear_init_sigma}\"]]},\"id\":\"1435\",\"type\":\"HoverTool\"},{\"attributes\":{\"active_drag\":\"auto\",\"active_inspect\":\"auto\",\"active_multi\":null,\"active_scroll\":\"auto\",\"active_tap\":\"auto\",\"tools\":[{\"id\":\"1391\",\"type\":\"HoverTool\"},{\"id\":\"1413\",\"type\":\"PanTool\"},{\"id\":\"1414\",\"type\":\"CrosshairTool\"},{\"id\":\"1415\",\"type\":\"WheelZoomTool\"},{\"id\":\"1416\",\"type\":\"ZoomInTool\"},{\"id\":\"1417\",\"type\":\"ZoomOutTool\"},{\"id\":\"1418\",\"type\":\"UndoTool\"},{\"id\":\"1419\",\"type\":\"ResetTool\"}]},\"id\":\"1420\",\"type\":\"Toolbar\"},{\"attributes\":{},\"id\":\"1413\",\"type\":\"PanTool\"},{\"attributes\":{},\"id\":\"1414\",\"type\":\"CrosshairTool\"},{\"attributes\":{},\"id\":\"1415\",\"type\":\"WheelZoomTool\"},{\"attributes\":{},\"id\":\"1416\",\"type\":\"ZoomInTool\"},{\"attributes\":{},\"id\":\"1417\",\"type\":\"ZoomOutTool\"},{\"attributes\":{},\"id\":\"1418\",\"type\":\"UndoTool\"},{\"attributes\":{},\"id\":\"1419\",\"type\":\"ResetTool\"},{\"attributes\":{},\"id\":\"1460\",\"type\":\"ZoomInTool\"},{\"attributes\":{\"plot\":null,\"text\":\"Objective vs linear_init_sigma\"},\"id\":\"1436\",\"type\":\"Title\"},{\"attributes\":{\"fill_color\":{\"value\":\"#1f77b4\"},\"line_color\":{\"value\":\"#1f77b4\"},\"x\":{\"field\":\"linear_init_sigma\"},\"y\":{\"field\":\"FinalObjectiveValue\"}},\"id\":\"1475\",\"type\":\"Circle\"},{\"attributes\":{\"below\":[{\"id\":\"1447\",\"type\":\"LinearAxis\"}],\"left\":[{\"id\":\"1452\",\"type\":\"LinearAxis\"}],\"plot_height\":500,\"plot_width\":500,\"renderers\":[{\"id\":\"1447\",\"type\":\"LinearAxis\"},{\"id\":\"1451\",\"type\":\"Grid\"},{\"id\":\"1452\",\"type\":\"LinearAxis\"},{\"id\":\"1456\",\"type\":\"Grid\"},{\"id\":\"1477\",\"type\":\"GlyphRenderer\"}],\"title\":{\"id\":\"1436\",\"type\":\"Title\"},\"toolbar\":{\"id\":\"1464\",\"type\":\"Toolbar\"},\"x_range\":{\"id\":\"1439\",\"type\":\"DataRange1d\"},\"x_scale\":{\"id\":\"1443\",\"type\":\"LinearScale\"},\"y_range\":{\"id\":\"1441\",\"type\":\"DataRange1d\"},\"y_scale\":{\"id\":\"1445\",\"type\":\"LinearScale\"}},\"id\":\"1437\",\"subtype\":\"Figure\",\"type\":\"Plot\"},{\"attributes\":{\"source\":{\"id\":\"1429\",\"type\":\"ColumnDataSource\"}},\"id\":\"1434\",\"type\":\"CDSView\"},{\"attributes\":{\"data_source\":{\"id\":\"1429\",\"type\":\"ColumnDataSource\"},\"glyph\":{\"id\":\"1431\",\"type\":\"Circle\"},\"hover_glyph\":null,\"muted_glyph\":null,\"nonselection_glyph\":{\"id\":\"1432\",\"type\":\"Circle\"},\"selection_glyph\":null,\"view\":{\"id\":\"1434\",\"type\":\"CDSView\"}},\"id\":\"1433\",\"type\":\"GlyphRenderer\"},{\"attributes\":{\"fill_alpha\":{\"value\":0.1},\"fill_color\":{\"value\":\"#1f77b4\"},\"line_alpha\":{\"value\":0.1},\"line_color\":{\"value\":\"#1f77b4\"},\"x\":{\"field\":\"factors_init_sigma\"},\"y\":{\"field\":\"FinalObjectiveValue\"}},\"id\":\"1432\",\"type\":\"Circle\"},{\"attributes\":{\"fill_color\":{\"value\":\"#1f77b4\"},\"line_color\":{\"value\":\"#1f77b4\"},\"x\":{\"field\":\"factors_init_sigma\"},\"y\":{\"field\":\"FinalObjectiveValue\"}},\"id\":\"1431\",\"type\":\"Circle\"},{\"attributes\":{\"callback\":null},\"id\":\"1439\",\"type\":\"DataRange1d\"},{\"attributes\":{\"callback\":null},\"id\":\"1441\",\"type\":\"DataRange1d\"},{\"attributes\":{},\"id\":\"1443\",\"type\":\"LinearScale\"},{\"attributes\":{},\"id\":\"1445\",\"type\":\"LinearScale\"},{\"attributes\":{\"axis_label\":\"linear_init_sigma\",\"formatter\":{\"id\":\"1522\",\"type\":\"BasicTickFormatter\"},\"plot\":{\"id\":\"1437\",\"subtype\":\"Figure\",\"type\":\"Plot\"},\"ticker\":{\"id\":\"1448\",\"type\":\"BasicTicker\"}},\"id\":\"1447\",\"type\":\"LinearAxis\"},{\"attributes\":{},\"id\":\"1448\",\"type\":\"BasicTicker\"},{\"attributes\":{\"plot\":{\"id\":\"1437\",\"subtype\":\"Figure\",\"type\":\"Plot\"},\"ticker\":{\"id\":\"1448\",\"type\":\"BasicTicker\"}},\"id\":\"1451\",\"type\":\"Grid\"},{\"attributes\":{\"axis_label\":\"test:binary_classification_accuracy\",\"formatter\":{\"id\":\"1524\",\"type\":\"BasicTickFormatter\"},\"plot\":{\"id\":\"1437\",\"subtype\":\"Figure\",\"type\":\"Plot\"},\"ticker\":{\"id\":\"1453\",\"type\":\"BasicTicker\"}},\"id\":\"1452\",\"type\":\"LinearAxis\"},{\"attributes\":{},\"id\":\"1453\",\"type\":\"BasicTicker\"},{\"attributes\":{},\"id\":\"1459\",\"type\":\"WheelZoomTool\"},{\"attributes\":{},\"id\":\"1461\",\"type\":\"ZoomOutTool\"},{\"attributes\":{},\"id\":\"1462\",\"type\":\"UndoTool\"},{\"attributes\":{},\"id\":\"1463\",\"type\":\"ResetTool\"},{\"attributes\":{\"callback\":null,\"data\":{\"FinalObjectiveValue\":{\"__ndarray__\":\"AAAAQL7d4j8AAABA/MfiPwAAAIAGouI/AAAAgDdI4j8AAACgiDHiPwAAAIDULeI/AAAAoI0e4j8AAAAgfNThPwAAAGCwy+A/\",\"dtype\":\"float64\",\"shape\":[9]},\"TrainingElapsedTimeSeconds\":{\"__ndarray__\":\"AAAAAADAaUAAAAAAAMBnQAAAAAAAQHFAAAAAAACAdEAAAAAAANB1QAAAAAAAgG1AAAAAAABQeUAAAAAAAMBVQAAAAAAAYHFA\",\"dtype\":\"float64\",\"shape\":[9]},\"TrainingEndTime\":{\"__ndarray__\":\"AAB8Y6fVdkIAAJiCqNV2QgCAgSio1XZCAADK06fVdkIAAJiIp9V2QgAAqK+n1XZCAAAYRKjVdkIAAIlMp9V2QgCAmDmo1XZC\",\"dtype\":\"float64\",\"shape\":[9]},\"TrainingJobName\":[\"factorization-machin-190922-1926-002-a510e60d\",\"factorization-machin-190922-1926-009-9e25fe14\",\"factorization-machin-190922-1926-007-62c6f3c9\",\"factorization-machin-190922-1926-005-a4aacaf8\",\"factorization-machin-190922-1926-003-70297c41\",\"factorization-machin-190922-1926-004-2d1de460\",\"factorization-machin-190922-1926-006-7476b9af\",\"factorization-machin-190922-1926-001-8f9c177d\",\"factorization-machin-190922-1926-008-b3e5bda4\"],\"TrainingJobStatus\":[\"Completed\",\"Completed\",\"Completed\",\"Completed\",\"Completed\",\"Completed\",\"Completed\",\"Completed\",\"Stopped\"],\"TrainingStartTime\":{\"__ndarray__\":\"AAAxMafVdkIAADVUqNV2QgCAH+Wn1XZCAAC2g6fVdkIAgGMzp9V2QgAACnan1XZCAIA34afVdkIAgEs3p9V2QgCAufWn1XZC\",\"dtype\":\"float64\",\"shape\":[9]},\"bias_init_sigma\":{\"__ndarray__\":\"nmukWXVL9D+EPxaiQwTjP0xXmO1zdAJAPkCSiD+LMEAmAliTMmkHPzUuVwEJ4mlAuZK6KUNDR0BbES2E6ghPPgB1t44106k/\",\"dtype\":\"float64\",\"shape\":[9]},\"epochs\":{\"__ndarray__\":\"AAAAAAAAeUAAAAAAAPB4QAAAAAAAIHxAAAAAAAAwf0AAAAAAAPB+QAAAAAAAUH5AAAAAAABAfEAAAAAAAGBmQAAAAAAAYHFA\",\"dtype\":\"float64\",\"shape\":[9]},\"factors_init_sigma\":{\"__ndarray__\":\"Vryj8ja0kj69AX+KM/3KPh6aGX9JJ7E+ErS6jswcWD479D46UDe0P+njBFOetvI+a3sP2bRFvD5Js5nndhD7P6EA3ARINUFA\",\"dtype\":\"float64\",\"shape\":[9]},\"index\":[7,0,2,4,6,5,3,8,1],\"linear_init_sigma\":{\"__ndarray__\":\"v3ZgoDAPLz8fhDd4owETPz6g+pUKT+8+uMEbOvG+8T5u9US1nVJ3P9iapbSiigdAT8OLJnbs/j6jwx/cJowhQMAREfHxycI/\",\"dtype\":\"float64\",\"shape\":[9]},\"mini_batch_size\":{\"__ndarray__\":\"AAAAAADAWUAAAAAAAEBcQAAAAAAAAF1AAAAAAABAV0AAAAAAAIBRQAAAAAAAgFxAAAAAAACASEAAAAAAAABgQAAAAAAAAEJA\",\"dtype\":\"float64\",\"shape\":[9]}},\"selected\":{\"id\":\"1532\",\"type\":\"Selection\"},\"selection_policy\":{\"id\":\"1531\",\"type\":\"UnionRenderers\"}},\"id\":\"1429\",\"type\":\"ColumnDataSource\"},{\"attributes\":{\"active_drag\":\"auto\",\"active_inspect\":\"auto\",\"active_multi\":null,\"active_scroll\":\"auto\",\"active_tap\":\"auto\",\"tools\":[{\"id\":\"1435\",\"type\":\"HoverTool\"},{\"id\":\"1457\",\"type\":\"PanTool\"},{\"id\":\"1458\",\"type\":\"CrosshairTool\"},{\"id\":\"1459\",\"type\":\"WheelZoomTool\"},{\"id\":\"1460\",\"type\":\"ZoomInTool\"},{\"id\":\"1461\",\"type\":\"ZoomOutTool\"},{\"id\":\"1462\",\"type\":\"UndoTool\"},{\"id\":\"1463\",\"type\":\"ResetTool\"}]},\"id\":\"1464\",\"type\":\"Toolbar\"},{\"attributes\":{\"fill_alpha\":{\"value\":0.1},\"fill_color\":{\"value\":\"#1f77b4\"},\"line_alpha\":{\"value\":0.1},\"line_color\":{\"value\":\"#1f77b4\"},\"x\":{\"field\":\"linear_init_sigma\"},\"y\":{\"field\":\"FinalObjectiveValue\"}},\"id\":\"1476\",\"type\":\"Circle\"},{\"attributes\":{\"below\":[{\"id\":\"1315\",\"type\":\"LinearAxis\"}],\"left\":[{\"id\":\"1320\",\"type\":\"LinearAxis\"}],\"plot_height\":500,\"plot_width\":500,\"renderers\":[{\"id\":\"1315\",\"type\":\"LinearAxis\"},{\"id\":\"1319\",\"type\":\"Grid\"},{\"id\":\"1320\",\"type\":\"LinearAxis\"},{\"id\":\"1324\",\"type\":\"Grid\"},{\"id\":\"1345\",\"type\":\"GlyphRenderer\"}],\"title\":{\"id\":\"1304\",\"type\":\"Title\"},\"toolbar\":{\"id\":\"1332\",\"type\":\"Toolbar\"},\"x_range\":{\"id\":\"1307\",\"type\":\"DataRange1d\"},\"x_scale\":{\"id\":\"1311\",\"type\":\"LinearScale\"},\"y_range\":{\"id\":\"1309\",\"type\":\"DataRange1d\"},\"y_scale\":{\"id\":\"1313\",\"type\":\"LinearScale\"}},\"id\":\"1305\",\"subtype\":\"Figure\",\"type\":\"Plot\"},{\"attributes\":{\"plot\":{\"id\":\"1349\",\"subtype\":\"Figure\",\"type\":\"Plot\"},\"ticker\":{\"id\":\"1360\",\"type\":\"BasicTicker\"}},\"id\":\"1363\",\"type\":\"Grid\"},{\"attributes\":{},\"id\":\"1508\",\"type\":\"BasicTickFormatter\"},{\"attributes\":{\"callback\":null,\"tooltips\":[[\"FinalObjectiveValue\",\"@FinalObjectiveValue\"],[\"TrainingJobName\",\"@TrainingJobName\"],[\"epochs\",\"@{epochs}\"],[\"mini_batch_size\",\"@{mini_batch_size}\"],[\"bias_init_sigma\",\"@{bias_init_sigma}\"],[\"factors_init_sigma\",\"@{factors_init_sigma}\"],[\"linear_init_sigma\",\"@{linear_init_sigma}\"]]},\"id\":\"1347\",\"type\":\"HoverTool\"},{\"attributes\":{\"plot\":null,\"text\":\"Objective vs mini_batch_size\"},\"id\":\"1304\",\"type\":\"Title\"},{\"attributes\":{\"axis_label\":\"test:binary_classification_accuracy\",\"formatter\":{\"id\":\"1516\",\"type\":\"BasicTickFormatter\"},\"plot\":{\"id\":\"1349\",\"subtype\":\"Figure\",\"type\":\"Plot\"},\"ticker\":{\"id\":\"1365\",\"type\":\"BasicTicker\"}},\"id\":\"1364\",\"type\":\"LinearAxis\"},{\"attributes\":{},\"id\":\"1506\",\"type\":\"BasicTickFormatter\"},{\"attributes\":{\"callback\":null},\"id\":\"1307\",\"type\":\"DataRange1d\"},{\"attributes\":{},\"id\":\"1365\",\"type\":\"BasicTicker\"},{\"attributes\":{\"callback\":null},\"id\":\"1309\",\"type\":\"DataRange1d\"},{\"attributes\":{\"dimension\":1,\"plot\":{\"id\":\"1349\",\"subtype\":\"Figure\",\"type\":\"Plot\"},\"ticker\":{\"id\":\"1365\",\"type\":\"BasicTicker\"}},\"id\":\"1368\",\"type\":\"Grid\"},{\"attributes\":{\"callback\":null,\"tooltips\":[[\"FinalObjectiveValue\",\"@FinalObjectiveValue\"],[\"TrainingJobName\",\"@TrainingJobName\"],[\"epochs\",\"@{epochs}\"],[\"mini_batch_size\",\"@{mini_batch_size}\"],[\"bias_init_sigma\",\"@{bias_init_sigma}\"],[\"factors_init_sigma\",\"@{factors_init_sigma}\"],[\"linear_init_sigma\",\"@{linear_init_sigma}\"]]},\"id\":\"1259\",\"type\":\"HoverTool\"},{\"attributes\":{\"source\":{\"id\":\"1473\",\"type\":\"ColumnDataSource\"}},\"id\":\"1478\",\"type\":\"CDSView\"},{\"attributes\":{},\"id\":\"1311\",\"type\":\"LinearScale\"},{\"attributes\":{\"callback\":null,\"tooltips\":[[\"FinalObjectiveValue\",\"@FinalObjectiveValue\"],[\"TrainingJobName\",\"@TrainingJobName\"],[\"epochs\",\"@{epochs}\"],[\"mini_batch_size\",\"@{mini_batch_size}\"],[\"bias_init_sigma\",\"@{bias_init_sigma}\"],[\"factors_init_sigma\",\"@{factors_init_sigma}\"],[\"linear_init_sigma\",\"@{linear_init_sigma}\"]]},\"id\":\"1391\",\"type\":\"HoverTool\"},{\"attributes\":{\"plot\":null,\"text\":\"Objective vs factors_init_sigma\"},\"id\":\"1392\",\"type\":\"Title\"},{\"attributes\":{\"data_source\":{\"id\":\"1473\",\"type\":\"ColumnDataSource\"},\"glyph\":{\"id\":\"1475\",\"type\":\"Circle\"},\"hover_glyph\":null,\"muted_glyph\":null,\"nonselection_glyph\":{\"id\":\"1476\",\"type\":\"Circle\"},\"selection_glyph\":null,\"view\":{\"id\":\"1478\",\"type\":\"CDSView\"}},\"id\":\"1477\",\"type\":\"GlyphRenderer\"},{\"attributes\":{\"below\":[{\"id\":\"1271\",\"type\":\"LinearAxis\"}],\"left\":[{\"id\":\"1276\",\"type\":\"LinearAxis\"}],\"plot_height\":500,\"plot_width\":500,\"renderers\":[{\"id\":\"1271\",\"type\":\"LinearAxis\"},{\"id\":\"1275\",\"type\":\"Grid\"},{\"id\":\"1276\",\"type\":\"LinearAxis\"},{\"id\":\"1280\",\"type\":\"Grid\"},{\"id\":\"1301\",\"type\":\"GlyphRenderer\"}],\"title\":{\"id\":\"1260\",\"type\":\"Title\"},\"toolbar\":{\"id\":\"1288\",\"type\":\"Toolbar\"},\"x_range\":{\"id\":\"1263\",\"type\":\"DataRange1d\"},\"x_scale\":{\"id\":\"1267\",\"type\":\"LinearScale\"},\"y_range\":{\"id\":\"1265\",\"type\":\"DataRange1d\"},\"y_scale\":{\"id\":\"1269\",\"type\":\"LinearScale\"}},\"id\":\"1261\",\"subtype\":\"Figure\",\"type\":\"Plot\"},{\"attributes\":{},\"id\":\"1313\",\"type\":\"LinearScale\"},{\"attributes\":{\"callback\":null,\"data\":{\"FinalObjectiveValue\":{\"__ndarray__\":\"AAAAQL7d4j8AAABA/MfiPwAAAIAGouI/AAAAgDdI4j8AAACgiDHiPwAAAIDULeI/AAAAoI0e4j8AAAAgfNThPwAAAGCwy+A/\",\"dtype\":\"float64\",\"shape\":[9]},\"TrainingElapsedTimeSeconds\":{\"__ndarray__\":\"AAAAAADAaUAAAAAAAMBnQAAAAAAAQHFAAAAAAACAdEAAAAAAANB1QAAAAAAAgG1AAAAAAABQeUAAAAAAAMBVQAAAAAAAYHFA\",\"dtype\":\"float64\",\"shape\":[9]},\"TrainingEndTime\":{\"__ndarray__\":\"AAB8Y6fVdkIAAJiCqNV2QgCAgSio1XZCAADK06fVdkIAAJiIp9V2QgAAqK+n1XZCAAAYRKjVdkIAAIlMp9V2QgCAmDmo1XZC\",\"dtype\":\"float64\",\"shape\":[9]},\"TrainingJobName\":[\"factorization-machin-190922-1926-002-a510e60d\",\"factorization-machin-190922-1926-009-9e25fe14\",\"factorization-machin-190922-1926-007-62c6f3c9\",\"factorization-machin-190922-1926-005-a4aacaf8\",\"factorization-machin-190922-1926-003-70297c41\",\"factorization-machin-190922-1926-004-2d1de460\",\"factorization-machin-190922-1926-006-7476b9af\",\"factorization-machin-190922-1926-001-8f9c177d\",\"factorization-machin-190922-1926-008-b3e5bda4\"],\"TrainingJobStatus\":[\"Completed\",\"Completed\",\"Completed\",\"Completed\",\"Completed\",\"Completed\",\"Completed\",\"Completed\",\"Stopped\"],\"TrainingStartTime\":{\"__ndarray__\":\"AAAxMafVdkIAADVUqNV2QgCAH+Wn1XZCAAC2g6fVdkIAgGMzp9V2QgAACnan1XZCAIA34afVdkIAgEs3p9V2QgCAufWn1XZC\",\"dtype\":\"float64\",\"shape\":[9]},\"bias_init_sigma\":{\"__ndarray__\":\"nmukWXVL9D+EPxaiQwTjP0xXmO1zdAJAPkCSiD+LMEAmAliTMmkHPzUuVwEJ4mlAuZK6KUNDR0BbES2E6ghPPgB1t44106k/\",\"dtype\":\"float64\",\"shape\":[9]},\"epochs\":{\"__ndarray__\":\"AAAAAAAAeUAAAAAAAPB4QAAAAAAAIHxAAAAAAAAwf0AAAAAAAPB+QAAAAAAAUH5AAAAAAABAfEAAAAAAAGBmQAAAAAAAYHFA\",\"dtype\":\"float64\",\"shape\":[9]},\"factors_init_sigma\":{\"__ndarray__\":\"Vryj8ja0kj69AX+KM/3KPh6aGX9JJ7E+ErS6jswcWD479D46UDe0P+njBFOetvI+a3sP2bRFvD5Js5nndhD7P6EA3ARINUFA\",\"dtype\":\"float64\",\"shape\":[9]},\"index\":[7,0,2,4,6,5,3,8,1],\"linear_init_sigma\":{\"__ndarray__\":\"v3ZgoDAPLz8fhDd4owETPz6g+pUKT+8+uMEbOvG+8T5u9US1nVJ3P9iapbSiigdAT8OLJnbs/j6jwx/cJowhQMAREfHxycI/\",\"dtype\":\"float64\",\"shape\":[9]},\"mini_batch_size\":{\"__ndarray__\":\"AAAAAADAWUAAAAAAAEBcQAAAAAAAAF1AAAAAAABAV0AAAAAAAIBRQAAAAAAAgFxAAAAAAACASEAAAAAAAABgQAAAAAAAAEJA\",\"dtype\":\"float64\",\"shape\":[9]}},\"selected\":{\"id\":\"1534\",\"type\":\"Selection\"},\"selection_policy\":{\"id\":\"1533\",\"type\":\"UnionRenderers\"}},\"id\":\"1473\",\"type\":\"ColumnDataSource\"},{\"attributes\":{},\"id\":\"1510\",\"type\":\"BasicTickFormatter\"},{\"attributes\":{\"axis_label\":\"mini_batch_size\",\"formatter\":{\"id\":\"1510\",\"type\":\"BasicTickFormatter\"},\"plot\":{\"id\":\"1305\",\"subtype\":\"Figure\",\"type\":\"Plot\"},\"ticker\":{\"id\":\"1316\",\"type\":\"BasicTicker\"}},\"id\":\"1315\",\"type\":\"LinearAxis\"},{\"attributes\":{\"active_drag\":\"auto\",\"active_inspect\":\"auto\",\"active_multi\":null,\"active_scroll\":\"auto\",\"active_tap\":\"auto\",\"tools\":[{\"id\":\"1347\",\"type\":\"HoverTool\"},{\"id\":\"1369\",\"type\":\"PanTool\"},{\"id\":\"1370\",\"type\":\"CrosshairTool\"},{\"id\":\"1371\",\"type\":\"WheelZoomTool\"},{\"id\":\"1372\",\"type\":\"ZoomInTool\"},{\"id\":\"1373\",\"type\":\"ZoomOutTool\"},{\"id\":\"1374\",\"type\":\"UndoTool\"},{\"id\":\"1375\",\"type\":\"ResetTool\"}]},\"id\":\"1376\",\"type\":\"Toolbar\"},{\"attributes\":{\"plot\":null,\"text\":\"Objective vs epochs\"},\"id\":\"1260\",\"type\":\"Title\"},{\"attributes\":{},\"id\":\"1512\",\"type\":\"BasicTickFormatter\"},{\"attributes\":{},\"id\":\"1369\",\"type\":\"PanTool\"},{\"attributes\":{},\"id\":\"1316\",\"type\":\"BasicTicker\"},{\"attributes\":{},\"id\":\"1370\",\"type\":\"CrosshairTool\"},{\"attributes\":{},\"id\":\"1514\",\"type\":\"BasicTickFormatter\"},{\"attributes\":{\"callback\":null},\"id\":\"1263\",\"type\":\"DataRange1d\"},{\"attributes\":{\"plot\":{\"id\":\"1305\",\"subtype\":\"Figure\",\"type\":\"Plot\"},\"ticker\":{\"id\":\"1316\",\"type\":\"BasicTicker\"}},\"id\":\"1319\",\"type\":\"Grid\"},{\"attributes\":{},\"id\":\"1371\",\"type\":\"WheelZoomTool\"},{\"attributes\":{},\"id\":\"1516\",\"type\":\"BasicTickFormatter\"},{\"attributes\":{\"callback\":null},\"id\":\"1265\",\"type\":\"DataRange1d\"},{\"attributes\":{\"axis_label\":\"test:binary_classification_accuracy\",\"formatter\":{\"id\":\"1512\",\"type\":\"BasicTickFormatter\"},\"plot\":{\"id\":\"1305\",\"subtype\":\"Figure\",\"type\":\"Plot\"},\"ticker\":{\"id\":\"1321\",\"type\":\"BasicTicker\"}},\"id\":\"1320\",\"type\":\"LinearAxis\"},{\"attributes\":{},\"id\":\"1372\",\"type\":\"ZoomInTool\"},{\"attributes\":{},\"id\":\"1518\",\"type\":\"BasicTickFormatter\"},{\"attributes\":{},\"id\":\"1267\",\"type\":\"LinearScale\"},{\"attributes\":{},\"id\":\"1321\",\"type\":\"BasicTicker\"},{\"attributes\":{},\"id\":\"1373\",\"type\":\"ZoomOutTool\"},{\"attributes\":{},\"id\":\"1520\",\"type\":\"BasicTickFormatter\"},{\"attributes\":{},\"id\":\"1269\",\"type\":\"LinearScale\"},{\"attributes\":{\"dimension\":1,\"plot\":{\"id\":\"1305\",\"subtype\":\"Figure\",\"type\":\"Plot\"},\"ticker\":{\"id\":\"1321\",\"type\":\"BasicTicker\"}},\"id\":\"1324\",\"type\":\"Grid\"},{\"attributes\":{},\"id\":\"1374\",\"type\":\"UndoTool\"},{\"attributes\":{},\"id\":\"1522\",\"type\":\"BasicTickFormatter\"},{\"attributes\":{\"axis_label\":\"epochs\",\"formatter\":{\"id\":\"1506\",\"type\":\"BasicTickFormatter\"},\"plot\":{\"id\":\"1261\",\"subtype\":\"Figure\",\"type\":\"Plot\"},\"ticker\":{\"id\":\"1272\",\"type\":\"BasicTicker\"}},\"id\":\"1271\",\"type\":\"LinearAxis\"},{\"attributes\":{\"plot\":null,\"text\":\"Objective vs bias_init_sigma\"},\"id\":\"1348\",\"type\":\"Title\"},{\"attributes\":{},\"id\":\"1375\",\"type\":\"ResetTool\"},{\"attributes\":{},\"id\":\"1458\",\"type\":\"CrosshairTool\"},{\"attributes\":{},\"id\":\"1524\",\"type\":\"BasicTickFormatter\"},{\"attributes\":{},\"id\":\"1272\",\"type\":\"BasicTicker\"},{\"attributes\":{\"callback\":null,\"data\":{\"FinalObjectiveValue\":{\"__ndarray__\":\"AAAAQL7d4j8AAABA/MfiPwAAAIAGouI/AAAAgDdI4j8AAACgiDHiPwAAAIDULeI/AAAAoI0e4j8AAAAgfNThPwAAAGCwy+A/\",\"dtype\":\"float64\",\"shape\":[9]},\"TrainingElapsedTimeSeconds\":{\"__ndarray__\":\"AAAAAADAaUAAAAAAAMBnQAAAAAAAQHFAAAAAAACAdEAAAAAAANB1QAAAAAAAgG1AAAAAAABQeUAAAAAAAMBVQAAAAAAAYHFA\",\"dtype\":\"float64\",\"shape\":[9]},\"TrainingEndTime\":{\"__ndarray__\":\"AAB8Y6fVdkIAAJiCqNV2QgCAgSio1XZCAADK06fVdkIAAJiIp9V2QgAAqK+n1XZCAAAYRKjVdkIAAIlMp9V2QgCAmDmo1XZC\",\"dtype\":\"float64\",\"shape\":[9]},\"TrainingJobName\":[\"factorization-machin-190922-1926-002-a510e60d\",\"factorization-machin-190922-1926-009-9e25fe14\",\"factorization-machin-190922-1926-007-62c6f3c9\",\"factorization-machin-190922-1926-005-a4aacaf8\",\"factorization-machin-190922-1926-003-70297c41\",\"factorization-machin-190922-1926-004-2d1de460\",\"factorization-machin-190922-1926-006-7476b9af\",\"factorization-machin-190922-1926-001-8f9c177d\",\"factorization-machin-190922-1926-008-b3e5bda4\"],\"TrainingJobStatus\":[\"Completed\",\"Completed\",\"Completed\",\"Completed\",\"Completed\",\"Completed\",\"Completed\",\"Completed\",\"Stopped\"],\"TrainingStartTime\":{\"__ndarray__\":\"AAAxMafVdkIAADVUqNV2QgCAH+Wn1XZCAAC2g6fVdkIAgGMzp9V2QgAACnan1XZCAIA34afVdkIAgEs3p9V2QgCAufWn1XZC\",\"dtype\":\"float64\",\"shape\":[9]},\"bias_init_sigma\":{\"__ndarray__\":\"nmukWXVL9D+EPxaiQwTjP0xXmO1zdAJAPkCSiD+LMEAmAliTMmkHPzUuVwEJ4mlAuZK6KUNDR0BbES2E6ghPPgB1t44106k/\",\"dtype\":\"float64\",\"shape\":[9]},\"epochs\":{\"__ndarray__\":\"AAAAAAAAeUAAAAAAAPB4QAAAAAAAIHxAAAAAAAAwf0AAAAAAAPB+QAAAAAAAUH5AAAAAAABAfEAAAAAAAGBmQAAAAAAAYHFA\",\"dtype\":\"float64\",\"shape\":[9]},\"factors_init_sigma\":{\"__ndarray__\":\"Vryj8ja0kj69AX+KM/3KPh6aGX9JJ7E+ErS6jswcWD479D46UDe0P+njBFOetvI+a3sP2bRFvD5Js5nndhD7P6EA3ARINUFA\",\"dtype\":\"float64\",\"shape\":[9]},\"index\":[7,0,2,4,6,5,3,8,1],\"linear_init_sigma\":{\"__ndarray__\":\"v3ZgoDAPLz8fhDd4owETPz6g+pUKT+8+uMEbOvG+8T5u9US1nVJ3P9iapbSiigdAT8OLJnbs/j6jwx/cJowhQMAREfHxycI/\",\"dtype\":\"float64\",\"shape\":[9]},\"mini_batch_size\":{\"__ndarray__\":\"AAAAAADAWUAAAAAAAEBcQAAAAAAAAF1AAAAAAABAV0AAAAAAAIBRQAAAAAAAgFxAAAAAAACASEAAAAAAAABgQAAAAAAAAEJA\",\"dtype\":\"float64\",\"shape\":[9]}},\"selected\":{\"id\":\"1528\",\"type\":\"Selection\"},\"selection_policy\":{\"id\":\"1527\",\"type\":\"UnionRenderers\"}},\"id\":\"1341\",\"type\":\"ColumnDataSource\"},{\"attributes\":{},\"id\":\"1525\",\"type\":\"UnionRenderers\"},{\"attributes\":{\"plot\":{\"id\":\"1261\",\"subtype\":\"Figure\",\"type\":\"Plot\"},\"ticker\":{\"id\":\"1272\",\"type\":\"BasicTicker\"}},\"id\":\"1275\",\"type\":\"Grid\"},{\"attributes\":{\"active_drag\":\"auto\",\"active_inspect\":\"auto\",\"active_multi\":null,\"active_scroll\":\"auto\",\"active_tap\":\"auto\",\"tools\":[{\"id\":\"1303\",\"type\":\"HoverTool\"},{\"id\":\"1325\",\"type\":\"PanTool\"},{\"id\":\"1326\",\"type\":\"CrosshairTool\"},{\"id\":\"1327\",\"type\":\"WheelZoomTool\"},{\"id\":\"1328\",\"type\":\"ZoomInTool\"},{\"id\":\"1329\",\"type\":\"ZoomOutTool\"},{\"id\":\"1330\",\"type\":\"UndoTool\"},{\"id\":\"1331\",\"type\":\"ResetTool\"}]},\"id\":\"1332\",\"type\":\"Toolbar\"},{\"attributes\":{},\"id\":\"1325\",\"type\":\"PanTool\"},{\"attributes\":{},\"id\":\"1528\",\"type\":\"Selection\"},{\"attributes\":{\"axis_label\":\"test:binary_classification_accuracy\",\"formatter\":{\"id\":\"1508\",\"type\":\"BasicTickFormatter\"},\"plot\":{\"id\":\"1261\",\"subtype\":\"Figure\",\"type\":\"Plot\"},\"ticker\":{\"id\":\"1277\",\"type\":\"BasicTicker\"}},\"id\":\"1276\",\"type\":\"LinearAxis\"},{\"attributes\":{},\"id\":\"1326\",\"type\":\"CrosshairTool\"},{\"attributes\":{},\"id\":\"1529\",\"type\":\"UnionRenderers\"},{\"attributes\":{},\"id\":\"1277\",\"type\":\"BasicTicker\"},{\"attributes\":{},\"id\":\"1329\",\"type\":\"ZoomOutTool\"},{\"attributes\":{},\"id\":\"1530\",\"type\":\"Selection\"},{\"attributes\":{\"dimension\":1,\"plot\":{\"id\":\"1261\",\"subtype\":\"Figure\",\"type\":\"Plot\"},\"ticker\":{\"id\":\"1277\",\"type\":\"BasicTicker\"}},\"id\":\"1280\",\"type\":\"Grid\"},{\"attributes\":{},\"id\":\"1330\",\"type\":\"UndoTool\"},{\"attributes\":{},\"id\":\"1531\",\"type\":\"UnionRenderers\"},{\"attributes\":{\"dimension\":1,\"plot\":{\"id\":\"1437\",\"subtype\":\"Figure\",\"type\":\"Plot\"},\"ticker\":{\"id\":\"1453\",\"type\":\"BasicTicker\"}},\"id\":\"1456\",\"type\":\"Grid\"},{\"attributes\":{\"below\":[{\"id\":\"1403\",\"type\":\"LinearAxis\"}],\"left\":[{\"id\":\"1408\",\"type\":\"LinearAxis\"}],\"plot_height\":500,\"plot_width\":500,\"renderers\":[{\"id\":\"1403\",\"type\":\"LinearAxis\"},{\"id\":\"1407\",\"type\":\"Grid\"},{\"id\":\"1408\",\"type\":\"LinearAxis\"},{\"id\":\"1412\",\"type\":\"Grid\"},{\"id\":\"1433\",\"type\":\"GlyphRenderer\"}],\"title\":{\"id\":\"1392\",\"type\":\"Title\"},\"toolbar\":{\"id\":\"1420\",\"type\":\"Toolbar\"},\"x_range\":{\"id\":\"1395\",\"type\":\"DataRange1d\"},\"x_scale\":{\"id\":\"1399\",\"type\":\"LinearScale\"},\"y_range\":{\"id\":\"1397\",\"type\":\"DataRange1d\"},\"y_scale\":{\"id\":\"1401\",\"type\":\"LinearScale\"}},\"id\":\"1393\",\"subtype\":\"Figure\",\"type\":\"Plot\"},{\"attributes\":{},\"id\":\"1331\",\"type\":\"ResetTool\"},{\"attributes\":{},\"id\":\"1532\",\"type\":\"Selection\"},{\"attributes\":{},\"id\":\"1328\",\"type\":\"ZoomInTool\"},{\"attributes\":{\"callback\":null,\"data\":{\"FinalObjectiveValue\":{\"__ndarray__\":\"AAAAQL7d4j8AAABA/MfiPwAAAIAGouI/AAAAgDdI4j8AAACgiDHiPwAAAIDULeI/AAAAoI0e4j8AAAAgfNThPwAAAGCwy+A/\",\"dtype\":\"float64\",\"shape\":[9]},\"TrainingElapsedTimeSeconds\":{\"__ndarray__\":\"AAAAAADAaUAAAAAAAMBnQAAAAAAAQHFAAAAAAACAdEAAAAAAANB1QAAAAAAAgG1AAAAAAABQeUAAAAAAAMBVQAAAAAAAYHFA\",\"dtype\":\"float64\",\"shape\":[9]},\"TrainingEndTime\":{\"__ndarray__\":\"AAB8Y6fVdkIAAJiCqNV2QgCAgSio1XZCAADK06fVdkIAAJiIp9V2QgAAqK+n1XZCAAAYRKjVdkIAAIlMp9V2QgCAmDmo1XZC\",\"dtype\":\"float64\",\"shape\":[9]},\"TrainingJobName\":[\"factorization-machin-190922-1926-002-a510e60d\",\"factorization-machin-190922-1926-009-9e25fe14\",\"factorization-machin-190922-1926-007-62c6f3c9\",\"factorization-machin-190922-1926-005-a4aacaf8\",\"factorization-machin-190922-1926-003-70297c41\",\"factorization-machin-190922-1926-004-2d1de460\",\"factorization-machin-190922-1926-006-7476b9af\",\"factorization-machin-190922-1926-001-8f9c177d\",\"factorization-machin-190922-1926-008-b3e5bda4\"],\"TrainingJobStatus\":[\"Completed\",\"Completed\",\"Completed\",\"Completed\",\"Completed\",\"Completed\",\"Completed\",\"Completed\",\"Stopped\"],\"TrainingStartTime\":{\"__ndarray__\":\"AAAxMafVdkIAADVUqNV2QgCAH+Wn1XZCAAC2g6fVdkIAgGMzp9V2QgAACnan1XZCAIA34afVdkIAgEs3p9V2QgCAufWn1XZC\",\"dtype\":\"float64\",\"shape\":[9]},\"bias_init_sigma\":{\"__ndarray__\":\"nmukWXVL9D+EPxaiQwTjP0xXmO1zdAJAPkCSiD+LMEAmAliTMmkHPzUuVwEJ4mlAuZK6KUNDR0BbES2E6ghPPgB1t44106k/\",\"dtype\":\"float64\",\"shape\":[9]},\"epochs\":{\"__ndarray__\":\"AAAAAAAAeUAAAAAAAPB4QAAAAAAAIHxAAAAAAAAwf0AAAAAAAPB+QAAAAAAAUH5AAAAAAABAfEAAAAAAAGBmQAAAAAAAYHFA\",\"dtype\":\"float64\",\"shape\":[9]},\"factors_init_sigma\":{\"__ndarray__\":\"Vryj8ja0kj69AX+KM/3KPh6aGX9JJ7E+ErS6jswcWD479D46UDe0P+njBFOetvI+a3sP2bRFvD5Js5nndhD7P6EA3ARINUFA\",\"dtype\":\"float64\",\"shape\":[9]},\"index\":[7,0,2,4,6,5,3,8,1],\"linear_init_sigma\":{\"__ndarray__\":\"v3ZgoDAPLz8fhDd4owETPz6g+pUKT+8+uMEbOvG+8T5u9US1nVJ3P9iapbSiigdAT8OLJnbs/j6jwx/cJowhQMAREfHxycI/\",\"dtype\":\"float64\",\"shape\":[9]},\"mini_batch_size\":{\"__ndarray__\":\"AAAAAADAWUAAAAAAAEBcQAAAAAAAAF1AAAAAAABAV0AAAAAAAIBRQAAAAAAAgFxAAAAAAACASEAAAAAAAABgQAAAAAAAAEJA\",\"dtype\":\"float64\",\"shape\":[9]}},\"selected\":{\"id\":\"1526\",\"type\":\"Selection\"},\"selection_policy\":{\"id\":\"1525\",\"type\":\"UnionRenderers\"}},\"id\":\"1297\",\"type\":\"ColumnDataSource\"},{\"attributes\":{},\"id\":\"1533\",\"type\":\"UnionRenderers\"},{\"attributes\":{\"active_drag\":\"auto\",\"active_inspect\":\"auto\",\"active_multi\":null,\"active_scroll\":\"auto\",\"active_tap\":\"auto\",\"tools\":[{\"id\":\"1259\",\"type\":\"HoverTool\"},{\"id\":\"1281\",\"type\":\"PanTool\"},{\"id\":\"1282\",\"type\":\"CrosshairTool\"},{\"id\":\"1283\",\"type\":\"WheelZoomTool\"},{\"id\":\"1284\",\"type\":\"ZoomInTool\"},{\"id\":\"1285\",\"type\":\"ZoomOutTool\"},{\"id\":\"1286\",\"type\":\"UndoTool\"},{\"id\":\"1287\",\"type\":\"ResetTool\"}]},\"id\":\"1288\",\"type\":\"Toolbar\"},{\"attributes\":{\"source\":{\"id\":\"1385\",\"type\":\"ColumnDataSource\"}},\"id\":\"1390\",\"type\":\"CDSView\"},{\"attributes\":{\"data_source\":{\"id\":\"1385\",\"type\":\"ColumnDataSource\"},\"glyph\":{\"id\":\"1387\",\"type\":\"Circle\"},\"hover_glyph\":null,\"muted_glyph\":null,\"nonselection_glyph\":{\"id\":\"1388\",\"type\":\"Circle\"},\"selection_glyph\":null,\"view\":{\"id\":\"1390\",\"type\":\"CDSView\"}},\"id\":\"1389\",\"type\":\"GlyphRenderer\"},{\"attributes\":{},\"id\":\"1281\",\"type\":\"PanTool\"},{\"attributes\":{},\"id\":\"1457\",\"type\":\"PanTool\"},{\"attributes\":{},\"id\":\"1534\",\"type\":\"Selection\"},{\"attributes\":{},\"id\":\"1282\",\"type\":\"CrosshairTool\"},{\"attributes\":{\"fill_alpha\":{\"value\":0.1},\"fill_color\":{\"value\":\"#1f77b4\"},\"line_alpha\":{\"value\":0.1},\"line_color\":{\"value\":\"#1f77b4\"},\"x\":{\"field\":\"bias_init_sigma\"},\"y\":{\"field\":\"FinalObjectiveValue\"}},\"id\":\"1388\",\"type\":\"Circle\"},{\"attributes\":{},\"id\":\"1283\",\"type\":\"WheelZoomTool\"},{\"attributes\":{\"fill_color\":{\"value\":\"#1f77b4\"},\"line_color\":{\"value\":\"#1f77b4\"},\"x\":{\"field\":\"bias_init_sigma\"},\"y\":{\"field\":\"FinalObjectiveValue\"}},\"id\":\"1387\",\"type\":\"Circle\"},{\"attributes\":{},\"id\":\"1527\",\"type\":\"UnionRenderers\"},{\"attributes\":{},\"id\":\"1284\",\"type\":\"ZoomInTool\"},{\"attributes\":{\"callback\":null},\"id\":\"1395\",\"type\":\"DataRange1d\"},{\"attributes\":{\"callback\":null,\"data\":{\"FinalObjectiveValue\":{\"__ndarray__\":\"AAAAQL7d4j8AAABA/MfiPwAAAIAGouI/AAAAgDdI4j8AAACgiDHiPwAAAIDULeI/AAAAoI0e4j8AAAAgfNThPwAAAGCwy+A/\",\"dtype\":\"float64\",\"shape\":[9]},\"TrainingElapsedTimeSeconds\":{\"__ndarray__\":\"AAAAAADAaUAAAAAAAMBnQAAAAAAAQHFAAAAAAACAdEAAAAAAANB1QAAAAAAAgG1AAAAAAABQeUAAAAAAAMBVQAAAAAAAYHFA\",\"dtype\":\"float64\",\"shape\":[9]},\"TrainingEndTime\":{\"__ndarray__\":\"AAB8Y6fVdkIAAJiCqNV2QgCAgSio1XZCAADK06fVdkIAAJiIp9V2QgAAqK+n1XZCAAAYRKjVdkIAAIlMp9V2QgCAmDmo1XZC\",\"dtype\":\"float64\",\"shape\":[9]},\"TrainingJobName\":[\"factorization-machin-190922-1926-002-a510e60d\",\"factorization-machin-190922-1926-009-9e25fe14\",\"factorization-machin-190922-1926-007-62c6f3c9\",\"factorization-machin-190922-1926-005-a4aacaf8\",\"factorization-machin-190922-1926-003-70297c41\",\"factorization-machin-190922-1926-004-2d1de460\",\"factorization-machin-190922-1926-006-7476b9af\",\"factorization-machin-190922-1926-001-8f9c177d\",\"factorization-machin-190922-1926-008-b3e5bda4\"],\"TrainingJobStatus\":[\"Completed\",\"Completed\",\"Completed\",\"Completed\",\"Completed\",\"Completed\",\"Completed\",\"Completed\",\"Stopped\"],\"TrainingStartTime\":{\"__ndarray__\":\"AAAxMafVdkIAADVUqNV2QgCAH+Wn1XZCAAC2g6fVdkIAgGMzp9V2QgAACnan1XZCAIA34afVdkIAgEs3p9V2QgCAufWn1XZC\",\"dtype\":\"float64\",\"shape\":[9]},\"bias_init_sigma\":{\"__ndarray__\":\"nmukWXVL9D+EPxaiQwTjP0xXmO1zdAJAPkCSiD+LMEAmAliTMmkHPzUuVwEJ4mlAuZK6KUNDR0BbES2E6ghPPgB1t44106k/\",\"dtype\":\"float64\",\"shape\":[9]},\"epochs\":{\"__ndarray__\":\"AAAAAAAAeUAAAAAAAPB4QAAAAAAAIHxAAAAAAAAwf0AAAAAAAPB+QAAAAAAAUH5AAAAAAABAfEAAAAAAAGBmQAAAAAAAYHFA\",\"dtype\":\"float64\",\"shape\":[9]},\"factors_init_sigma\":{\"__ndarray__\":\"Vryj8ja0kj69AX+KM/3KPh6aGX9JJ7E+ErS6jswcWD479D46UDe0P+njBFOetvI+a3sP2bRFvD5Js5nndhD7P6EA3ARINUFA\",\"dtype\":\"float64\",\"shape\":[9]},\"index\":[7,0,2,4,6,5,3,8,1],\"linear_init_sigma\":{\"__ndarray__\":\"v3ZgoDAPLz8fhDd4owETPz6g+pUKT+8+uMEbOvG+8T5u9US1nVJ3P9iapbSiigdAT8OLJnbs/j6jwx/cJowhQMAREfHxycI/\",\"dtype\":\"float64\",\"shape\":[9]},\"mini_batch_size\":{\"__ndarray__\":\"AAAAAADAWUAAAAAAAEBcQAAAAAAAAF1AAAAAAABAV0AAAAAAAIBRQAAAAAAAgFxAAAAAAACASEAAAAAAAABgQAAAAAAAAEJA\",\"dtype\":\"float64\",\"shape\":[9]}},\"selected\":{\"id\":\"1530\",\"type\":\"Selection\"},\"selection_policy\":{\"id\":\"1529\",\"type\":\"UnionRenderers\"}},\"id\":\"1385\",\"type\":\"ColumnDataSource\"},{\"attributes\":{\"below\":[{\"id\":\"1359\",\"type\":\"LinearAxis\"}],\"left\":[{\"id\":\"1364\",\"type\":\"LinearAxis\"}],\"plot_height\":500,\"plot_width\":500,\"renderers\":[{\"id\":\"1359\",\"type\":\"LinearAxis\"},{\"id\":\"1363\",\"type\":\"Grid\"},{\"id\":\"1364\",\"type\":\"LinearAxis\"},{\"id\":\"1368\",\"type\":\"Grid\"},{\"id\":\"1389\",\"type\":\"GlyphRenderer\"}],\"title\":{\"id\":\"1348\",\"type\":\"Title\"},\"toolbar\":{\"id\":\"1376\",\"type\":\"Toolbar\"},\"x_range\":{\"id\":\"1351\",\"type\":\"DataRange1d\"},\"x_scale\":{\"id\":\"1355\",\"type\":\"LinearScale\"},\"y_range\":{\"id\":\"1353\",\"type\":\"DataRange1d\"},\"y_scale\":{\"id\":\"1357\",\"type\":\"LinearScale\"}},\"id\":\"1349\",\"subtype\":\"Figure\",\"type\":\"Plot\"},{\"attributes\":{},\"id\":\"1285\",\"type\":\"ZoomOutTool\"},{\"attributes\":{\"callback\":null},\"id\":\"1397\",\"type\":\"DataRange1d\"},{\"attributes\":{},\"id\":\"1286\",\"type\":\"UndoTool\"},{\"attributes\":{},\"id\":\"1399\",\"type\":\"LinearScale\"},{\"attributes\":{\"source\":{\"id\":\"1341\",\"type\":\"ColumnDataSource\"}},\"id\":\"1346\",\"type\":\"CDSView\"},{\"attributes\":{\"data_source\":{\"id\":\"1341\",\"type\":\"ColumnDataSource\"},\"glyph\":{\"id\":\"1343\",\"type\":\"Circle\"},\"hover_glyph\":null,\"muted_glyph\":null,\"nonselection_glyph\":{\"id\":\"1344\",\"type\":\"Circle\"},\"selection_glyph\":null,\"view\":{\"id\":\"1346\",\"type\":\"CDSView\"}},\"id\":\"1345\",\"type\":\"GlyphRenderer\"},{\"attributes\":{},\"id\":\"1287\",\"type\":\"ResetTool\"},{\"attributes\":{},\"id\":\"1401\",\"type\":\"LinearScale\"},{\"attributes\":{\"fill_alpha\":{\"value\":0.1},\"fill_color\":{\"value\":\"#1f77b4\"},\"line_alpha\":{\"value\":0.1},\"line_color\":{\"value\":\"#1f77b4\"},\"x\":{\"field\":\"mini_batch_size\"},\"y\":{\"field\":\"FinalObjectiveValue\"}},\"id\":\"1344\",\"type\":\"Circle\"},{\"attributes\":{\"axis_label\":\"factors_init_sigma\",\"formatter\":{\"id\":\"1518\",\"type\":\"BasicTickFormatter\"},\"plot\":{\"id\":\"1393\",\"subtype\":\"Figure\",\"type\":\"Plot\"},\"ticker\":{\"id\":\"1404\",\"type\":\"BasicTicker\"}},\"id\":\"1403\",\"type\":\"LinearAxis\"},{\"attributes\":{},\"id\":\"1327\",\"type\":\"WheelZoomTool\"},{\"attributes\":{\"fill_color\":{\"value\":\"#1f77b4\"},\"line_color\":{\"value\":\"#1f77b4\"},\"x\":{\"field\":\"mini_batch_size\"},\"y\":{\"field\":\"FinalObjectiveValue\"}},\"id\":\"1343\",\"type\":\"Circle\"},{\"attributes\":{\"callback\":null,\"tooltips\":[[\"FinalObjectiveValue\",\"@FinalObjectiveValue\"],[\"TrainingJobName\",\"@TrainingJobName\"],[\"epochs\",\"@{epochs}\"],[\"mini_batch_size\",\"@{mini_batch_size}\"],[\"bias_init_sigma\",\"@{bias_init_sigma}\"],[\"factors_init_sigma\",\"@{factors_init_sigma}\"],[\"linear_init_sigma\",\"@{linear_init_sigma}\"]]},\"id\":\"1303\",\"type\":\"HoverTool\"},{\"attributes\":{},\"id\":\"1404\",\"type\":\"BasicTicker\"},{\"attributes\":{},\"id\":\"1526\",\"type\":\"Selection\"},{\"attributes\":{\"callback\":null},\"id\":\"1351\",\"type\":\"DataRange1d\"},{\"attributes\":{\"plot\":{\"id\":\"1393\",\"subtype\":\"Figure\",\"type\":\"Plot\"},\"ticker\":{\"id\":\"1404\",\"type\":\"BasicTicker\"}},\"id\":\"1407\",\"type\":\"Grid\"},{\"attributes\":{\"callback\":null},\"id\":\"1353\",\"type\":\"DataRange1d\"},{\"attributes\":{\"axis_label\":\"test:binary_classification_accuracy\",\"formatter\":{\"id\":\"1520\",\"type\":\"BasicTickFormatter\"},\"plot\":{\"id\":\"1393\",\"subtype\":\"Figure\",\"type\":\"Plot\"},\"ticker\":{\"id\":\"1409\",\"type\":\"BasicTicker\"}},\"id\":\"1408\",\"type\":\"LinearAxis\"},{\"attributes\":{},\"id\":\"1355\",\"type\":\"LinearScale\"},{\"attributes\":{},\"id\":\"1409\",\"type\":\"BasicTicker\"},{\"attributes\":{\"source\":{\"id\":\"1297\",\"type\":\"ColumnDataSource\"}},\"id\":\"1302\",\"type\":\"CDSView\"},{\"attributes\":{\"data_source\":{\"id\":\"1297\",\"type\":\"ColumnDataSource\"},\"glyph\":{\"id\":\"1299\",\"type\":\"Circle\"},\"hover_glyph\":null,\"muted_glyph\":null,\"nonselection_glyph\":{\"id\":\"1300\",\"type\":\"Circle\"},\"selection_glyph\":null,\"view\":{\"id\":\"1302\",\"type\":\"CDSView\"}},\"id\":\"1301\",\"type\":\"GlyphRenderer\"},{\"attributes\":{},\"id\":\"1357\",\"type\":\"LinearScale\"},{\"attributes\":{\"dimension\":1,\"plot\":{\"id\":\"1393\",\"subtype\":\"Figure\",\"type\":\"Plot\"},\"ticker\":{\"id\":\"1409\",\"type\":\"BasicTicker\"}},\"id\":\"1412\",\"type\":\"Grid\"},{\"attributes\":{\"axis_label\":\"bias_init_sigma\",\"formatter\":{\"id\":\"1514\",\"type\":\"BasicTickFormatter\"},\"plot\":{\"id\":\"1349\",\"subtype\":\"Figure\",\"type\":\"Plot\"},\"ticker\":{\"id\":\"1360\",\"type\":\"BasicTicker\"}},\"id\":\"1359\",\"type\":\"LinearAxis\"},{\"attributes\":{\"fill_alpha\":{\"value\":0.1},\"fill_color\":{\"value\":\"#1f77b4\"},\"line_alpha\":{\"value\":0.1},\"line_color\":{\"value\":\"#1f77b4\"},\"x\":{\"field\":\"epochs\"},\"y\":{\"field\":\"FinalObjectiveValue\"}},\"id\":\"1300\",\"type\":\"Circle\"},{\"attributes\":{\"fill_color\":{\"value\":\"#1f77b4\"},\"line_color\":{\"value\":\"#1f77b4\"},\"x\":{\"field\":\"epochs\"},\"y\":{\"field\":\"FinalObjectiveValue\"}},\"id\":\"1299\",\"type\":\"Circle\"},{\"attributes\":{},\"id\":\"1360\",\"type\":\"BasicTicker\"}],\"root_ids\":[\"1479\"]},\"title\":\"Bokeh Application\",\"version\":\"1.0.4\"}};\n",
       "  var render_items = [{\"docid\":\"3a6d8afd-eba8-46ea-a5cc-0c48719994ef\",\"roots\":{\"1479\":\"221a47b6-fd4c-4b00-92ac-eae77ff6342a\"}}];\n",
       "  root.Bokeh.embed.embed_items_notebook(docs_json, render_items);\n",
       "\n",
       "  }\n",
       "  if (root.Bokeh !== undefined) {\n",
       "    embed_document(root);\n",
       "  } else {\n",
       "    var attempts = 0;\n",
       "    var timer = setInterval(function(root) {\n",
       "      if (root.Bokeh !== undefined) {\n",
       "        embed_document(root);\n",
       "        clearInterval(timer);\n",
       "      }\n",
       "      attempts++;\n",
       "      if (attempts > 100) {\n",
       "        console.log(\"Bokeh: ERROR: Unable to run BokehJS code because BokehJS library is missing\");\n",
       "        clearInterval(timer);\n",
       "      }\n",
       "    }, 10, root)\n",
       "  }\n",
       "})(window);"
      ],
      "application/vnd.bokehjs_exec.v0+json": ""
     },
     "metadata": {
      "application/vnd.bokehjs_exec.v0+json": {
       "id": "1479"
      }
     },
     "output_type": "display_data"
    }
   ],
   "source": [
    "ranges = tuner.tuning_ranges\n",
    "figures = []\n",
    "for hp_name, hp_range in ranges.items():\n",
    "    categorical_args = {}\n",
    "    if hp_range.get('Values'):\n",
    "        # This is marked as categorical.  Checking if all options are actually numbers is important.\n",
    "        def is_num(x):\n",
    "            try:\n",
    "                float(x)\n",
    "                return 1\n",
    "            except:\n",
    "                return 0           \n",
    "        vals = hp_range['Values']\n",
    "        if sum([is_num(x) for x in vals]) == len(vals):\n",
    "            # Bokeh has issues plotting a \"categorical\" range that's actually numeric, so plot as numeric\n",
    "            print(\"Hyperparameter %s is tuned as categorical, but all values are numeric\" % hp_name)\n",
    "        else:\n",
    "            # Set up extra options for plotting categoricals.  A bit tricky when they're actually numbers.\n",
    "            categorical_args['x_range'] = vals\n",
    "\n",
    "    # Now plot it\n",
    "    p = figure(plot_width=500, plot_height=500, \n",
    "               title=\"Objective vs %s\" % hp_name,\n",
    "               tools=hover.tools(),\n",
    "               x_axis_label=hp_name, y_axis_label=objective_name,\n",
    "               **categorical_args)\n",
    "    p.circle(source=result_df, x=hp_name, y='FinalObjectiveValue')\n",
    "    figures.append(p)\n",
    "show(bokeh.layouts.Column(*figures))"
   ]
  },
  {
   "cell_type": "markdown",
   "metadata": {},
   "source": [
    "# Extracting the Factorization Machine Model artifact"
   ]
  },
  {
   "cell_type": "code",
   "execution_count": 26,
   "metadata": {},
   "outputs": [],
   "source": [
    "import os\n",
    "import mxnet as mx\n",
    "import numpy as np\n",
    "model_file_name = \"model.tar.gz\"\n",
    "model_full_path = <full-model-path>+model_file_name"
   ]
  },
  {
   "cell_type": "code",
   "execution_count": 27,
   "metadata": {},
   "outputs": [
    {
     "name": "stdout",
     "output_type": "stream",
     "text": [
      "download: s3://ml.epix.com//dev/models/factorization-machine/output/factorization-machin-190922-1926-002-a510e60d/output/model.tar.gz to ./model.tar.gz\n",
      "model_algo-1\n",
      "Archive:  model_algo-1\n",
      " extracting: meta.json               \n",
      " extracting: symbol.json             \n",
      " extracting: params                  \n"
     ]
    }
   ],
   "source": [
    "#Download FM model \n",
    "!aws s3 cp {model_full_path} ./\n",
    "#Extract model file for loading to MXNet\n",
    "!tar xzvf {model_file_name}\n",
    "!unzip -o model_algo-1\n",
    "!mv symbol.json model-symbol.json\n",
    "!mv params model-0000.params"
   ]
  },
  {
   "cell_type": "code",
   "execution_count": 28,
   "metadata": {},
   "outputs": [],
   "source": [
    "#Extract model data\n",
    "m = mx.module.Module.load('./model', 0, False, label_names=['out_label'])\n",
    "V = m._arg_params['v'].asnumpy()\n",
    "w = m._arg_params['w1_weight'].asnumpy()\n",
    "b = m._arg_params['w0_weight'].asnumpy()"
   ]
  },
  {
   "cell_type": "code",
   "execution_count": 51,
   "metadata": {},
   "outputs": [],
   "source": [
    "knn_item_matrix = np.concatenate((V[num_users:], w[num_users:]), axis=1)\n",
    "knn_train_label = np.arange(num_items)\n",
    "\n",
    "#user latent matrix - concat (V[u], 1) \n",
    "ones = np.ones(num_users).reshape((num_users, 1))\n",
    "knn_user_matrix = np.concatenate((V[:num_users], ones), axis=1)"
   ]
  },
  {
   "cell_type": "code",
   "execution_count": 86,
   "metadata": {},
   "outputs": [],
   "source": [
    "if bucket.strip() == '':\n",
    "    raise RuntimeError(\"bucket name is empty.\")\n",
    "\n",
    "train_key      = 'train.protobuf'\n",
    "train_prefix   = '{}/{}'.format(prefix, 'train')\n",
    "\n",
    "test_key       = 'test.protobuf'\n",
    "test_prefix    = '{}/{}'.format(prefix, 'test')"
   ]
  },
  {
   "cell_type": "code",
   "execution_count": 128,
   "metadata": {},
   "outputs": [],
   "source": [
    "def write_dataset_to_protobuf(X, bucket, prefix, d_type, Y=None, channel=\"train\"):\n",
    "    buf = io.BytesIO()\n",
    "    if d_type == \"sparse\":\n",
    "        smac.write_spmatrix_to_sparse_tensor(buf, X, labels=Y)\n",
    "    else:\n",
    "        smac.write_numpy_to_dense_tensor(buf, X, labels=Y)\n",
    "        \n",
    "    buf.seek(0)\n",
    "    obj = '{}/{}'.format(prefix, channel)\n",
    "    boto3.resource('s3').Bucket(bucket).Object(obj).upload_fileobj(buf)\n",
    "    return 's3://{}/{}'.format(bucket,obj)"
   ]
  },
  {
   "cell_type": "markdown",
   "metadata": {},
   "source": [
    "## Building KNN"
   ]
  },
  {
   "cell_type": "code",
   "execution_count": 129,
   "metadata": {},
   "outputs": [
    {
     "name": "stdout",
     "output_type": "stream",
     "text": [
      "KNN train features shape =  (1132, 65)\n"
     ]
    }
   ],
   "source": [
    "from sagemaker.amazon.amazon_estimator import get_image_uri\n",
    "instance_type='ml.m5.large'\n",
    "print('KNN train features shape = ', knn_item_matrix.shape)"
   ]
  },
  {
   "cell_type": "code",
   "execution_count": 165,
   "metadata": {},
   "outputs": [],
   "source": [
    "base = \"movie-lens\"\n",
    "knn_algo = \"knn\"\n",
    "knn_data_prefix = f\"{stage}/data/{base}/{knn_algo}\"\n",
    "model_prefix = f\"{stage}/models/{base}/{knn_algo}\"\n",
    "inference_prefix = f\"{stage}/inferences/{base}/{knn_algo}\"\n",
    "knn_output_path  = 's3://{}/{}'.format(bucket, inference_prefix)\n",
    "knn_batch_input_prefix = f\"{inference_prefix}/batch/input\"\n",
    "knn_batch_output_prefix = f\"{inference_prefix}/batch/output\"\n",
    "knn_batch_output_path = 's3://{}/{}'.format(bucket, knn_batch_output_prefix)"
   ]
  },
  {
   "cell_type": "code",
   "execution_count": 137,
   "metadata": {},
   "outputs": [
    {
     "name": "stdout",
     "output_type": "stream",
     "text": [
      "Uploaded KNN train data: s3://ml.epix.com/dev/data/movie-lens/knn/train\n"
     ]
    }
   ],
   "source": [
    "knn_train_data_path = write_dataset_to_protobuf(knn_item_matrix, bucket, knn_data_prefix, \"dense\", knn_train_label, channel=\"train\")\n",
    "print('Uploaded KNN train data: {}'.format(knn_train_data_path))"
   ]
  },
  {
   "cell_type": "code",
   "execution_count": 166,
   "metadata": {},
   "outputs": [
    {
     "data": {
      "text/plain": [
       "'s3://ml.epix.com/dev/inferences/movie-lens/knn'"
      ]
     },
     "execution_count": 166,
     "metadata": {},
     "output_type": "execute_result"
    }
   ],
   "source": [
    "knn_output_path"
   ]
  },
  {
   "cell_type": "code",
   "execution_count": 167,
   "metadata": {},
   "outputs": [
    {
     "data": {
      "text/plain": [
       "'s3://ml.epix.com/dev/inferences/movie-lens/knn/batch/output'"
      ]
     },
     "execution_count": 167,
     "metadata": {},
     "output_type": "execute_result"
    }
   ],
   "source": [
    "knn_batch_output_path"
   ]
  },
  {
   "cell_type": "code",
   "execution_count": 156,
   "metadata": {},
   "outputs": [
    {
     "data": {
      "text/plain": [
       "'dev/inferences/movie-lens/knn/batch/output'"
      ]
     },
     "execution_count": 156,
     "metadata": {},
     "output_type": "execute_result"
    }
   ],
   "source": [
    "knn_batch_output_prefix"
   ]
  },
  {
   "cell_type": "code",
   "execution_count": 160,
   "metadata": {},
   "outputs": [
    {
     "name": "stdout",
     "output_type": "stream",
     "text": [
      "2019-09-23 04:00:57 Starting - Starting the training job...\n",
      "2019-09-23 04:00:59 Starting - Launching requested ML instances......\n",
      "2019-09-23 04:02:04 Starting - Preparing the instances for training...\n",
      "2019-09-23 04:02:50 Downloading - Downloading input data...\n",
      "2019-09-23 04:03:12 Training - Downloading the training image..\u001b[31mDocker entrypoint called with argument(s): train\u001b[0m\n",
      "\u001b[31m[09/23/2019 04:03:35 INFO 140352921110336] Reading default configuration from /opt/amazon/lib/python2.7/site-packages/algorithm/resources/default-conf.json: {u'index_metric': u'L2', u'_tuning_objective_metric': u'', u'_num_gpus': u'auto', u'_log_level': u'info', u'faiss_index_ivf_nlists': u'auto', u'epochs': u'1', u'index_type': u'faiss.Flat', u'_faiss_index_nprobe': u'5', u'_kvstore': u'dist_async', u'_num_kv_servers': u'1', u'mini_batch_size': u'5000'}\u001b[0m\n",
      "\u001b[31m[09/23/2019 04:03:35 INFO 140352921110336] Reading provided configuration from /opt/ml/input/config/hyperparameters.json: {u'sample_size': u'200000', u'feature_dim': u'65', u'index_metric': u'INNER_PRODUCT', u'k': u'20', u'predictor_type': u'classifier'}\u001b[0m\n",
      "\u001b[31m[09/23/2019 04:03:35 INFO 140352921110336] Final configuration: {u'index_metric': u'INNER_PRODUCT', u'predictor_type': u'classifier', u'_tuning_objective_metric': u'', u'_num_gpus': u'auto', u'_log_level': u'info', u'feature_dim': u'65', u'faiss_index_ivf_nlists': u'auto', u'sample_size': u'200000', u'epochs': u'1', u'index_type': u'faiss.Flat', u'_faiss_index_nprobe': u'5', u'_kvstore': u'dist_async', u'_num_kv_servers': u'1', u'mini_batch_size': u'5000', u'k': u'20'}\u001b[0m\n",
      "\u001b[31m[09/23/2019 04:03:35 WARNING 140352921110336] Loggers have already been setup.\u001b[0m\n",
      "\u001b[31m[09/23/2019 04:03:37 INFO 140352921110336] Launching parameter server for role scheduler\u001b[0m\n",
      "\u001b[31m[09/23/2019 04:03:37 INFO 140352921110336] {'ECS_CONTAINER_METADATA_URI': 'http://169.254.170.2/v3/a0c1c81f-974f-40f6-a1a9-ae86a0a493e0', 'PROTOCOL_BUFFERS_PYTHON_IMPLEMENTATION_VERSION': '2', 'PATH': '/opt/amazon/bin:/usr/local/nvidia/bin:/usr/local/sbin:/usr/local/bin:/usr/sbin:/usr/bin:/sbin:/bin:/opt/amazon/bin:/opt/amazon/bin', 'SAGEMAKER_HTTP_PORT': '8080', 'HOME': '/root', 'PYTHONUNBUFFERED': 'TRUE', 'CANONICAL_ENVROOT': '/opt/amazon', 'LD_LIBRARY_PATH': '/usr/local/nvidia/lib64:/opt/amazon/lib', 'LANG': 'en_US.utf8', 'DMLC_INTERFACE': 'eth0', 'SHLVL': '1', 'AWS_REGION': 'us-east-1', 'NVIDIA_VISIBLE_DEVICES': 'void', 'TRAINING_JOB_NAME': 'knn-2019-09-23-04-00-57-611', 'PROTOCOL_BUFFERS_PYTHON_IMPLEMENTATION': 'cpp', 'ENVROOT': '/opt/amazon', 'SAGEMAKER_DATA_PATH': '/opt/ml', 'NVIDIA_DRIVER_CAPABILITIES': 'compute,utility', 'NVIDIA_REQUIRE_CUDA': 'cuda>=9.0', 'OMP_NUM_THREADS': '1', 'HOSTNAME': 'ip-10-2-241-59.ec2.internal', 'AWS_CONTAINER_CREDENTIALS_RELATIVE_URI': '/v2/credentials/85164657-5bb4-4a6a-8a8d-eaf11ca05fc9', 'PWD': '/', 'TRAINING_JOB_ARN': 'arn:aws:sagemaker:us-east-1:291053455966:training-job/knn-2019-09-23-04-00-57-611', 'AWS_EXECUTION_ENV': 'AWS_ECS_EC2'}\u001b[0m\n",
      "\u001b[31m[09/23/2019 04:03:37 INFO 140352921110336] envs={'ECS_CONTAINER_METADATA_URI': 'http://169.254.170.2/v3/a0c1c81f-974f-40f6-a1a9-ae86a0a493e0', 'PROTOCOL_BUFFERS_PYTHON_IMPLEMENTATION_VERSION': '2', 'DMLC_NUM_WORKER': '1', 'DMLC_PS_ROOT_PORT': '9000', 'PATH': '/opt/amazon/bin:/usr/local/nvidia/bin:/usr/local/sbin:/usr/local/bin:/usr/sbin:/usr/bin:/sbin:/bin:/opt/amazon/bin:/opt/amazon/bin', 'SAGEMAKER_HTTP_PORT': '8080', 'HOME': '/root', 'PYTHONUNBUFFERED': 'TRUE', 'CANONICAL_ENVROOT': '/opt/amazon', 'LD_LIBRARY_PATH': '/usr/local/nvidia/lib64:/opt/amazon/lib', 'LANG': 'en_US.utf8', 'DMLC_INTERFACE': 'eth0', 'SHLVL': '1', 'DMLC_PS_ROOT_URI': '10.2.241.59', 'AWS_REGION': 'us-east-1', 'NVIDIA_VISIBLE_DEVICES': 'void', 'TRAINING_JOB_NAME': 'knn-2019-09-23-04-00-57-611', 'PROTOCOL_BUFFERS_PYTHON_IMPLEMENTATION': 'cpp', 'ENVROOT': '/opt/amazon', 'SAGEMAKER_DATA_PATH': '/opt/ml', 'NVIDIA_DRIVER_CAPABILITIES': 'compute,utility', 'NVIDIA_REQUIRE_CUDA': 'cuda>=9.0', 'OMP_NUM_THREADS': '1', 'HOSTNAME': 'ip-10-2-241-59.ec2.internal', 'AWS_CONTAINER_CREDENTIALS_RELATIVE_URI': '/v2/credentials/85164657-5bb4-4a6a-8a8d-eaf11ca05fc9', 'DMLC_ROLE': 'scheduler', 'PWD': '/', 'DMLC_NUM_SERVER': '1', 'TRAINING_JOB_ARN': 'arn:aws:sagemaker:us-east-1:291053455966:training-job/knn-2019-09-23-04-00-57-611', 'AWS_EXECUTION_ENV': 'AWS_ECS_EC2'}\u001b[0m\n",
      "\u001b[31m[09/23/2019 04:03:37 INFO 140352921110336] Launching parameter server for role server\u001b[0m\n",
      "\u001b[31m[09/23/2019 04:03:37 INFO 140352921110336] {'ECS_CONTAINER_METADATA_URI': 'http://169.254.170.2/v3/a0c1c81f-974f-40f6-a1a9-ae86a0a493e0', 'PROTOCOL_BUFFERS_PYTHON_IMPLEMENTATION_VERSION': '2', 'PATH': '/opt/amazon/bin:/usr/local/nvidia/bin:/usr/local/sbin:/usr/local/bin:/usr/sbin:/usr/bin:/sbin:/bin:/opt/amazon/bin:/opt/amazon/bin', 'SAGEMAKER_HTTP_PORT': '8080', 'HOME': '/root', 'PYTHONUNBUFFERED': 'TRUE', 'CANONICAL_ENVROOT': '/opt/amazon', 'LD_LIBRARY_PATH': '/usr/local/nvidia/lib64:/opt/amazon/lib', 'LANG': 'en_US.utf8', 'DMLC_INTERFACE': 'eth0', 'SHLVL': '1', 'AWS_REGION': 'us-east-1', 'NVIDIA_VISIBLE_DEVICES': 'void', 'TRAINING_JOB_NAME': 'knn-2019-09-23-04-00-57-611', 'PROTOCOL_BUFFERS_PYTHON_IMPLEMENTATION': 'cpp', 'ENVROOT': '/opt/amazon', 'SAGEMAKER_DATA_PATH': '/opt/ml', 'NVIDIA_DRIVER_CAPABILITIES': 'compute,utility', 'NVIDIA_REQUIRE_CUDA': 'cuda>=9.0', 'OMP_NUM_THREADS': '1', 'HOSTNAME': 'ip-10-2-241-59.ec2.internal', 'AWS_CONTAINER_CREDENTIALS_RELATIVE_URI': '/v2/credentials/85164657-5bb4-4a6a-8a8d-eaf11ca05fc9', 'PWD': '/', 'TRAINING_JOB_ARN': 'arn:aws:sagemaker:us-east-1:291053455966:training-job/knn-2019-09-23-04-00-57-611', 'AWS_EXECUTION_ENV': 'AWS_ECS_EC2'}\u001b[0m\n",
      "\u001b[31m[09/23/2019 04:03:37 INFO 140352921110336] envs={'ECS_CONTAINER_METADATA_URI': 'http://169.254.170.2/v3/a0c1c81f-974f-40f6-a1a9-ae86a0a493e0', 'PROTOCOL_BUFFERS_PYTHON_IMPLEMENTATION_VERSION': '2', 'DMLC_NUM_WORKER': '1', 'DMLC_PS_ROOT_PORT': '9000', 'PATH': '/opt/amazon/bin:/usr/local/nvidia/bin:/usr/local/sbin:/usr/local/bin:/usr/sbin:/usr/bin:/sbin:/bin:/opt/amazon/bin:/opt/amazon/bin', 'SAGEMAKER_HTTP_PORT': '8080', 'HOME': '/root', 'PYTHONUNBUFFERED': 'TRUE', 'CANONICAL_ENVROOT': '/opt/amazon', 'LD_LIBRARY_PATH': '/usr/local/nvidia/lib64:/opt/amazon/lib', 'LANG': 'en_US.utf8', 'DMLC_INTERFACE': 'eth0', 'SHLVL': '1', 'DMLC_PS_ROOT_URI': '10.2.241.59', 'AWS_REGION': 'us-east-1', 'NVIDIA_VISIBLE_DEVICES': 'void', 'TRAINING_JOB_NAME': 'knn-2019-09-23-04-00-57-611', 'PROTOCOL_BUFFERS_PYTHON_IMPLEMENTATION': 'cpp', 'ENVROOT': '/opt/amazon', 'SAGEMAKER_DATA_PATH': '/opt/ml', 'NVIDIA_DRIVER_CAPABILITIES': 'compute,utility', 'NVIDIA_REQUIRE_CUDA': 'cuda>=9.0', 'OMP_NUM_THREADS': '1', 'HOSTNAME': 'ip-10-2-241-59.ec2.internal', 'AWS_CONTAINER_CREDENTIALS_RELATIVE_URI': '/v2/credentials/85164657-5bb4-4a6a-8a8d-eaf11ca05fc9', 'DMLC_ROLE': 'server', 'PWD': '/', 'DMLC_NUM_SERVER': '1', 'TRAINING_JOB_ARN': 'arn:aws:sagemaker:us-east-1:291053455966:training-job/knn-2019-09-23-04-00-57-611', 'AWS_EXECUTION_ENV': 'AWS_ECS_EC2'}\u001b[0m\n",
      "\u001b[31m[09/23/2019 04:03:37 INFO 140352921110336] Environment: {'ECS_CONTAINER_METADATA_URI': 'http://169.254.170.2/v3/a0c1c81f-974f-40f6-a1a9-ae86a0a493e0', 'PROTOCOL_BUFFERS_PYTHON_IMPLEMENTATION_VERSION': '2', 'DMLC_PS_ROOT_PORT': '9000', 'DMLC_NUM_WORKER': '1', 'SAGEMAKER_HTTP_PORT': '8080', 'PATH': '/opt/amazon/bin:/usr/local/nvidia/bin:/usr/local/sbin:/usr/local/bin:/usr/sbin:/usr/bin:/sbin:/bin:/opt/amazon/bin:/opt/amazon/bin', 'PYTHONUNBUFFERED': 'TRUE', 'CANONICAL_ENVROOT': '/opt/amazon', 'LD_LIBRARY_PATH': '/usr/local/nvidia/lib64:/opt/amazon/lib', 'LANG': 'en_US.utf8', 'DMLC_INTERFACE': 'eth0', 'SHLVL': '1', 'DMLC_PS_ROOT_URI': '10.2.241.59', 'AWS_REGION': 'us-east-1', 'NVIDIA_VISIBLE_DEVICES': 'void', 'TRAINING_JOB_NAME': 'knn-2019-09-23-04-00-57-611', 'HOME': '/root', 'PROTOCOL_BUFFERS_PYTHON_IMPLEMENTATION': 'cpp', 'ENVROOT': '/opt/amazon', 'SAGEMAKER_DATA_PATH': '/opt/ml', 'NVIDIA_DRIVER_CAPABILITIES': 'compute,utility', 'NVIDIA_REQUIRE_CUDA': 'cuda>=9.0', 'OMP_NUM_THREADS': '1', 'HOSTNAME': 'ip-10-2-241-59.ec2.internal', 'AWS_CONTAINER_CREDENTIALS_RELATIVE_URI': '/v2/credentials/85164657-5bb4-4a6a-8a8d-eaf11ca05fc9', 'DMLC_ROLE': 'worker', 'PWD': '/', 'DMLC_NUM_SERVER': '1', 'TRAINING_JOB_ARN': 'arn:aws:sagemaker:us-east-1:291053455966:training-job/knn-2019-09-23-04-00-57-611', 'AWS_EXECUTION_ENV': 'AWS_ECS_EC2'}\u001b[0m\n",
      "\u001b[31mProcess 30 is a shell:scheduler.\u001b[0m\n",
      "\u001b[31mProcess 31 is a shell:server.\u001b[0m\n",
      "\u001b[31mProcess 1 is a worker.\u001b[0m\n",
      "\u001b[31m[09/23/2019 04:03:37 INFO 140352921110336] Using default worker.\u001b[0m\n",
      "\u001b[31m[2019-09-23 04:03:38.437] [tensorio] [info] batch={\"data_pipeline\": \"/opt/ml/input/data/train\", \"num_examples\": 5000, \"features\": [{\"name\": \"label_values\", \"shape\": [1], \"storage_type\": \"dense\"}, {\"name\": \"values\", \"shape\": [65], \"storage_type\": \"dense\"}]}\u001b[0m\n",
      "\u001b[31m[09/23/2019 04:03:38 INFO 140352921110336] nvidia-smi took: 0.0251429080963 secs to identify 0 gpus\u001b[0m\n",
      "\u001b[31m[09/23/2019 04:03:38 INFO 140352921110336] Create Store: dist_async\u001b[0m\n",
      "\u001b[31m[09/23/2019 04:03:38 ERROR 140352921110336] nvidia-smi: failed to run (127): /bin/sh: nvidia-smi: command not found\u001b[0m\n",
      "\u001b[31m[09/23/2019 04:03:38 INFO 140352921110336] Using per-worker sample size = 200000 (Available virtual memory = 6633570304 bytes, GPU free memory = 0 bytes, number of workers = 1). If an out-of-memory error occurs, choose a larger instance type, use dimension reduction, decrease sample_size, and/or decrease mini_batch_size.\u001b[0m\n",
      "\u001b[31m#metrics {\"Metrics\": {\"Max Batches Seen Between Resets\": {\"count\": 1, \"max\": 0, \"sum\": 0.0, \"min\": 0}, \"Number of Batches Since Last Reset\": {\"count\": 1, \"max\": 0, \"sum\": 0.0, \"min\": 0}, \"Number of Records Since Last Reset\": {\"count\": 1, \"max\": 0, \"sum\": 0.0, \"min\": 0}, \"Total Batches Seen\": {\"count\": 1, \"max\": 0, \"sum\": 0.0, \"min\": 0}, \"Total Records Seen\": {\"count\": 1, \"max\": 0, \"sum\": 0.0, \"min\": 0}, \"Max Records Seen Between Resets\": {\"count\": 1, \"max\": 0, \"sum\": 0.0, \"min\": 0}, \"Reset Count\": {\"count\": 1, \"max\": 0, \"sum\": 0.0, \"min\": 0}}, \"EndTime\": 1569211419.11791, \"Dimensions\": {\"Host\": \"algo-1\", \"Meta\": \"init_train_data_iter\", \"Operation\": \"training\", \"Algorithm\": \"AWS/KNN\"}, \"StartTime\": 1569211419.11787}\n",
      "\u001b[0m\n",
      "\u001b[31m[2019-09-23 04:03:39.118] [tensorio] [info] data_pipeline_stats={\"name\": \"/opt/ml/input/data/train\", \"epoch\": 0, \"duration\": 691, \"num_examples\": 1}\u001b[0m\n",
      "\u001b[31m[09/23/2019 04:03:39 INFO 140352921110336] push reservoir to kv... 1 num_workers 0 rank\u001b[0m\n",
      "\u001b[31m[09/23/2019 04:03:39 INFO 140352921110336] ...done (1132)\u001b[0m\n",
      "\u001b[31m[09/23/2019 04:03:39 INFO 140352921110336] #progress_metric: host=algo-1, completed 100 % of epochs\u001b[0m\n",
      "\u001b[31m#metrics {\"Metrics\": {\"Max Batches Seen Between Resets\": {\"count\": 1, \"max\": 1, \"sum\": 1.0, \"min\": 1}, \"Number of Batches Since Last Reset\": {\"count\": 1, \"max\": 1, \"sum\": 1.0, \"min\": 1}, \"Number of Records Since Last Reset\": {\"count\": 1, \"max\": 1132, \"sum\": 1132.0, \"min\": 1132}, \"Total Batches Seen\": {\"count\": 1, \"max\": 1, \"sum\": 1.0, \"min\": 1}, \"Total Records Seen\": {\"count\": 1, \"max\": 1132, \"sum\": 1132.0, \"min\": 1132}, \"Max Records Seen Between Resets\": {\"count\": 1, \"max\": 1132, \"sum\": 1132.0, \"min\": 1132}, \"Reset Count\": {\"count\": 1, \"max\": 1, \"sum\": 1.0, \"min\": 1}}, \"EndTime\": 1569211419.170305, \"Dimensions\": {\"Host\": \"algo-1\", \"Meta\": \"training_data_iter\", \"Operation\": \"training\", \"Algorithm\": \"AWS/KNN\", \"epoch\": 0}, \"StartTime\": 1569211419.118368}\n",
      "\u001b[0m\n",
      "\u001b[31m[09/23/2019 04:03:39 INFO 140352921110336] #throughput_metric: host=algo-1, train throughput=21604.6783064 records/second\u001b[0m\n",
      "\u001b[31m[09/23/2019 04:03:39 INFO 140352921110336] pulled row count... worker 0 rows 1132\u001b[0m\n",
      "\u001b[31m[09/23/2019 04:03:39 INFO 140352921110336] pulled... worker 0 data (1132, 65) labels (1132, 1) nans 0\u001b[0m\n",
      "\u001b[31m[09/23/2019 04:03:39 INFO 140352921110336] calling index.train...\u001b[0m\n",
      "\u001b[31m[09/23/2019 04:03:39 INFO 140352921110336] ...done calling index.train\u001b[0m\n",
      "\u001b[31m[09/23/2019 04:03:39 INFO 140352921110336] calling index.add...\u001b[0m\n",
      "\u001b[31m[09/23/2019 04:03:39 INFO 140352921110336] ...done calling index.add\u001b[0m\n",
      "\u001b[31m#metrics {\"Metrics\": {\"epochs\": {\"count\": 1, \"max\": 1, \"sum\": 1.0, \"min\": 1}, \"model.serialize.time\": {\"count\": 1, \"max\": 1.293182373046875, \"sum\": 1.293182373046875, \"min\": 1.293182373046875}, \"finalize.time\": {\"count\": 1, \"max\": 190.57607650756836, \"sum\": 190.57607650756836, \"min\": 190.57607650756836}, \"initialize.time\": {\"count\": 1, \"max\": 669.0590381622314, \"sum\": 669.0590381622314, \"min\": 669.0590381622314}, \"update.time\": {\"count\": 1, \"max\": 51.45597457885742, \"sum\": 51.45597457885742, \"min\": 51.45597457885742}}, \"EndTime\": 1569211419.363017, \"Dimensions\": {\"Host\": \"algo-1\", \"Operation\": \"training\", \"Algorithm\": \"AWS/KNN\"}, \"StartTime\": 1569211418.419562}\n",
      "\u001b[0m\n",
      "\u001b[31m[09/23/2019 04:03:39 INFO 140352921110336] Test data is not provided.\u001b[0m\n",
      "\u001b[31m[2019-09-23 04:03:39.363] [tensorio] [info] data_pipeline_stats={\"name\": \"/opt/ml/input/data/train\", \"epoch\": 1, \"duration\": 244, \"num_examples\": 1}\u001b[0m\n",
      "\u001b[31m[2019-09-23 04:03:39.363] [tensorio] [info] data_pipeline_stats={\"name\": \"/opt/ml/input/data/train\", \"duration\": 935, \"num_epochs\": 2, \"num_examples\": 2}\u001b[0m\n",
      "\u001b[31m#metrics {\"Metrics\": {\"totaltime\": {\"count\": 1, \"max\": 4077.2228240966797, \"sum\": 4077.2228240966797, \"min\": 4077.2228240966797}, \"setuptime\": {\"count\": 1, \"max\": 2534.3189239501953, \"sum\": 2534.3189239501953, \"min\": 2534.3189239501953}}, \"EndTime\": 1569211419.363856, \"Dimensions\": {\"Host\": \"algo-1\", \"Operation\": \"training\", \"Algorithm\": \"AWS/KNN\"}, \"StartTime\": 1569211419.363091}\n",
      "\u001b[0m\n"
     ]
    },
    {
     "name": "stdout",
     "output_type": "stream",
     "text": [
      "\n",
      "2019-09-23 04:03:51 Uploading - Uploading generated training model\n",
      "2019-09-23 04:03:51 Completed - Training job completed\n",
      "Training seconds: 61\n",
      "Billable seconds: 61\n"
     ]
    }
   ],
   "source": [
    "nb_recommendations = 20\n",
    "# set up the estimator\n",
    "knn = sagemaker.estimator.Estimator(get_image_uri(boto3.Session().region_name, \"knn\"),\n",
    "    sagemaker.get_execution_role(),\n",
    "    train_instance_count=1,\n",
    "    train_instance_type=instance_type,\n",
    "    output_path=knn_output_path,\n",
    "    sagemaker_session=sagemaker.Session())\n",
    "\n",
    "knn.set_hyperparameters(feature_dim=knn_item_matrix.shape[1], k=nb_recommendations, index_metric=\"INNER_PRODUCT\", predictor_type='classifier', sample_size=200000)\n",
    "fit_input = {'train': knn_train_data_path}\n",
    "knn.fit(fit_input)"
   ]
  },
  {
   "cell_type": "markdown",
   "metadata": {},
   "source": [
    "# Save the KNN model to do Batch Inference"
   ]
  },
  {
   "cell_type": "code",
   "execution_count": 161,
   "metadata": {},
   "outputs": [
    {
     "name": "stdout",
     "output_type": "stream",
     "text": [
      "created model:  knn-2019-09-23-04-00-57-611\n",
      "saved the model\n"
     ]
    }
   ],
   "source": [
    "sm = boto3.client(service_name='sagemaker')\n",
    "primary_container = {\n",
    "    'Image': knn.image_name,\n",
    "    'ModelDataUrl': knn.model_data,\n",
    "}\n",
    "knn_model_name =  knn.latest_training_job.job_name\n",
    "print(\"created model: \", knn_model_name)\n",
    "\n",
    "knn_model = sm.create_model(\n",
    "        ModelName = knn.latest_training_job.job_name,\n",
    "        ExecutionRoleArn = knn.role,\n",
    "        PrimaryContainer = primary_container)\n",
    "print(\"saved the model\")"
   ]
  },
  {
   "cell_type": "markdown",
   "metadata": {},
   "source": [
    "# Batch Transform"
   ]
  },
  {
   "cell_type": "code",
   "execution_count": 168,
   "metadata": {},
   "outputs": [
    {
     "name": "stdout",
     "output_type": "stream",
     "text": [
      "Batch inference data path:  s3://ml.epix.com/dev/inferences/movie-lens/knn/batch/input/train\n",
      "......................\u001b[31mDocker entrypoint called with argument(s): serve\u001b[0m\n",
      "\u001b[31m[09/23/2019 04:22:04 INFO 140415412217664] loaded entry point class algorithm.serve.server_config:config_api\u001b[0m\n",
      "\u001b[31m[09/23/2019 04:22:04 INFO 140415412217664] loading entry points\u001b[0m\n",
      "\u001b[31m[09/23/2019 04:22:04 INFO 140415412217664] loaded request iterator text/csv\u001b[0m\n",
      "\u001b[31m[09/23/2019 04:22:04 INFO 140415412217664] loaded request iterator application/x-recordio-protobuf\u001b[0m\n",
      "\u001b[31m[09/23/2019 04:22:04 INFO 140415412217664] loaded request iterator application/json\u001b[0m\n",
      "\u001b[31m[09/23/2019 04:22:04 INFO 140415412217664] loaded request iterator application/jsonlines\u001b[0m\n",
      "\u001b[31m[09/23/2019 04:22:04 INFO 140415412217664] loaded response encoder application/x-recordio-protobuf\u001b[0m\n",
      "\u001b[31m[09/23/2019 04:22:04 INFO 140415412217664] loaded response encoder application/json\u001b[0m\n",
      "\u001b[31m[09/23/2019 04:22:04 INFO 140415412217664] loaded response encoder application/jsonlines\u001b[0m\n",
      "\u001b[31m[09/23/2019 04:22:04 INFO 140415412217664] loaded entry point class algorithm:model\u001b[0m\n",
      "\u001b[31m[09/23/2019 04:22:04 INFO 140415412217664] Number of server workers: 1\u001b[0m\n",
      "\u001b[31m[2019-09-23 04:22:04 +0000] [1] [INFO] Starting gunicorn 19.7.1\u001b[0m\n",
      "\u001b[31m[2019-09-23 04:22:04 +0000] [1] [INFO] Listening at: http://0.0.0.0:8080 (1)\u001b[0m\n",
      "\u001b[31m[2019-09-23 04:22:04 +0000] [1] [INFO] Using worker: sync\u001b[0m\n",
      "\u001b[31m[2019-09-23 04:22:04 +0000] [30] [INFO] Booting worker with pid: 30\u001b[0m\n",
      "\u001b[31m[09/23/2019 04:22:04 INFO 140415412217664] loading model...\u001b[0m\n",
      "\u001b[31m[09/23/2019 04:22:04 INFO 140415412217664] nvidia-smi took: 0.0251870155334 secs to identify 0 gpus\u001b[0m\n",
      "\u001b[31m[09/23/2019 04:22:04 INFO 140415412217664] ...model loaded.\u001b[0m\n",
      "\n",
      "\u001b[31m#metrics {\"Metrics\": {\"execution_parameters.count\": {\"count\": 1, \"max\": 1, \"sum\": 1.0, \"min\": 1}}, \"EndTime\": 1569212538.467482, \"Dimensions\": {\"Host\": \"UNKNOWN\", \"Operation\": \"scoring\", \"Algorithm\": \"KNNModel\"}, \"StartTime\": 1569212524.800549}\n",
      "\u001b[0m\n",
      "\u001b[31m[2019-09-23 04:22:18.686] [tensorio] [info] batch={\"data_pipeline\": \"/tmp/tmpaHX0Qf/tmpeIw2bg\", \"num_examples\": 943, \"features\": [{\"name\": \"values\", \"shape\": [65], \"storage_type\": \"dense\"}]}\u001b[0m\n",
      "\u001b[31m[2019-09-23 04:22:18.821] [tensorio] [info] data_pipeline_stats={\"name\": \"/tmp/tmpaHX0Qf/tmpeIw2bg\", \"epoch\": 0, \"duration\": 135, \"num_examples\": 1}\u001b[0m\n",
      "\u001b[31m[2019-09-23 04:22:18.821] [tensorio] [info] data_pipeline_stats={\"name\": \"/tmp/tmpaHX0Qf/tmpeIw2bg\", \"duration\": 135, \"num_epochs\": 1, \"num_examples\": 1}\u001b[0m\n",
      "\u001b[31m#metrics {\"Metrics\": {\"model.evaluate.time\": {\"count\": 1, \"max\": 98.05893898010254, \"sum\": 98.05893898010254, \"min\": 98.05893898010254}, \"invocations.count\": {\"count\": 1, \"max\": 1, \"sum\": 1.0, \"min\": 1}}, \"EndTime\": 1569212538.822083, \"Dimensions\": {\"Host\": \"UNKNOWN\", \"Operation\": \"scoring\", \"Algorithm\": \"KNNModel\"}, \"StartTime\": 1569212538.467922}\n",
      "\u001b[0m\n"
     ]
    }
   ],
   "source": [
    "#upload inference data to S3\n",
    "knn_batch_data_path = write_dataset_to_protobuf(knn_user_matrix, bucket, knn_batch_input_prefix,\"dense\",  channel=\"train\")\n",
    "print(\"Batch inference data path: \",knn_batch_data_path)\n",
    "\n",
    "# Initialize the transformer object\n",
    "transformer =sagemaker.transformer.Transformer(\n",
    "    base_transform_job_name=\"knn\",\n",
    "    model_name=knn_model_name,\n",
    "    instance_count=1,\n",
    "    instance_type=instance_type,\n",
    "    output_path=knn_batch_output_path,\n",
    "    strategy=\"MultiRecord\",\n",
    "    accept=\"application/jsonlines; verbose=true\"\n",
    ")\n",
    "\n",
    "# Start a transform job:\n",
    "transformer.transform(knn_batch_data_path, split_type=\"RecordIO\",content_type='application/x-recordio-protobuf')\n",
    "transformer.wait()\n"
   ]
  },
  {
   "cell_type": "markdown",
   "metadata": {},
   "source": [
    "# Create Inference Endpoint for real time predictions"
   ]
  },
  {
   "cell_type": "code",
   "execution_count": null,
   "metadata": {},
   "outputs": [],
   "source": [
    "knn_predictor = knn.deploy(instance_type='ml.m4.xlarge', initial_instance_count=1)"
   ]
  },
  {
   "cell_type": "markdown",
   "metadata": {},
   "source": [
    "# Testing Inferences using Batch"
   ]
  },
  {
   "cell_type": "code",
   "execution_count": 192,
   "metadata": {},
   "outputs": [
    {
     "name": "stdout",
     "output_type": "stream",
     "text": [
      "bucket: ml.epix.com, object: dev/inferences/movie-lens/knn/batch/output, file: train.out\n"
     ]
    }
   ],
   "source": [
    "#Download predictions \n",
    "results_file_name = \"train.out\"\n",
    "s3_client = boto3.client('s3')\n",
    "print('bucket: {}, object: {}, file: {}'.format(bucket, knn_batch_output_prefix, results_file_name))\n",
    "s3_client.download_file(bucket, f\"{knn_batch_output_prefix}/{results_file_name}\", results_file_name)\n",
    "with open(results_file_name) as f:\n",
    "    results = f.readlines()  "
   ]
  },
  {
   "cell_type": "markdown",
   "metadata": {},
   "source": [
    "## Title User has already Watched"
   ]
  },
  {
   "cell_type": "code",
   "execution_count": 227,
   "metadata": {},
   "outputs": [
    {
     "data": {
      "text/html": [
       "<div>\n",
       "<style scoped>\n",
       "    .dataframe tbody tr th:only-of-type {\n",
       "        vertical-align: middle;\n",
       "    }\n",
       "\n",
       "    .dataframe tbody tr th {\n",
       "        vertical-align: top;\n",
       "    }\n",
       "\n",
       "    .dataframe thead th {\n",
       "        text-align: right;\n",
       "    }\n",
       "</style>\n",
       "<table border=\"1\" class=\"dataframe\">\n",
       "  <thead>\n",
       "    <tr style=\"text-align: right;\">\n",
       "      <th></th>\n",
       "      <th>movie_id</th>\n",
       "      <th>title</th>\n",
       "      <th>release date</th>\n",
       "      <th>video release date</th>\n",
       "      <th>IMDb URL</th>\n",
       "      <th>unknown</th>\n",
       "      <th>Action</th>\n",
       "      <th>Adventure</th>\n",
       "      <th>Animation</th>\n",
       "      <th>Children's</th>\n",
       "      <th>...</th>\n",
       "      <th>Drama</th>\n",
       "      <th>FantasyFilm-Noir</th>\n",
       "      <th>Horror</th>\n",
       "      <th>Musical</th>\n",
       "      <th>Mystery</th>\n",
       "      <th>Romance</th>\n",
       "      <th>Sci-Fi</th>\n",
       "      <th>Thriller</th>\n",
       "      <th>War</th>\n",
       "      <th>Western</th>\n",
       "    </tr>\n",
       "  </thead>\n",
       "  <tbody>\n",
       "    <tr>\n",
       "      <th>0</th>\n",
       "      <td>1</td>\n",
       "      <td>Toy Story (1995)</td>\n",
       "      <td>01-Jan-1995</td>\n",
       "      <td>NaN</td>\n",
       "      <td>http://us.imdb.com/M/title-exact?Toy%20Story%20(1995)</td>\n",
       "      <td>0</td>\n",
       "      <td>0</td>\n",
       "      <td>0</td>\n",
       "      <td>1</td>\n",
       "      <td>1</td>\n",
       "      <td>...</td>\n",
       "      <td>0</td>\n",
       "      <td>0</td>\n",
       "      <td>0</td>\n",
       "      <td>0</td>\n",
       "      <td>0</td>\n",
       "      <td>0</td>\n",
       "      <td>0</td>\n",
       "      <td>0</td>\n",
       "      <td>0</td>\n",
       "      <td>0</td>\n",
       "    </tr>\n",
       "    <tr>\n",
       "      <th>1</th>\n",
       "      <td>2</td>\n",
       "      <td>GoldenEye (1995)</td>\n",
       "      <td>01-Jan-1995</td>\n",
       "      <td>NaN</td>\n",
       "      <td>http://us.imdb.com/M/title-exact?GoldenEye%20(1995)</td>\n",
       "      <td>0</td>\n",
       "      <td>1</td>\n",
       "      <td>1</td>\n",
       "      <td>0</td>\n",
       "      <td>0</td>\n",
       "      <td>...</td>\n",
       "      <td>0</td>\n",
       "      <td>0</td>\n",
       "      <td>0</td>\n",
       "      <td>0</td>\n",
       "      <td>0</td>\n",
       "      <td>0</td>\n",
       "      <td>0</td>\n",
       "      <td>0</td>\n",
       "      <td>1</td>\n",
       "      <td>0</td>\n",
       "    </tr>\n",
       "    <tr>\n",
       "      <th>2</th>\n",
       "      <td>3</td>\n",
       "      <td>Four Rooms (1995)</td>\n",
       "      <td>01-Jan-1995</td>\n",
       "      <td>NaN</td>\n",
       "      <td>http://us.imdb.com/M/title-exact?Four%20Rooms%20(1995)</td>\n",
       "      <td>0</td>\n",
       "      <td>0</td>\n",
       "      <td>0</td>\n",
       "      <td>0</td>\n",
       "      <td>0</td>\n",
       "      <td>...</td>\n",
       "      <td>0</td>\n",
       "      <td>0</td>\n",
       "      <td>0</td>\n",
       "      <td>0</td>\n",
       "      <td>0</td>\n",
       "      <td>0</td>\n",
       "      <td>0</td>\n",
       "      <td>0</td>\n",
       "      <td>1</td>\n",
       "      <td>0</td>\n",
       "    </tr>\n",
       "    <tr>\n",
       "      <th>3</th>\n",
       "      <td>4</td>\n",
       "      <td>Get Shorty (1995)</td>\n",
       "      <td>01-Jan-1995</td>\n",
       "      <td>NaN</td>\n",
       "      <td>http://us.imdb.com/M/title-exact?Get%20Shorty%20(1995)</td>\n",
       "      <td>0</td>\n",
       "      <td>1</td>\n",
       "      <td>0</td>\n",
       "      <td>0</td>\n",
       "      <td>0</td>\n",
       "      <td>...</td>\n",
       "      <td>1</td>\n",
       "      <td>0</td>\n",
       "      <td>0</td>\n",
       "      <td>0</td>\n",
       "      <td>0</td>\n",
       "      <td>0</td>\n",
       "      <td>0</td>\n",
       "      <td>0</td>\n",
       "      <td>0</td>\n",
       "      <td>0</td>\n",
       "    </tr>\n",
       "    <tr>\n",
       "      <th>4</th>\n",
       "      <td>5</td>\n",
       "      <td>Copycat (1995)</td>\n",
       "      <td>01-Jan-1995</td>\n",
       "      <td>NaN</td>\n",
       "      <td>http://us.imdb.com/M/title-exact?Copycat%20(1995)</td>\n",
       "      <td>0</td>\n",
       "      <td>0</td>\n",
       "      <td>0</td>\n",
       "      <td>0</td>\n",
       "      <td>0</td>\n",
       "      <td>...</td>\n",
       "      <td>1</td>\n",
       "      <td>0</td>\n",
       "      <td>0</td>\n",
       "      <td>0</td>\n",
       "      <td>0</td>\n",
       "      <td>0</td>\n",
       "      <td>0</td>\n",
       "      <td>0</td>\n",
       "      <td>1</td>\n",
       "      <td>0</td>\n",
       "    </tr>\n",
       "  </tbody>\n",
       "</table>\n",
       "<p>5 rows × 23 columns</p>\n",
       "</div>"
      ],
      "text/plain": [
       "   movie_id              title release date  video release date  \\\n",
       "0  1         Toy Story (1995)   01-Jan-1995 NaN                   \n",
       "1  2         GoldenEye (1995)   01-Jan-1995 NaN                   \n",
       "2  3         Four Rooms (1995)  01-Jan-1995 NaN                   \n",
       "3  4         Get Shorty (1995)  01-Jan-1995 NaN                   \n",
       "4  5         Copycat (1995)     01-Jan-1995 NaN                   \n",
       "\n",
       "                                                 IMDb URL  unknown  Action  \\\n",
       "0  http://us.imdb.com/M/title-exact?Toy%20Story%20(1995)   0        0        \n",
       "1  http://us.imdb.com/M/title-exact?GoldenEye%20(1995)     0        1        \n",
       "2  http://us.imdb.com/M/title-exact?Four%20Rooms%20(1995)  0        0        \n",
       "3  http://us.imdb.com/M/title-exact?Get%20Shorty%20(1995)  0        1        \n",
       "4  http://us.imdb.com/M/title-exact?Copycat%20(1995)       0        0        \n",
       "\n",
       "   Adventure  Animation  Children's  ...  Drama  FantasyFilm-Noir  Horror  \\\n",
       "0  0          1          1           ...  0      0                 0        \n",
       "1  1          0          0           ...  0      0                 0        \n",
       "2  0          0          0           ...  0      0                 0        \n",
       "3  0          0          0           ...  1      0                 0        \n",
       "4  0          0          0           ...  1      0                 0        \n",
       "\n",
       "   Musical  Mystery  Romance  Sci-Fi  Thriller  War  Western  \n",
       "0  0        0        0        0       0         0    0        \n",
       "1  0        0        0        0       0         1    0        \n",
       "2  0        0        0        0       0         1    0        \n",
       "3  0        0        0        0       0         0    0        \n",
       "4  0        0        0        0       0         1    0        \n",
       "\n",
       "[5 rows x 23 columns]"
      ]
     },
     "execution_count": 227,
     "metadata": {},
     "output_type": "execute_result"
    }
   ],
   "source": [
    "item_df = pd.read_csv('u.item', sep='|', encoding = \"ISO-8859-1\", names=[ \"movie_id\", \"title\", \"release date\",\"video release date\",\n",
    "              \"IMDb URL\", \"unknown\", \"Action\",\"Adventure\",\"Animation\",\"Children's\",\"Comedy\", \"Crime\", \"Documentary\", \"Drama\", \"Fantasy\"\n",
    "              \"Film-Noir\", \"Horror\", \"Musical\", \"Mystery\", \"Romance\" ,\"Sci-Fi\",\n",
    "              \"Thriller\",\"War\", \"Western\"], index_col=False)\n",
    "item_df.head()"
   ]
  },
  {
   "cell_type": "code",
   "execution_count": 231,
   "metadata": {},
   "outputs": [],
   "source": [
    "merged_df = reduced_df.merge(item_df[[\"movie_id\",\"title\"]], on =\"movie_id\")"
   ]
  },
  {
   "cell_type": "code",
   "execution_count": 236,
   "metadata": {},
   "outputs": [
    {
     "data": {
      "text/html": [
       "<div>\n",
       "<style scoped>\n",
       "    .dataframe tbody tr th:only-of-type {\n",
       "        vertical-align: middle;\n",
       "    }\n",
       "\n",
       "    .dataframe tbody tr th {\n",
       "        vertical-align: top;\n",
       "    }\n",
       "\n",
       "    .dataframe thead th {\n",
       "        text-align: right;\n",
       "    }\n",
       "</style>\n",
       "<table border=\"1\" class=\"dataframe\">\n",
       "  <thead>\n",
       "    <tr style=\"text-align: right;\">\n",
       "      <th></th>\n",
       "      <th>user</th>\n",
       "      <th>movie_id</th>\n",
       "      <th>title</th>\n",
       "      <th>rating</th>\n",
       "    </tr>\n",
       "  </thead>\n",
       "  <tbody>\n",
       "    <tr>\n",
       "      <th>0</th>\n",
       "      <td>0</td>\n",
       "      <td>203</td>\n",
       "      <td>Unforgiven (1992)</td>\n",
       "      <td>0</td>\n",
       "    </tr>\n",
       "    <tr>\n",
       "      <th>170</th>\n",
       "      <td>0</td>\n",
       "      <td>735</td>\n",
       "      <td>Philadelphia (1993)</td>\n",
       "      <td>0</td>\n",
       "    </tr>\n",
       "    <tr>\n",
       "      <th>301</th>\n",
       "      <td>0</td>\n",
       "      <td>520</td>\n",
       "      <td>Great Escape, The (1963)</td>\n",
       "      <td>0</td>\n",
       "    </tr>\n",
       "    <tr>\n",
       "      <th>417</th>\n",
       "      <td>0</td>\n",
       "      <td>140</td>\n",
       "      <td>Homeward Bound: The Incredible Journey (1993)</td>\n",
       "      <td>0</td>\n",
       "    </tr>\n",
       "    <tr>\n",
       "      <th>472</th>\n",
       "      <td>0</td>\n",
       "      <td>519</td>\n",
       "      <td>Treasure of the Sierra Madre, The (1948)</td>\n",
       "      <td>0</td>\n",
       "    </tr>\n",
       "    <tr>\n",
       "      <th>547</th>\n",
       "      <td>0</td>\n",
       "      <td>272</td>\n",
       "      <td>Good Will Hunting (1997)</td>\n",
       "      <td>1</td>\n",
       "    </tr>\n",
       "    <tr>\n",
       "      <th>707</th>\n",
       "      <td>0</td>\n",
       "      <td>1126</td>\n",
       "      <td>Old Man and the Sea, The (1958)</td>\n",
       "      <td>0</td>\n",
       "    </tr>\n",
       "    <tr>\n",
       "      <th>738</th>\n",
       "      <td>0</td>\n",
       "      <td>1107</td>\n",
       "      <td>Beyond Rangoon (1995)</td>\n",
       "      <td>0</td>\n",
       "    </tr>\n",
       "    <tr>\n",
       "      <th>755</th>\n",
       "      <td>0</td>\n",
       "      <td>528</td>\n",
       "      <td>Killing Fields, The (1984)</td>\n",
       "      <td>0</td>\n",
       "    </tr>\n",
       "    <tr>\n",
       "      <th>867</th>\n",
       "      <td>0</td>\n",
       "      <td>480</td>\n",
       "      <td>North by Northwest (1959)</td>\n",
       "      <td>0</td>\n",
       "    </tr>\n",
       "    <tr>\n",
       "      <th>1027</th>\n",
       "      <td>0</td>\n",
       "      <td>614</td>\n",
       "      <td>Giant (1956)</td>\n",
       "      <td>0</td>\n",
       "    </tr>\n",
       "    <tr>\n",
       "      <th>1077</th>\n",
       "      <td>0</td>\n",
       "      <td>357</td>\n",
       "      <td>One Flew Over the Cuckoo's Nest (1975)</td>\n",
       "      <td>0</td>\n",
       "    </tr>\n",
       "    <tr>\n",
       "      <th>1320</th>\n",
       "      <td>0</td>\n",
       "      <td>686</td>\n",
       "      <td>Perfect World, A (1993)</td>\n",
       "      <td>0</td>\n",
       "    </tr>\n",
       "    <tr>\n",
       "      <th>1369</th>\n",
       "      <td>0</td>\n",
       "      <td>28</td>\n",
       "      <td>Apollo 13 (1995)</td>\n",
       "      <td>0</td>\n",
       "    </tr>\n",
       "    <tr>\n",
       "      <th>1618</th>\n",
       "      <td>0</td>\n",
       "      <td>258</td>\n",
       "      <td>Contact (1997)</td>\n",
       "      <td>0</td>\n",
       "    </tr>\n",
       "    <tr>\n",
       "      <th>2030</th>\n",
       "      <td>0</td>\n",
       "      <td>285</td>\n",
       "      <td>Secrets &amp; Lies (1996)</td>\n",
       "      <td>0</td>\n",
       "    </tr>\n",
       "    <tr>\n",
       "      <th>2173</th>\n",
       "      <td>0</td>\n",
       "      <td>736</td>\n",
       "      <td>Shadowlands (1993)</td>\n",
       "      <td>0</td>\n",
       "    </tr>\n",
       "    <tr>\n",
       "      <th>2243</th>\n",
       "      <td>0</td>\n",
       "      <td>172</td>\n",
       "      <td>Empire Strikes Back, The (1980)</td>\n",
       "      <td>0</td>\n",
       "    </tr>\n",
       "    <tr>\n",
       "      <th>2573</th>\n",
       "      <td>0</td>\n",
       "      <td>76</td>\n",
       "      <td>Carlito's Way (1993)</td>\n",
       "      <td>0</td>\n",
       "    </tr>\n",
       "    <tr>\n",
       "      <th>2626</th>\n",
       "      <td>0</td>\n",
       "      <td>474</td>\n",
       "      <td>Dr. Strangelove or: How I Learned to Stop Worrying and Love the Bomb (1963)</td>\n",
       "      <td>0</td>\n",
       "    </tr>\n",
       "  </tbody>\n",
       "</table>\n",
       "</div>"
      ],
      "text/plain": [
       "      user  movie_id  \\\n",
       "0     0     203        \n",
       "170   0     735        \n",
       "301   0     520        \n",
       "417   0     140        \n",
       "472   0     519        \n",
       "547   0     272        \n",
       "707   0     1126       \n",
       "738   0     1107       \n",
       "755   0     528        \n",
       "867   0     480        \n",
       "1027  0     614        \n",
       "1077  0     357        \n",
       "1320  0     686        \n",
       "1369  0     28         \n",
       "1618  0     258        \n",
       "2030  0     285        \n",
       "2173  0     736        \n",
       "2243  0     172        \n",
       "2573  0     76         \n",
       "2626  0     474        \n",
       "\n",
       "                                                                            title  \\\n",
       "0     Unforgiven (1992)                                                             \n",
       "170   Philadelphia (1993)                                                           \n",
       "301   Great Escape, The (1963)                                                      \n",
       "417   Homeward Bound: The Incredible Journey (1993)                                 \n",
       "472   Treasure of the Sierra Madre, The (1948)                                      \n",
       "547   Good Will Hunting (1997)                                                      \n",
       "707   Old Man and the Sea, The (1958)                                               \n",
       "738   Beyond Rangoon (1995)                                                         \n",
       "755   Killing Fields, The (1984)                                                    \n",
       "867   North by Northwest (1959)                                                     \n",
       "1027  Giant (1956)                                                                  \n",
       "1077  One Flew Over the Cuckoo's Nest (1975)                                        \n",
       "1320  Perfect World, A (1993)                                                       \n",
       "1369  Apollo 13 (1995)                                                              \n",
       "1618  Contact (1997)                                                                \n",
       "2030  Secrets & Lies (1996)                                                         \n",
       "2173  Shadowlands (1993)                                                            \n",
       "2243  Empire Strikes Back, The (1980)                                               \n",
       "2573  Carlito's Way (1993)                                                          \n",
       "2626  Dr. Strangelove or: How I Learned to Stop Worrying and Love the Bomb (1963)   \n",
       "\n",
       "      rating  \n",
       "0     0       \n",
       "170   0       \n",
       "301   0       \n",
       "417   0       \n",
       "472   0       \n",
       "547   1       \n",
       "707   0       \n",
       "738   0       \n",
       "755   0       \n",
       "867   0       \n",
       "1027  0       \n",
       "1077  0       \n",
       "1320  0       \n",
       "1369  0       \n",
       "1618  0       \n",
       "2030  0       \n",
       "2173  0       \n",
       "2243  0       \n",
       "2573  0       \n",
       "2626  0       "
      ]
     },
     "execution_count": 236,
     "metadata": {},
     "output_type": "execute_result"
    }
   ],
   "source": [
    "user_idx=0\n",
    "no_of_items = 15\n",
    "merged_df[merged_df.user==user_idx][[\"user\",\"movie_id\", \"title\", \"rating\"]].head(20)"
   ]
  },
  {
   "cell_type": "code",
   "execution_count": 229,
   "metadata": {},
   "outputs": [
    {
     "data": {
      "text/html": [
       "<div>\n",
       "<style scoped>\n",
       "    .dataframe tbody tr th:only-of-type {\n",
       "        vertical-align: middle;\n",
       "    }\n",
       "\n",
       "    .dataframe tbody tr th {\n",
       "        vertical-align: top;\n",
       "    }\n",
       "\n",
       "    .dataframe thead th {\n",
       "        text-align: right;\n",
       "    }\n",
       "</style>\n",
       "<table border=\"1\" class=\"dataframe\">\n",
       "  <thead>\n",
       "    <tr style=\"text-align: right;\">\n",
       "      <th></th>\n",
       "      <th>title</th>\n",
       "      <th>distances</th>\n",
       "    </tr>\n",
       "  </thead>\n",
       "  <tbody>\n",
       "    <tr>\n",
       "      <th>8</th>\n",
       "      <td>Shawshank Redemption, The (1994)</td>\n",
       "      <td>5.575968</td>\n",
       "    </tr>\n",
       "    <tr>\n",
       "      <th>7</th>\n",
       "      <td>Madness of King George, The (1994)</td>\n",
       "      <td>6.774959</td>\n",
       "    </tr>\n",
       "    <tr>\n",
       "      <th>12</th>\n",
       "      <td>Lawnmower Man, The (1992)</td>\n",
       "      <td>7.196866</td>\n",
       "    </tr>\n",
       "    <tr>\n",
       "      <th>5</th>\n",
       "      <td>Mad Love (1995)</td>\n",
       "      <td>8.091030</td>\n",
       "    </tr>\n",
       "    <tr>\n",
       "      <th>4</th>\n",
       "      <td>Free Willy 2: The Adventure Home (1995)</td>\n",
       "      <td>8.509869</td>\n",
       "    </tr>\n",
       "    <tr>\n",
       "      <th>0</th>\n",
       "      <td>Get Shorty (1995)</td>\n",
       "      <td>9.445670</td>\n",
       "    </tr>\n",
       "    <tr>\n",
       "      <th>15</th>\n",
       "      <td>12 Angry Men (1957)</td>\n",
       "      <td>9.581314</td>\n",
       "    </tr>\n",
       "    <tr>\n",
       "      <th>6</th>\n",
       "      <td>To Wong Foo, Thanks for Everything! Julie Newmar (1995)</td>\n",
       "      <td>10.858761</td>\n",
       "    </tr>\n",
       "    <tr>\n",
       "      <th>16</th>\n",
       "      <td>GoodFellas (1990)</td>\n",
       "      <td>11.066724</td>\n",
       "    </tr>\n",
       "    <tr>\n",
       "      <th>9</th>\n",
       "      <td>Carlito's Way (1993)</td>\n",
       "      <td>12.295348</td>\n",
       "    </tr>\n",
       "    <tr>\n",
       "      <th>2</th>\n",
       "      <td>Usual Suspects, The (1995)</td>\n",
       "      <td>12.347831</td>\n",
       "    </tr>\n",
       "    <tr>\n",
       "      <th>3</th>\n",
       "      <td>White Balloon, The (1995)</td>\n",
       "      <td>12.824779</td>\n",
       "    </tr>\n",
       "    <tr>\n",
       "      <th>13</th>\n",
       "      <td>Jude (1996)</td>\n",
       "      <td>13.883044</td>\n",
       "    </tr>\n",
       "    <tr>\n",
       "      <th>10</th>\n",
       "      <td>Moll Flanders (1996)</td>\n",
       "      <td>17.268188</td>\n",
       "    </tr>\n",
       "    <tr>\n",
       "      <th>17</th>\n",
       "      <td>Alien (1979)</td>\n",
       "      <td>19.321907</td>\n",
       "    </tr>\n",
       "  </tbody>\n",
       "</table>\n",
       "</div>"
      ],
      "text/plain": [
       "                                                      title  distances\n",
       "8   Shawshank Redemption, The (1994)                         5.575968 \n",
       "7   Madness of King George, The (1994)                       6.774959 \n",
       "12  Lawnmower Man, The (1992)                                7.196866 \n",
       "5   Mad Love (1995)                                          8.091030 \n",
       "4   Free Willy 2: The Adventure Home (1995)                  8.509869 \n",
       "0   Get Shorty (1995)                                        9.445670 \n",
       "15  12 Angry Men (1957)                                      9.581314 \n",
       "6   To Wong Foo, Thanks for Everything! Julie Newmar (1995)  10.858761\n",
       "16  GoodFellas (1990)                                        11.066724\n",
       "9   Carlito's Way (1993)                                     12.295348\n",
       "2   Usual Suspects, The (1995)                               12.347831\n",
       "3   White Balloon, The (1995)                                12.824779\n",
       "13  Jude (1996)                                              13.883044\n",
       "10  Moll Flanders (1996)                                     17.268188\n",
       "17  Alien (1979)                                             19.321907"
      ]
     },
     "execution_count": 229,
     "metadata": {},
     "output_type": "execute_result"
    }
   ],
   "source": [
    "def get_user_recommendations(user_idx, no_of_items):\n",
    "    count = 0\n",
    "    count = count + 1\n",
    "    predictions=json.loads(results[user_idx])\n",
    "    pred_df = pd.DataFrame(predictions)\n",
    "    final_pred_df=item_df.merge(pred_df, left_on=\"movie_id\", right_on=\"labels\")\n",
    "    rec_df = final_pred_df.sort_values(by=[\"distances\"])[[\"title\", \"distances\"]].head(no_of_items)\n",
    "    return rec_df\n",
    "get_user_recommendations(user_idx, no_of_items)"
   ]
  },
  {
   "cell_type": "markdown",
   "metadata": {},
   "source": [
    "# Method\n",
    "\n",
    "## 1. Which model did you select, and why?\n",
    "\n",
    "As we have build a Recommender System, we have picked an algorithm which can efficiently deal with Sparse data sets, factorization machine. Factorization Machine is highly scalable and designed to efficiently translate high dimension data to a lower dimension. We followed the blog post to find `user-item` affinity score and then built TopN recommender by applying `K-Nearest Neighbors`. It would be interesting to create another recommendation models using other popular algorithms like: \n",
    "- `Restricted Boltzman Machine`\n",
    "- `Object2Vec`\n",
    "- `Auto-encoders`\n",
    "- `SVD++` \n",
    "\n",
    "and perform `AB test`.\n",
    "\n",
    "\n",
    "## 2. How are you evaluating your model?\n",
    "\n",
    "I have framed the problem statement as a Classification problem and therefore evaluated model based on `accuracy`. However, evaluating a Recommender System based on only accuracy would not be wise as our end objective is to optimize based on the Top N recommendations(metrics like `Average reciprocal Hit Rate` or `Discounted Cummulative Gain`).\n",
    "\n",
    "## 3. Is your model overfitting, and what are you doing to counteract that?\n",
    "\n",
    "The model was overfitting earlier when number of latent factors(`hyperparameter=num_factors`) was high. Reducing the number improved the model accuracy.\n",
    "\n",
    "## 3. What are the limitations of your model, and what are its strong points?\n",
    "\n",
    "Limitations:\n",
    "- Model interpretability is an issue when dealing with `Factorization Machine`.\n",
    "- As `K-Nearest Neighbors` is a memory based approach it may lead to scalibility issues with large datasets. I have been able to use it easily with a dataset having several million datapoints but definitely it would be a problem when the scale of the problem increases further.\n",
    "\n",
    "Strong points:\n",
    "- `Factorization Machine` is popular and open source algorithm so it is easy to come up with custom receipe using it\n",
    "- `K-Nearest Negihbors` is highly intuitive\n",
    "\n",
    "\n",
    "## What are the guardrails on the your model performance metrics? What is the minimum and maximum accuracy you expect to achieve?\n",
    "\n",
    "\n",
    "\n",
    "As we framed our problem as classification problem(whether user will `Like` an item or `Dislike`), we used `Accuracy` as our primary performance metric. \n",
    "\n",
    "- Best accuracy: 0.8268082141876221\n",
    "- Minimum accuracy: 0.25149303674697876\n",
    "\n"
   ]
  },
  {
   "cell_type": "markdown",
   "metadata": {},
   "source": [
    "# Additional References\n",
    "---\n",
    "\n",
    "## Factorization Machine\n",
    "\n",
    "- Factorization machines combine linear prediction with a factorized representation of pairwise feature interaction\n",
    "- The global bias and linear terms are the same as in a linear model. The pairwise feature interactions are modeled in the third term as the inner product of the corresponding factors learned for each feature. Learned factors can also be considered as embedding vectors for each feature.\n",
    "\n",
    "$$\\hat{r} = w_0 + \\sum_{i} {w_i x_i} + \\sum_{i} {\\sum_{j > i} {\\langle v_i, v_j \\rangle x_i x_j}}$$\n",
    "\n",
    "- This is the original research paper on __factorization machines__, [this paper](https://www.csie.ntu.edu.tw/~b97053/paper/Rendle2010FM.pdf)\n",
    "\n",
    "## Hyperparameter Optimization\n",
    "\n",
    "I have referred following book and research papers for choosing the optimal hyperparameter:\n",
    "- http://www.deeplearningbook.org/contents/optimization.html\n",
    "- http://www.deeplearningbook.org/contents/numerical.html\n",
    "- https://arxiv.org/abs/1609.04836 "
   ]
  },
  {
   "cell_type": "code",
   "execution_count": null,
   "metadata": {},
   "outputs": [],
   "source": []
  }
 ],
 "metadata": {
  "celltoolbar": "Tags",
  "kernelspec": {
   "display_name": "conda_amazonei_mxnet_p36",
   "language": "python",
   "name": "conda_amazonei_mxnet_p36"
  },
  "language_info": {
   "codemirror_mode": {
    "name": "ipython",
    "version": 3
   },
   "file_extension": ".py",
   "mimetype": "text/x-python",
   "name": "python",
   "nbconvert_exporter": "python",
   "pygments_lexer": "ipython3",
   "version": "3.6.5"
  },
  "notice": "Copyright 2017 Amazon.com, Inc. or its affiliates. All Rights Reserved.  Licensed under the Apache License, Version 2.0 (the \"License\"). You may not use this file except in compliance with the License. A copy of the License is located at http://aws.amazon.com/apache2.0/ or in the \"license\" file accompanying this file. This file is distributed on an \"AS IS\" BASIS, WITHOUT WARRANTIES OR CONDITIONS OF ANY KIND, either express or implied. See the License for the specific language governing permissions and limitations under the License."
 },
 "nbformat": 4,
 "nbformat_minor": 2
}
